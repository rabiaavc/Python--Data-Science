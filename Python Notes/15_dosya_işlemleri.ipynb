{
 "cells": [
  {
   "cell_type": "markdown",
   "metadata": {},
   "source": [
    "## <code>open()</code>\n",
    "\n",
    "#### 1.parametre - dosyaAdi\n",
    "\n",
    "#### 2.parametre - İşlem\n",
    "\n",
    "\"r\"\tOkuma modu (Varsayılan)\n",
    "\n",
    "\"w\"\tYazma modu (Dosya yoksa oluşturur, varsa içeriği siler!)\n",
    "\n",
    "\"a\"\tEkleme modu (Dosyanın sonuna ekleme yapar)\n",
    "\n",
    "\"x\"\tYeni dosya oluşturur (Var olan dosya varsa hata verir)\n",
    "\n",
    "\"b\"\tBinary (ikili) mod (Resim, video, PDF vb. dosyalar için)\n",
    "\n",
    "\"t\"\tMetin (text) modu (Varsayılan olarak kullanılır)\n",
    "\n",
    "#### 3.Parametre encoding dosyaya hangi karakter seti ile yazacağımızı söyler"
   ]
  },
  {
   "cell_type": "markdown",
   "metadata": {},
   "source": [
    "## Dosya Okuma İşlemleri"
   ]
  },
  {
   "cell_type": "markdown",
   "metadata": {},
   "source": [
    "<code>read()</code> : bir string olarak dosya içerini döndürür"
   ]
  },
  {
   "cell_type": "code",
   "execution_count": 2,
   "metadata": {},
   "outputs": [
    {
     "name": "stdout",
     "output_type": "stream",
     "text": [
      "8.0 Kahvaltı \n",
      "9:0 Koşu \n",
      "10:00 Email Okuma \n",
      "10:30 Çalışma \n",
      "17:00 Dinlenme \n",
      "19:00 Çalışma \n",
      "21:00 Serbest Zaman \n",
      "24:00 Yatma \n"
     ]
    }
   ],
   "source": [
    "dosya = open(\"planlar.txt\",\"r\",encoding=\"utf-8\")\n",
    "print(dosya.read()) \n",
    "dosya.close()\n"
   ]
  },
  {
   "cell_type": "markdown",
   "metadata": {},
   "source": [
    "Eğer içine parametre girersem imleç girdiğim parametre kadar karakter okur ve orada kalır"
   ]
  },
  {
   "cell_type": "code",
   "execution_count": 3,
   "metadata": {},
   "outputs": [
    {
     "name": "stdout",
     "output_type": "stream",
     "text": [
      "8.0 Kahvaltı \n",
      "\n"
     ]
    }
   ],
   "source": [
    "dosya = open(\"planlar.txt\",\"r\",encoding=\"utf-8\")\n",
    "print(dosya.read(14)) #Eğer parametre girersem oraya kadar okur\n",
    "dosya.close()"
   ]
  },
  {
   "cell_type": "markdown",
   "metadata": {},
   "source": [
    "<code>readline()</code> : \\n görene kadar okur fazla değer girilse bile \\n de durur"
   ]
  },
  {
   "cell_type": "code",
   "execution_count": 4,
   "metadata": {},
   "outputs": [
    {
     "name": "stdout",
     "output_type": "stream",
     "text": [
      "8.0 Kahvaltı \n",
      "\n"
     ]
    }
   ],
   "source": [
    "dosya = open(\"planlar.txt\",\"r\",encoding=\"utf-8\")\n",
    "print(dosya.readline(50)) \n",
    "dosya.close()"
   ]
  },
  {
   "cell_type": "code",
   "execution_count": 5,
   "metadata": {},
   "outputs": [
    {
     "name": "stdout",
     "output_type": "stream",
     "text": [
      "8.0 Kahvaltı \n",
      "9:0 Ko\n",
      "şu \n",
      "\n"
     ]
    }
   ],
   "source": [
    "dosya = open(\"planlar.txt\",\"r\",encoding=\"utf-8\")\n",
    "print(dosya.read(20)) #girdiğim index değeri kadar karakter okuyor\n",
    "print(dosya.readline()) #imlecin kaldığı yerden satır sonuna kodur okuyor\n",
    "dosya.close()"
   ]
  },
  {
   "cell_type": "markdown",
   "metadata": {},
   "source": [
    "<code>readlines()</code>: her satırı bir liste elamanına dönüştür ve tüm dosyayı bir listede tutar"
   ]
  },
  {
   "cell_type": "code",
   "execution_count": 6,
   "metadata": {},
   "outputs": [
    {
     "name": "stdout",
     "output_type": "stream",
     "text": [
      "8.0 Kahvaltı \n",
      "\n"
     ]
    }
   ],
   "source": [
    "dosya = open(\"planlar.txt\",\"r\",encoding=\"utf-8\")\n",
    "dosya_liste = dosya.readlines()\n",
    "print(dosya_liste[0]) \n",
    "dosya.close()"
   ]
  },
  {
   "cell_type": "markdown",
   "metadata": {},
   "source": [
    "<code>tell()</code> : imlecin hangi indexte olduğunu gösterir"
   ]
  },
  {
   "cell_type": "code",
   "execution_count": 7,
   "metadata": {},
   "outputs": [
    {
     "name": "stdout",
     "output_type": "stream",
     "text": [
      "56\n"
     ]
    }
   ],
   "source": [
    "dosya = open(\"planlar.txt\",\"r\",encoding=\"utf-8\")\n",
    "dosya.read(50)\n",
    "print(dosya.tell()) \n",
    "dosya.close()"
   ]
  },
  {
   "cell_type": "markdown",
   "metadata": {},
   "source": [
    "<code>seek()</code> : imlecin yerini ayarlama için kullanılır"
   ]
  },
  {
   "cell_type": "code",
   "execution_count": 8,
   "metadata": {},
   "outputs": [
    {
     "name": "stdout",
     "output_type": "stream",
     "text": [
      "8.0 Kahvaltı \n",
      "9:0 Koşu \n",
      "10:00 Email Okuma \n",
      "10:30 Ç\n",
      "\n",
      "\n",
      "56\n",
      "8.0 Kahvaltı \n",
      "9:0 Ko\n"
     ]
    }
   ],
   "source": [
    "dosya = open(\"planlar.txt\",\"r\",encoding=\"utf-8\")\n",
    "print(dosya.read(50))\n",
    "print(\"\\n\")\n",
    "print(dosya.tell())\n",
    "dosya.seek(0) #imlecin yerini ayarlayabiliyorum\n",
    "print(dosya.read(20))\n",
    "dosya.close()\n"
   ]
  },
  {
   "cell_type": "markdown",
   "metadata": {},
   "source": [
    "## Dosya Yazma İşlemleri"
   ]
  },
  {
   "cell_type": "markdown",
   "metadata": {},
   "source": [
    "<code>"
   ]
  },
  {
   "cell_type": "code",
   "execution_count": 9,
   "metadata": {},
   "outputs": [],
   "source": [
    "dosya = open(\"planlar2.txt\",\"w\",encoding = \"utf-8\")\n"
   ]
  },
  {
   "cell_type": "markdown",
   "metadata": {},
   "source": [
    "### write()"
   ]
  },
  {
   "cell_type": "code",
   "execution_count": null,
   "metadata": {},
   "outputs": [
    {
     "data": {
      "text/plain": [
       "10"
      ]
     },
     "execution_count": 11,
     "metadata": {},
     "output_type": "execute_result"
    }
   ],
   "source": [
    "dosya = open(\"planlar2.txt\",\"w\",encoding = \"utf-8\")\n",
    "dosya.write(\"Rabia Avcı\")\n",
    "dosya.close()"
   ]
  },
  {
   "cell_type": "markdown",
   "metadata": {},
   "source": [
    "### writelines()"
   ]
  },
  {
   "cell_type": "code",
   "execution_count": 17,
   "metadata": {},
   "outputs": [],
   "source": [
    "dosya = open(\"planlar2.txt\",\"w\",encoding = \"utf-8\")\n",
    "dosya.writelines([\"7:30 Kahvaltı \\n\",\"9:00 Koşu \\n\",\"11:00 Kitap Okuma \\n\"])\n",
    "dosya.close()"
   ]
  },
  {
   "cell_type": "code",
   "execution_count": 18,
   "metadata": {},
   "outputs": [],
   "source": [
    "dosya = open(\"planlar2.txt\",\"a\",encoding = \"utf-8\")\n",
    "dosya.write(\"12:00 Gezi\")\n",
    "dosya.close()"
   ]
  },
  {
   "cell_type": "code",
   "execution_count": 20,
   "metadata": {},
   "outputs": [],
   "source": [
    "with open(\"planlar2.txt\",\"a\",encoding = \"utf-8\") as dosya:\n",
    "    dosya.write(\"\\n14:00 Kitap okumak\")"
   ]
  }
 ],
 "metadata": {
  "kernelspec": {
   "display_name": "base",
   "language": "python",
   "name": "python3"
  },
  "language_info": {
   "codemirror_mode": {
    "name": "ipython",
    "version": 3
   },
   "file_extension": ".py",
   "mimetype": "text/x-python",
   "name": "python",
   "nbconvert_exporter": "python",
   "pygments_lexer": "ipython3",
   "version": "3.12.4"
  }
 },
 "nbformat": 4,
 "nbformat_minor": 2
}
