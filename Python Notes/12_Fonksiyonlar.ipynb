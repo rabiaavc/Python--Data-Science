{
 "cells": [
  {
   "cell_type": "markdown",
   "metadata": {},
   "source": [
    "# Fonksiyonlar"
   ]
  },
  {
   "cell_type": "code",
   "execution_count": 1,
   "metadata": {},
   "outputs": [
    {
     "name": "stdout",
     "output_type": "stream",
     "text": [
      "rabia avcı\n",
      "None\n"
     ]
    }
   ],
   "source": [
    "def topla(sayi,yazi):\n",
    "    for i in range(sayi):\n",
    "        print(yazi)\n",
    "\n",
    "def goster():\n",
    "    return print(\"rabia avcı\")\n",
    "\n",
    "print(goster())"
   ]
  },
  {
   "cell_type": "code",
   "execution_count": 2,
   "metadata": {},
   "outputs": [
    {
     "name": "stdout",
     "output_type": "stream",
     "text": [
      "rabia avcı\n"
     ]
    }
   ],
   "source": [
    "def goster():\n",
    "    return \"rabia avcı\"\n",
    "\n",
    "print(goster())"
   ]
  },
  {
   "cell_type": "markdown",
   "metadata": {},
   "source": [
    "### 1) Gelecek parametrelerin değerini tutan boş değişken ile değer alan fonksiyonlar"
   ]
  },
  {
   "cell_type": "code",
   "execution_count": 3,
   "metadata": {},
   "outputs": [
    {
     "name": "stdout",
     "output_type": "stream",
     "text": [
      "10\n"
     ]
    }
   ],
   "source": [
    "def kucuk(a,b):\n",
    "    if a<b:\n",
    "        return a\n",
    "    elif b<a:\n",
    "        return b\n",
    "    else:\n",
    "        return a\n",
    "\n",
    "print(kucuk(10,20))"
   ]
  },
  {
   "cell_type": "markdown",
   "metadata": {},
   "source": [
    "### 2) Sayısı belli olmayacak şekilde alınan parametreler"
   ]
  },
  {
   "cell_type": "code",
   "execution_count": 8,
   "metadata": {},
   "outputs": [
    {
     "name": "stdout",
     "output_type": "stream",
     "text": [
      "172\n"
     ]
    }
   ],
   "source": [
    "def topla(*sayilar):\n",
    "    toplam = 0\n",
    "    for sayi in sayilar:\n",
    "        toplam += sayi\n",
    "    return toplam\n",
    "\n",
    "print(topla(10,12,40,50,60))"
   ]
  },
  {
   "cell_type": "markdown",
   "metadata": {},
   "source": [
    "### 3) Varsayılan Parametre: Eğer varsayılan parametreye değer atanmamışsa varsayılan değer parametreye  atanır."
   ]
  },
  {
   "cell_type": "code",
   "execution_count": 11,
   "metadata": {},
   "outputs": [
    {
     "data": {
      "text/plain": [
       "9"
      ]
     },
     "execution_count": 11,
     "metadata": {},
     "output_type": "execute_result"
    }
   ],
   "source": [
    "def kuvvetAl(sayi,kuvvet = 2):\n",
    "    return sayi**kuvvet\n",
    "\n",
    "kuvvetAl(3)\n",
    "\n"
   ]
  },
  {
   "cell_type": "code",
   "execution_count": 12,
   "metadata": {},
   "outputs": [
    {
     "data": {
      "text/plain": [
       "9"
      ]
     },
     "execution_count": 12,
     "metadata": {},
     "output_type": "execute_result"
    }
   ],
   "source": [
    "kuvvetAl(3,2)"
   ]
  },
  {
   "cell_type": "markdown",
   "metadata": {},
   "source": [
    "### 4) **değişkenadı : dictionary objesi olarak değer alır"
   ]
  },
  {
   "cell_type": "code",
   "execution_count": 18,
   "metadata": {},
   "outputs": [
    {
     "name": "stdout",
     "output_type": "stream",
     "text": [
      "rabia 22\n",
      "tuana 17\n"
     ]
    }
   ],
   "source": [
    "def degeriGoster(**degerler):\n",
    "    for anahtar,deger in degerler.items():\n",
    "        print(anahtar,deger)\n",
    "       \n",
    "\n",
    "degeriGoster(rabia = 22,tuana = 17)\n"
   ]
  },
  {
   "cell_type": "markdown",
   "metadata": {},
   "source": [
    "## Global Değişkenler\n",
    "\n",
    "Python dosyasında oluşturulan değerler globaldir"
   ]
  },
  {
   "cell_type": "code",
   "execution_count": 19,
   "metadata": {},
   "outputs": [
    {
     "name": "stdout",
     "output_type": "stream",
     "text": [
      "10\n",
      "200\n"
     ]
    }
   ],
   "source": [
    "a = 10\n",
    "\n",
    "def islem(b,c):\n",
    "    print(a)\n",
    "    return b*c*a\n",
    "\n",
    "print(islem(4,5))"
   ]
  },
  {
   "cell_type": "code",
   "execution_count": null,
   "metadata": {},
   "outputs": [
    {
     "name": "stdout",
     "output_type": "stream",
     "text": [
      "4.0\n"
     ]
    },
    {
     "ename": "NameError",
     "evalue": "name 'c' is not defined",
     "output_type": "error",
     "traceback": [
      "\u001b[1;31m---------------------------------------------------------------------------\u001b[0m",
      "\u001b[1;31mNameError\u001b[0m                                 Traceback (most recent call last)",
      "Cell \u001b[1;32mIn[20], line 6\u001b[0m\n\u001b[0;32m      3\u001b[0m     c \u001b[38;5;241m=\u001b[39m \u001b[38;5;241m10\u001b[39m\n\u001b[0;32m      5\u001b[0m böl(\u001b[38;5;241m12\u001b[39m,\u001b[38;5;241m3\u001b[39m)\n\u001b[1;32m----> 6\u001b[0m \u001b[38;5;28mprint\u001b[39m(c)\n",
      "\u001b[1;31mNameError\u001b[0m: name 'c' is not defined"
     ]
    }
   ],
   "source": [
    "def böl(a,b):\n",
    "    print(a/b)\n",
    "    c = 10\n",
    "\n",
    "böl(12,3)\n",
    "print(c) #c yazılmaz çünkü c değişkeni kod bloğunda tanımlı değildir"
   ]
  },
  {
   "cell_type": "code",
   "execution_count": 21,
   "metadata": {},
   "outputs": [
    {
     "name": "stdout",
     "output_type": "stream",
     "text": [
      "Fonk içinde c:  10\n",
      "18\n",
      "Fonk dışında c: 10\n"
     ]
    }
   ],
   "source": [
    "c = 10\n",
    "\n",
    "def carp(a,b):\n",
    "    print(\"Fonk içinde c: \",c)\n",
    "    print(a*b)\n",
    "\n",
    "carp(2,9)\n",
    "print(\"Fonk dışında c:\", c)"
   ]
  },
  {
   "cell_type": "code",
   "execution_count": 23,
   "metadata": {},
   "outputs": [
    {
     "name": "stdout",
     "output_type": "stream",
     "text": [
      "Fonk içinde c:  5\n",
      "18\n",
      "Fonk dışında c: 5\n"
     ]
    }
   ],
   "source": [
    "c = 10\n",
    "\n",
    "def carp(a,b):\n",
    "    global c\n",
    "    c = 5\n",
    "    print(\"Fonk içinde c: \",c)\n",
    "    print(a*b)\n",
    "\n",
    "carp(2,9)\n",
    "print(\"Fonk dışında c:\", c)"
   ]
  },
  {
   "cell_type": "markdown",
   "metadata": {},
   "source": [
    "## Lambda Fonksiyonları\n",
    "\n",
    "Tek satırda fonksiyonu tanımlamayı sağlar\n",
    "\n",
    "fonksiyon = lambda değişkenler: donecek değer\n",
    "\n",
    "def fonksiyon(değişkenler):\n",
    "\n",
    "    return donecekdeğer\n"
   ]
  },
  {
   "cell_type": "code",
   "execution_count": 5,
   "metadata": {},
   "outputs": [
    {
     "name": "stdout",
     "output_type": "stream",
     "text": [
      "[1, 2, 4, 5, 10]\n"
     ]
    }
   ],
   "source": [
    "#tam sayı bölenleri\n",
    "\n",
    "def tamSayiBölenleriAl(sayi):\n",
    "    bolenler = []\n",
    "    count = 1\n",
    "    while count <= sayi/2:\n",
    "        if sayi % count == 0:\n",
    "            bolenler.append(count)\n",
    "        count += 1\n",
    "    print(bolenler) \n",
    "\n",
    "sayi = int(input(\"tam sayı bölenlerini istediğiniz sayıyı giriniz: \"))\n",
    "tamSayiBölenleriAl(sayi)\n"
   ]
  },
  {
   "cell_type": "code",
   "execution_count": 14,
   "metadata": {},
   "outputs": [
    {
     "name": "stdout",
     "output_type": "stream",
     "text": [
      "100\n"
     ]
    }
   ],
   "source": [
    "# ekok\n",
    "\n",
    "def ekokBul(sayi1, sayi2):\n",
    "    # En küçük ortak kat, en büyük sayının en az kendisi kadar olmalıdır.\n",
    "    ekok = max(sayi1, sayi2)\n",
    "\n",
    "    # Sayı 1 ve Sayı 2'ye tam bölünen ilk sayıyı bulana kadar döngü devam eder.\n",
    "    while True:\n",
    "        if ekok % sayi1 == 0 and ekok % sayi2 == 0:\n",
    "            return ekok  # Doğru EKOK bulunduğunda döndür.\n",
    "        ekok += 1  # Bir sonraki sayıyı kontrol et.\n",
    "\n",
    "# Örnek Kullanım\n",
    "print(ekokBul(20, 25))  # Çıktı: 100\n",
    "\n"
   ]
  },
  {
   "cell_type": "markdown",
   "metadata": {},
   "source": [
    "## Modüller"
   ]
  },
  {
   "cell_type": "code",
   "execution_count": 39,
   "metadata": {},
   "outputs": [
    {
     "data": {
      "text/plain": [
       "50"
      ]
     },
     "execution_count": 39,
     "metadata": {},
     "output_type": "execute_result"
    }
   ],
   "source": [
    "import hesaplar\n",
    "\n",
    "hesaplar.topla(20,30)\n"
   ]
  },
  {
   "cell_type": "code",
   "execution_count": 40,
   "metadata": {},
   "outputs": [
    {
     "data": {
      "text/plain": [
       "30"
      ]
     },
     "execution_count": 40,
     "metadata": {},
     "output_type": "execute_result"
    }
   ],
   "source": [
    "from hesaplar import * \n",
    "# modülün içindeki her şeyi çağırıyorum\n",
    "\n",
    "hesaplar.topla(10,20)\n"
   ]
  },
  {
   "cell_type": "code",
   "execution_count": 44,
   "metadata": {},
   "outputs": [
    {
     "name": "stdout",
     "output_type": "stream",
     "text": [
      "3\n"
     ]
    },
    {
     "data": {
      "text/plain": [
       "10"
      ]
     },
     "execution_count": 44,
     "metadata": {},
     "output_type": "execute_result"
    }
   ],
   "source": [
    "import random\n",
    "print(random.randint(1,10))\n",
    "\n",
    "liste = [10,20,40,70,90]\n",
    "random.choice(liste)"
   ]
  },
  {
   "cell_type": "code",
   "execution_count": null,
   "metadata": {},
   "outputs": [
    {
     "name": "stdout",
     "output_type": "stream",
     "text": [
      "Sayi yukarıda! Kalan Tahmin hakkınız : 6\n",
      "Sayi yukarıda! Kalan Tahmin hakkınız : 5\n",
      "Sayi aşağıda! kalan Tahmin hakkınız : 4\n",
      "Sayi yukarıda! Kalan Tahmin hakkınız : 3\n",
      "Sayi yukarıda! Kalan Tahmin hakkınız : 2\n",
      "Sayi yukarıda! Kalan Tahmin hakkınız : 1\n",
      "Sayi yukarıda! Kalan Tahmin hakkınız : 0\n",
      "Sayıyı tahmin edemediniz : (Sayı: 79)\n"
     ]
    }
   ],
   "source": [
    "# random modülü ile sayı tahmin oyunu\n",
    "\n",
    "from random import randint\n",
    "\n",
    "oyunDurumu = True\n",
    "\n",
    "while oyunDurumu:\n",
    "    rastgeleSayi = randint(1,100)\n",
    "    hak = 7\n",
    "    while True:\n",
    "        if hak > 0:\n",
    "            tahmin = int(input(\"Sizce sayı kaç? (1,100)\"))\n",
    "        else:\n",
    "            print(\"Sayıyı tahmin edemediniz : (Sayı: {})\" .format(rastgeleSayi))\n",
    "            break\n",
    "        if tahmin != rastgeleSayi:\n",
    "            hak -= 1\n",
    "            if tahmin > rastgeleSayi:\n",
    "                print(\"Sayi aşağıda! kalan Tahmin hakkınız : {}\".format(hak))\n",
    "            if tahmin < rastgeleSayi:\n",
    "                print(\"Sayi yukarıda! Kalan Tahmin hakkınız : {}\".format(hak))\n",
    "        else:\n",
    "            print(\"Tebrikler! sayıyı bulunuz.\")\n",
    "            break\n",
    "    \n",
    "    kontrol = input(\"Oyuna devam etmek istiyor musunuz?(E/H)\")\n",
    "    if kontrol == \"E\":\n",
    "        oyunDurumu = True\n",
    "    else:\n",
    "        oyunDurumu = False\n"
   ]
  },
  {
   "cell_type": "code",
   "execution_count": null,
   "metadata": {},
   "outputs": [],
   "source": []
  }
 ],
 "metadata": {
  "kernelspec": {
   "display_name": "base",
   "language": "python",
   "name": "python3"
  },
  "language_info": {
   "codemirror_mode": {
    "name": "ipython",
    "version": 3
   },
   "file_extension": ".py",
   "mimetype": "text/x-python",
   "name": "python",
   "nbconvert_exporter": "python",
   "pygments_lexer": "ipython3",
   "version": "3.12.4"
  }
 },
 "nbformat": 4,
 "nbformat_minor": 2
}
