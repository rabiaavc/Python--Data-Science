{
 "cells": [
  {
   "cell_type": "markdown",
   "metadata": {},
   "source": [
    "# Mantıksal İfadeler"
   ]
  },
  {
   "cell_type": "code",
   "execution_count": 4,
   "metadata": {},
   "outputs": [
    {
     "name": "stdout",
     "output_type": "stream",
     "text": [
      "<class 'bool'>\n"
     ]
    }
   ],
   "source": [
    "a = True\n",
    "b = False\n",
    "\n",
    "print(type((a)))"
   ]
  },
  {
   "cell_type": "code",
   "execution_count": 3,
   "metadata": {},
   "outputs": [
    {
     "name": "stdout",
     "output_type": "stream",
     "text": [
      "True\n",
      "True\n",
      "False\n"
     ]
    }
   ],
   "source": [
    "a = 1\n",
    "b = 2\n",
    "c = 0\n",
    "\n",
    "print(bool(a))\n",
    "print(bool(b))\n",
    "print(bool(c))"
   ]
  },
  {
   "cell_type": "code",
   "execution_count": null,
   "metadata": {},
   "outputs": [
    {
     "name": "stdout",
     "output_type": "stream",
     "text": [
      "False\n"
     ]
    }
   ],
   "source": [
    "isim = \"rabia\"\n",
    "soyisim = \"avcı\"\n",
    "\n",
    "print(isim == soyisim)"
   ]
  },
  {
   "cell_type": "code",
   "execution_count": 7,
   "metadata": {},
   "outputs": [
    {
     "name": "stdout",
     "output_type": "stream",
     "text": [
      "False\n"
     ]
    }
   ],
   "source": [
    "isim = \"rabia\"\n",
    "soyisim = \"rabia\"\n",
    "\n",
    "print(isim != soyisim)"
   ]
  },
  {
   "cell_type": "code",
   "execution_count": 9,
   "metadata": {},
   "outputs": [
    {
     "name": "stdout",
     "output_type": "stream",
     "text": [
      "True\n"
     ]
    }
   ],
   "source": [
    "a = 12\n",
    "b = 10\n",
    "\n",
    "print(a >= b)"
   ]
  },
  {
   "cell_type": "markdown",
   "metadata": {},
   "source": [
    "## Mantıksal Bağlaçlar"
   ]
  },
  {
   "cell_type": "code",
   "execution_count": null,
   "metadata": {},
   "outputs": [
    {
     "name": "stdout",
     "output_type": "stream",
     "text": [
      "False\n"
     ]
    }
   ],
   "source": [
    "print(5 % 2 == 0 and \"mert\" == \"mert\") "
   ]
  },
  {
   "cell_type": "code",
   "execution_count": 13,
   "metadata": {},
   "outputs": [
    {
     "name": "stdout",
     "output_type": "stream",
     "text": [
      "False\n"
     ]
    }
   ],
   "source": [
    "print(5 % 2 == 0 or \"mert\" == \"mertx\") "
   ]
  },
  {
   "cell_type": "code",
   "execution_count": 14,
   "metadata": {},
   "outputs": [
    {
     "name": "stdout",
     "output_type": "stream",
     "text": [
      "False\n"
     ]
    }
   ],
   "source": [
    "kbilgileri  = [\"rabia\",\"1234\"]\n",
    "\n",
    "isim = input(\"kullanıcı adını giriniz:\")\n",
    "sifre = input(\"sifre bilgilerini giriniz: \")\n",
    "a = kbilgileri[0] == isim\n",
    "b = kbilgileri[1] == soyisim\n",
    "\n",
    "print(a and b)"
   ]
  },
  {
   "cell_type": "code",
   "execution_count": 15,
   "metadata": {},
   "outputs": [
    {
     "name": "stdout",
     "output_type": "stream",
     "text": [
      "True\n"
     ]
    }
   ],
   "source": [
    "sayiAl = int(input(\"Bir sayi giriniz: \"))\n",
    "\n",
    "a = sayiAl % 2 == 0 or sayiAl % 3 == 0 or sayiAl % 5 == 0\n",
    "\n",
    "print(a)"
   ]
  },
  {
   "cell_type": "markdown",
   "metadata": {},
   "source": [
    "# if & else & elif"
   ]
  },
  {
   "cell_type": "code",
   "execution_count": null,
   "metadata": {},
   "outputs": [],
   "source": [
    "info = input(\"Öğrencinin adı ve soyadını giriniz: \")\n",
    "midterm = float(input(\"Öğrencinin vize notunu giriniz: \"))\n",
    "final = float(input(\"Öğrencinin final notunu giriniz: \"))\n",
    "\n",
    "basarı = ((midterm*40) + (final*60))/100\n",
    "\n",
    "print(\"Başarı puanı {}\".format(basarı))\n",
    "\n",
    "if  basarı >= 85:\n",
    "    mark = \"AA\"\n",
    "elif  basarı > 70:\n",
    "    mark = \"BA\"\n",
    "elif basarı > 60:\n",
    "    mark = \"BB\"\n",
    "elif  basarı > 50:\n",
    "    mark = \"CB\"\n",
    "elif  basarı > 40:\n",
    "    mark = \"CC\"\n",
    "else:\n",
    "    mark  = \"FF\"\n",
    "\n",
    "\n",
    "mark_dic = {}\n",
    "mark_dic[info] = mark"
   ]
  }
 ],
 "metadata": {
  "kernelspec": {
   "display_name": "base",
   "language": "python",
   "name": "python3"
  },
  "language_info": {
   "codemirror_mode": {
    "name": "ipython",
    "version": 3
   },
   "file_extension": ".py",
   "mimetype": "text/x-python",
   "name": "python",
   "nbconvert_exporter": "python",
   "pygments_lexer": "ipython3",
   "version": "3.12.4"
  }
 },
 "nbformat": 4,
 "nbformat_minor": 2
}