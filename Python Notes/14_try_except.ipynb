{
 "cells": [
  {
   "cell_type": "code",
   "execution_count": 3,
   "metadata": {},
   "outputs": [
    {
     "name": "stdout",
     "output_type": "stream",
     "text": [
      "0.1\n"
     ]
    }
   ],
   "source": [
    "while True: \n",
    "    try:    \n",
    "        boy = float(input(\"lütfen boyunuzu metre cinsinden giriniz(örn: 1.85): \"))\n",
    "        break\n",
    "    except ValueError: #sadece value erorr\n",
    "        print(\"Lütfen sayıyı doğru giriniz\")\n",
    "while True:\n",
    "    try:\n",
    "        kütle = float(input(\"Lütfen kilonuzu kg cinsinde giriniz(örn:55): \"))\n",
    "        break\n",
    "    except: # bütün hataları yakalar\n",
    "        print(\"Lütfen sayıyı doğru giriniz\")\n",
    "\n",
    "print(kütle/(boy**2))"
   ]
  },
  {
   "cell_type": "markdown",
   "metadata": {},
   "source": [
    "## Raise ile hata türetme"
   ]
  },
  {
   "cell_type": "code",
   "execution_count": null,
   "metadata": {},
   "outputs": [
    {
     "ename": "TypeError",
     "evalue": "Parametre Liste Objesi Olmalı",
     "output_type": "error",
     "traceback": [
      "\u001b[1;31m---------------------------------------------------------------------------\u001b[0m",
      "\u001b[1;31mTypeError\u001b[0m                                 Traceback (most recent call last)",
      "Cell \u001b[1;32mIn[7], line 11\u001b[0m\n\u001b[0;32m      8\u001b[0m         toplam \u001b[38;5;241m+\u001b[39m\u001b[38;5;241m=\u001b[39m i\n\u001b[0;32m      9\u001b[0m     \u001b[38;5;28;01mreturn\u001b[39;00m toplam\n\u001b[1;32m---> 11\u001b[0m \u001b[38;5;28mprint\u001b[39m(sayilariTopla((\u001b[38;5;241m1\u001b[39m,\u001b[38;5;241m2\u001b[39m,\u001b[38;5;241m3\u001b[39m,\u001b[38;5;241m45\u001b[39m,\u001b[38;5;241m6\u001b[39m)))\n\u001b[0;32m     13\u001b[0m \u001b[38;5;28mprint\u001b[39m(sayilariTopla[\u001b[38;5;124m\"\u001b[39m\u001b[38;5;124mRabia\u001b[39m\u001b[38;5;124m\"\u001b[39m])\n",
      "Cell \u001b[1;32mIn[7], line 4\u001b[0m, in \u001b[0;36msayilariTopla\u001b[1;34m(sayilar)\u001b[0m\n\u001b[0;32m      1\u001b[0m \u001b[38;5;28;01mdef\u001b[39;00m \u001b[38;5;21msayilariTopla\u001b[39m(sayilar):\n\u001b[0;32m      3\u001b[0m     \u001b[38;5;28;01mif\u001b[39;00m \u001b[38;5;28mtype\u001b[39m(sayilar) \u001b[38;5;241m!=\u001b[39m \u001b[38;5;28mlist\u001b[39m:\n\u001b[1;32m----> 4\u001b[0m         \u001b[38;5;28;01mraise\u001b[39;00m \u001b[38;5;167;01mTypeError\u001b[39;00m(\u001b[38;5;124m\"\u001b[39m\u001b[38;5;124mParametre Liste Objesi Olmalı\u001b[39m\u001b[38;5;124m\"\u001b[39m)\n\u001b[0;32m      6\u001b[0m     toplam \u001b[38;5;241m=\u001b[39m \u001b[38;5;241m0\u001b[39m\n\u001b[0;32m      7\u001b[0m     \u001b[38;5;28;01mfor\u001b[39;00m i \u001b[38;5;129;01min\u001b[39;00m sayilar:\n",
      "\u001b[1;31mTypeError\u001b[0m: Parametre Liste Objesi Olmalı"
     ]
    }
   ],
   "source": [
    "def sayilariTopla(sayilar):\n",
    "\n",
    "    if type(sayilar) != list:\n",
    "        raise TypeError(\"Parametre Liste Objesi Olmalı\")\n",
    "    \n",
    "    toplam = 0\n",
    "    for i in sayilar:\n",
    "        toplam += i\n",
    "    return toplam\n",
    "\n",
    "print(sayilariTopla((1,2,3,45,6)))\n",
    "\n",
    "print(sayilariTopla[\"Rabia\"])"
   ]
  }
 ],
 "metadata": {
  "kernelspec": {
   "display_name": "base",
   "language": "python",
   "name": "python3"
  },
  "language_info": {
   "codemirror_mode": {
    "name": "ipython",
    "version": 3
   },
   "file_extension": ".py",
   "mimetype": "text/x-python",
   "name": "python",
   "nbconvert_exporter": "python",
   "pygments_lexer": "ipython3",
   "version": "3.12.4"
  }
 },
 "nbformat": 4,
 "nbformat_minor": 2
}
