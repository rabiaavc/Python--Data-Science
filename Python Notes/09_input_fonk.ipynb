{
 "cells": [
  {
   "cell_type": "markdown",
   "metadata": {},
   "source": [
    "# Input Foksiyonu\n",
    "Aldığı her değeri string olarak kabul eder tür dönüşümü yapmak gerekir"
   ]
  },
  {
   "cell_type": "code",
   "execution_count": null,
   "metadata": {},
   "outputs": [],
   "source": [
    "def kareAl(a):\n",
    "    return a**2\n",
    "\n",
    "sayi = int(input(\"bir sayi gir: \"))\n",
    "\n",
    "print(type(sayi))\n",
    "print(kareAl(sayi))"
   ]
  },
  {
   "cell_type": "markdown",
   "metadata": {},
   "source": [
    "## Example"
   ]
  },
  {
   "cell_type": "code",
   "execution_count": null,
   "metadata": {},
   "outputs": [],
   "source": [
    "\n",
    "a = int(input(\"Bir dik üçgenin kenarını giriniz: \"))\n",
    "b = int(input(\"Bir dik üçgenin kenarını giriniz: \"))\n",
    "c = (a*a + b*b)**0.5\n",
    "int(c)\n",
    "print(c)"
   ]
  },
  {
   "cell_type": "code",
   "execution_count": null,
   "metadata": {},
   "outputs": [],
   "source": [
    "V = float(input(\"Gerilim değerini giriniz: \"))\n",
    "R = float(input(\"Direnç değerini giriniz: \"))\n",
    "while True:\n",
    "    if R == 0:  \n",
    "         r = float(input(\"Direnç değeri 0 olamaz tekrar giriniz: \"))\n",
    "    else:\n",
    "         break\n",
    "\n",
    "I = V / R\n",
    "print(\"akım değeri: {}\" .format(I))"
   ]
  },
  {
   "cell_type": "code",
   "execution_count": 2,
   "metadata": {},
   "outputs": [
    {
     "name": "stdout",
     "output_type": "stream",
     "text": [
      "{'define': 'tanımlamak', 'yes': 'evet', 'no': 'hayır'}\n"
     ]
    }
   ],
   "source": [
    "dictioanary = {}\n",
    "true = input(\"sözlüğe kelimek eklemek istiyorsanız 1 programdan çıkmak isitiyorsanız 0 giriniz\")\n",
    "while true == \"1\":\n",
    "    word = input(\"Lütfen öğrendiğiniz kelimeyi giriniz: \")\n",
    "    dictioanary[word] = input(\"Lütfen kelimenin anlamını giriniz\")\n",
    "    true = input(\"sözlüğe kelimek eklemek istiyorsanız 1 programdan çıkmak isitiyorsanız 0 giriniz\")\n",
    "\n",
    "print(dictioanary)\n"
   ]
  },
  {
   "cell_type": "markdown",
   "metadata": {},
   "source": []
  }
 ],
 "metadata": {
  "kernelspec": {
   "display_name": "base",
   "language": "python",
   "name": "python3"
  },
  "language_info": {
   "codemirror_mode": {
    "name": "ipython",
    "version": 3
   },
   "file_extension": ".py",
   "mimetype": "text/x-python",
   "name": "python",
   "nbconvert_exporter": "python",
   "pygments_lexer": "ipython3",
   "version": "3.12.4"
  }
 },
 "nbformat": 4,
 "nbformat_minor": 2
}
