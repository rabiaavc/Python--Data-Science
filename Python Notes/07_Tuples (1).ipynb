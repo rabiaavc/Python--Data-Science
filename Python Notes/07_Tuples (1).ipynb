{
 "cells": [
  {
   "cell_type": "markdown",
   "id": "c29595cf-7c19-4718-b2ee-559ce23ebcad",
   "metadata": {},
   "source": [
    "# Python'da Tuples\n",
    "\n",
    "Gerekli tahmini süre: **15** dakika\n",
    "\n",
    "## Hedefler\n",
    "\n",
    "Bu laboratuvarı tamamladıktan sonra şunları yapabileceksiniz:\n",
    "\n",
    "* Python'da indeksleme, dilimleme ve sıralama dahil olmak üzere temel tuple işlemlerini gerçekleştirebileceksiniz"
   ]
  },
  {
   "cell_type": "markdown",
   "id": "0ae825ca-6f2c-4bc7-845a-7488c5e003ec",
   "metadata": {},
   "source": [
    "<hr>\n"
   ]
  },
  {
   "cell_type": "markdown",
   "id": "92b44e44-b39d-4635-ad67-5b6c101dc49d",
   "metadata": {},
   "source": [
    "<h2 id=\"tuple\">Tuples</h2>\n"
   ]
  },
  {
   "cell_type": "markdown",
   "metadata": {},
   "source": [
    "# Tuple Oluşturma"
   ]
  },
  {
   "cell_type": "code",
   "execution_count": 16,
   "metadata": {},
   "outputs": [
    {
     "name": "stdout",
     "output_type": "stream",
     "text": [
      "<class 'tuple'>\n",
      "<class 'tuple'>\n"
     ]
    }
   ],
   "source": [
    "a = ()\n",
    "b = tuple()\n",
    "\n",
    "print(type(a))\n",
    "print(type(b))"
   ]
  },
  {
   "cell_type": "code",
   "execution_count": 17,
   "metadata": {},
   "outputs": [
    {
     "ename": "TypeError",
     "evalue": "'tuple' object does not support item assignment",
     "output_type": "error",
     "traceback": [
      "\u001b[1;31m---------------------------------------------------------------------------\u001b[0m",
      "\u001b[1;31mTypeError\u001b[0m                                 Traceback (most recent call last)",
      "Cell \u001b[1;32mIn[17], line 2\u001b[0m\n\u001b[0;32m      1\u001b[0m a \u001b[38;5;241m=\u001b[39m (\u001b[38;5;241m1\u001b[39m,\u001b[38;5;241m2\u001b[39m,\u001b[38;5;241m3\u001b[39m,\u001b[38;5;241m4\u001b[39m,\u001b[38;5;241m5\u001b[39m,\u001b[38;5;241m6\u001b[39m)\n\u001b[1;32m----> 2\u001b[0m a[\u001b[38;5;241m2\u001b[39m] \u001b[38;5;241m=\u001b[39m \u001b[38;5;241m20\u001b[39m \u001b[38;5;66;03m#var olan değer tuple içerisinde değiştirilemez\u001b[39;00m\n\u001b[0;32m      3\u001b[0m \u001b[38;5;28mprint\u001b[39m(a)\n",
      "\u001b[1;31mTypeError\u001b[0m: 'tuple' object does not support item assignment"
     ]
    }
   ],
   "source": [
    "a = (1,2,3,4,5,6)\n",
    "a[2] = 20 #var olan değer tuple içerisinde değiştirilemez\n",
    "print(a)"
   ]
  },
  {
   "cell_type": "code",
   "execution_count": 18,
   "metadata": {},
   "outputs": [
    {
     "name": "stdout",
     "output_type": "stream",
     "text": [
      "('m', 'e', 'r', 't', ' ', 'm', 'e', 'k', 'a', 't', 'r', 'o', 'n', 'i', 'k')\n"
     ]
    }
   ],
   "source": [
    "yazi = \"mert mekatronik\"\n",
    "\n",
    "yeniYazi = tuple(yazi)\n",
    "\n",
    "print(yeniYazi)"
   ]
  },
  {
   "cell_type": "markdown",
   "id": "50ff486c-029f-4025-ab1c-63aa74d3e7d7",
   "metadata": {},
   "source": [
    "Python'da farklı veri türleri vardır: String, Integer ve Float. Bu veri tiplerinin hepsi aşağıdaki gibi bir tuple içinde bulunabilir:"
   ]
  },
  {
   "cell_type": "markdown",
   "id": "868fb7b4-d05e-4091-99e8-6a3147f6d40f",
   "metadata": {},
   "source": [
    "Şimdi, string, integer ve float ile ilk tuple'ınızı oluşturalım."
   ]
  },
  {
   "cell_type": "code",
   "execution_count": 10,
   "id": "f9e073df-10ce-4001-860d-335e9e14cfd7",
   "metadata": {},
   "outputs": [
    {
     "data": {
      "text/plain": [
       "('disco', 10, 1.2)"
      ]
     },
     "execution_count": 10,
     "metadata": {},
     "output_type": "execute_result"
    }
   ],
   "source": [
    "# İlk tuple'ınızı oluşturun\n",
    "\n",
    "tuple1 = (\"disco\",10,1.2 )\n",
    "tuple1"
   ]
  },
  {
   "cell_type": "markdown",
   "id": "52149233-4a0c-4ef4-a275-189509cf3a16",
   "metadata": {},
   "source": [
    "Değişken türü bir **tuple**'dır."
   ]
  },
  {
   "cell_type": "code",
   "execution_count": 11,
   "id": "d9c9d634-e2e1-45e2-b87f-837ae4d4a3b0",
   "metadata": {},
   "outputs": [
    {
     "data": {
      "text/plain": [
       "tuple"
      ]
     },
     "execution_count": 11,
     "metadata": {},
     "output_type": "execute_result"
    }
   ],
   "source": [
    "# Oluşturduğunuz tuple'ın türünü yazdırın\n",
    "\n",
    "type(tuple1)"
   ]
  },
  {
   "cell_type": "markdown",
   "id": "9f59b472-e217-42d0-b27b-0c966234826a",
   "metadata": {},
   "source": [
    "<h3 id=\"index\">Indexing</h3>\n"
   ]
  },
  {
   "cell_type": "markdown",
   "id": "014435aa-0f8e-425c-a61c-de3aba8a736b",
   "metadata": {},
   "source": [
    "Bir tuple'ın her bir öğesine bir indeks aracılığıyla erişilebilir. Aşağıdaki tablo, indeks ile tuple'daki öğeler arasındaki ilişkiyi göstermektedir. Her bir öğe, tuple'ın adı ve ardından indeks numarasını içeren bir köşeli parantez ile elde edilebilir:"
   ]
  },
  {
   "cell_type": "markdown",
   "id": "33cece5c-b494-42c6-b20f-ebf4afc76c6a",
   "metadata": {},
   "source": [
    "Tuple'daki her bir değeri yazdırabiliriz:"
   ]
  },
  {
   "cell_type": "code",
   "execution_count": 12,
   "id": "72888cbf-34c0-4e74-b9f3-9c04fa5368a8",
   "metadata": {},
   "outputs": [
    {
     "name": "stdout",
     "output_type": "stream",
     "text": [
      "disco\n",
      "10\n",
      "1.2\n"
     ]
    }
   ],
   "source": [
    "# Her dizindeki değişkeni yazdırın\n",
    "\n",
    "print(tuple1[0])\n",
    "print(tuple1[1])\n",
    "print(tuple1[2])"
   ]
  },
  {
   "cell_type": "markdown",
   "id": "f260d301-50fd-4e4d-a1cc-64a7800603dd",
   "metadata": {},
   "source": [
    "Tuple'daki her bir değerin **tipini** yazdırabiliriz:"
   ]
  },
  {
   "cell_type": "code",
   "execution_count": 13,
   "id": "412d9e4f-bb35-4409-bb1f-01837cc4dea2",
   "metadata": {},
   "outputs": [
    {
     "name": "stdout",
     "output_type": "stream",
     "text": [
      "<class 'str'>\n",
      "<class 'int'>\n",
      "<class 'float'>\n"
     ]
    }
   ],
   "source": [
    "# Her dizindeki değerin türünü yazdırır\n",
    "\n",
    "print(type(tuple1[0]))\n",
    "print(type(tuple1[1]))\n",
    "print(type(tuple1[2]))"
   ]
  },
  {
   "cell_type": "markdown",
   "id": "6bcc4b9a-4362-4d72-bbf7-7a55c5731f81",
   "metadata": {},
   "source": [
    "Negatif indeksleme de kullanabiliriz. Yukarıdaki aynı tabloyu karşılık gelen negatif değerlerle kullanırız:"
   ]
  },
  {
   "cell_type": "markdown",
   "id": "82efc283-88fc-45ec-82df-a25c0d4e2116",
   "metadata": {},
   "source": [
    "Son elemanı aşağıdaki şekilde elde edebiliriz (bu sefer değerleri görüntülemek için print deyimini kullanmayacağız):"
   ]
  },
  {
   "cell_type": "code",
   "execution_count": 6,
   "id": "f54e6a4e-97e2-4677-9791-b9a4acc3770e",
   "metadata": {},
   "outputs": [
    {
     "data": {
      "text/plain": [
       "1.2"
      ]
     },
     "execution_count": 6,
     "metadata": {},
     "output_type": "execute_result"
    }
   ],
   "source": [
    "# Son öğenin değerini almak için negatif indeks kullanın\n",
    "\n",
    "tuple1[-1]"
   ]
  },
  {
   "cell_type": "markdown",
   "id": "096da210-a57f-4c6a-b7f9-df1db27806ca",
   "metadata": {},
   "source": [
    "Sonraki iki öğeyi aşağıdaki gibi görüntüleyebiliriz:"
   ]
  },
  {
   "cell_type": "code",
   "execution_count": 7,
   "id": "308c6f98-dbfe-4ace-b3db-62183c3cb60a",
   "metadata": {},
   "outputs": [
    {
     "data": {
      "text/plain": [
       "10"
      ]
     },
     "execution_count": 7,
     "metadata": {},
     "output_type": "execute_result"
    }
   ],
   "source": [
    "# Sondan ikinci öğenin değerini almak için negatif indeks kullanın\n",
    "\n",
    "tuple1[-2]"
   ]
  },
  {
   "cell_type": "code",
   "execution_count": 8,
   "id": "cb624634-522e-4218-9bdf-9025b2a8a627",
   "metadata": {},
   "outputs": [
    {
     "data": {
      "text/plain": [
       "'disco'"
      ]
     },
     "execution_count": 8,
     "metadata": {},
     "output_type": "execute_result"
    }
   ],
   "source": [
    "# Son üçüncü öğenin değerini almak için negatif indeks kullanın\n",
    "\n",
    "tuple1[-3]"
   ]
  },
  {
   "cell_type": "markdown",
   "id": "2558f4dc-05b5-4277-a400-188150e5195d",
   "metadata": {},
   "source": [
    "<h3 id=\"concate\">Concatenate Tuples</h3>\n"
   ]
  },
  {
   "cell_type": "markdown",
   "id": "be012c59-6b3b-404a-b4fc-339c88ca76a5",
   "metadata": {},
   "source": [
    "Tuple'ları **+** işaretini kullanarak birleştirebilir veya bir araya getirebiliriz:"
   ]
  },
  {
   "cell_type": "code",
   "execution_count": 16,
   "metadata": {},
   "outputs": [
    {
     "data": {
      "text/plain": [
       "('disco', 10, 1.2)"
      ]
     },
     "execution_count": 16,
     "metadata": {},
     "output_type": "execute_result"
    }
   ],
   "source": [
    "tuple1"
   ]
  },
  {
   "cell_type": "code",
   "execution_count": 9,
   "id": "bdd4abb5-172b-4790-8441-76813b845c32",
   "metadata": {},
   "outputs": [
    {
     "data": {
      "text/plain": [
       "('disco', 10, 1.2, 'hard rock', 10)"
      ]
     },
     "execution_count": 9,
     "metadata": {},
     "output_type": "execute_result"
    }
   ],
   "source": [
    "# İki tuple'ı birleştirin\n",
    "\n",
    "tuple2 = tuple1 + (\"hard rock\", 10)\n",
    "tuple2"
   ]
  },
  {
   "cell_type": "markdown",
   "id": "ac7a37fd-489c-4ac5-8c97-1ff57dd5e65b",
   "metadata": {},
   "source": [
    "Aşağıdaki şekilde gösterildiği gibi birden fazla değer elde eden tupleları dilimleyebiliriz:"
   ]
  },
  {
   "cell_type": "markdown",
   "id": "081ac649-3cc8-4aa4-aba4-6773d7ef7022",
   "metadata": {},
   "source": [
    "<h3 id=\"slice\">Slicing</h3>\n"
   ]
  },
  {
   "cell_type": "markdown",
   "id": "9e88a62d-2154-4d4c-bdb7-a0d36f8f7e5e",
   "metadata": {},
   "source": [
    "Tuple'ları dilimleyerek karşılık gelen elemanlarla yeni tuple'lar elde edebiliriz:"
   ]
  },
  {
   "cell_type": "code",
   "execution_count": 10,
   "id": "e9f8cb43-ceb9-4b84-be7c-80b8086420db",
   "metadata": {},
   "outputs": [
    {
     "data": {
      "text/plain": [
       "('disco', 10, 1.2)"
      ]
     },
     "execution_count": 10,
     "metadata": {},
     "output_type": "execute_result"
    }
   ],
   "source": [
    "# Dizin 0'dan dizin 2'ye kadar dilimleme\n",
    "\n",
    "tuple2[0:3]"
   ]
  },
  {
   "cell_type": "markdown",
   "id": "db976cb5-b119-4da5-aa1e-a20c72221fd9",
   "metadata": {},
   "source": [
    "Tuple'ın son iki elemanını elde edebiliriz:"
   ]
  },
  {
   "cell_type": "code",
   "execution_count": 11,
   "id": "e2b7fe3b-a5b1-40c2-b9b5-e7dd303a8065",
   "metadata": {},
   "outputs": [
    {
     "data": {
      "text/plain": [
       "('hard rock', 10)"
      ]
     },
     "execution_count": 11,
     "metadata": {},
     "output_type": "execute_result"
    }
   ],
   "source": [
    "# Dizin 3'ten dizin 4'e kadar dilimleyin\n",
    "\n",
    "tuple2[3:5]"
   ]
  },
  {
   "cell_type": "markdown",
   "id": "63765134-da34-4a65-a84a-1063b6e5107d",
   "metadata": {},
   "source": [
    "length komutunu kullanarak bir tuple'ın uzunluğunu elde edebiliriz:"
   ]
  },
  {
   "cell_type": "code",
   "execution_count": 12,
   "id": "7ede7a35-b90d-4a77-a7ef-724ef9c4e8ff",
   "metadata": {},
   "outputs": [
    {
     "data": {
      "text/plain": [
       "5"
      ]
     },
     "execution_count": 12,
     "metadata": {},
     "output_type": "execute_result"
    }
   ],
   "source": [
    "# Tuple'ın uzunluğunu al\n",
    "\n",
    "len(tuple2)"
   ]
  },
  {
   "cell_type": "markdown",
   "id": "a6e5c902-7ea4-4ed3-95d8-b1f158cd4f29",
   "metadata": {},
   "source": [
    "Bu şekil eleman sayısını göstermektedir:"
   ]
  },
  {
   "cell_type": "markdown",
   "id": "6dd11221-c317-4654-8fea-ea41e0778020",
   "metadata": {},
   "source": [
    "<h3 id=\"sort\">Sorting</h3>\n"
   ]
  },
  {
   "cell_type": "markdown",
   "id": "3b2d5332-4989-49c1-9715-19852301e3b0",
   "metadata": {},
   "source": [
    "Aşağıdaki ikiliyi göz önünde bulundurun:"
   ]
  },
  {
   "cell_type": "code",
   "execution_count": 13,
   "id": "b32cc13a-bdbd-4c4d-85e4-b4e27d6b1202",
   "metadata": {},
   "outputs": [],
   "source": [
    "# Örnek bir tuple\n",
    "\n",
    "Ratings = (0, 9, 6, 5, 10, 8, 9, 6, 2)"
   ]
  },
  {
   "cell_type": "markdown",
   "id": "ee5b02aa-8c50-4eb8-9a01-1ef4549539cf",
   "metadata": {},
   "source": [
    "Bir tuple'daki değerleri sıralayabilir ve yeni bir tuple'a kaydedebiliriz:"
   ]
  },
  {
   "cell_type": "code",
   "execution_count": 14,
   "id": "411b8ce7-386c-4516-aedd-25c093e96c69",
   "metadata": {},
   "outputs": [
    {
     "data": {
      "text/plain": [
       "[0, 2, 5, 6, 6, 8, 9, 9, 10]"
      ]
     },
     "execution_count": 14,
     "metadata": {},
     "output_type": "execute_result"
    }
   ],
   "source": [
    "# Tuple'ı sırala\n",
    "\n",
    "RatingsSorted = sorted(Ratings)\n",
    "RatingsSorted"
   ]
  },
  {
   "cell_type": "markdown",
   "id": "f87c6f2b-7cc1-4a3b-b183-a26682a84971",
   "metadata": {},
   "source": [
    "<h3 id=\"nest\">Nested Tuple</h3>\n"
   ]
  },
  {
   "cell_type": "markdown",
   "id": "caf12d5f-be6a-45d8-b44a-e7dc332eebb4",
   "metadata": {},
   "source": [
    "Bir tuple başka bir tuple'ın yanı sıra daha karmaşık veri türlerini de içerebilir. Bu işleme 'nesting' adı verilir. Birkaç elemanı olan aşağıdaki tuple'ı düşünün:"
   ]
  },
  {
   "cell_type": "code",
   "execution_count": 14,
   "id": "10cd0d53-d3ad-4be3-8e4e-88372f6e9e41",
   "metadata": {},
   "outputs": [],
   "source": [
    "# İç içe bir demet oluşturun:\n",
    "\n",
    "NestedT =(1, 2, (\"pop\", \"rock\") ,(3,4),(\"disco\",(1,2)))"
   ]
  },
  {
   "cell_type": "code",
   "execution_count": 15,
   "metadata": {},
   "outputs": [
    {
     "data": {
      "text/plain": [
       "(1, 2, ('pop', 'rock'), (3, 4), ('disco', (1, 2)))"
      ]
     },
     "execution_count": 15,
     "metadata": {},
     "output_type": "execute_result"
    }
   ],
   "source": [
    "NestedT"
   ]
  },
  {
   "cell_type": "markdown",
   "id": "25bc70ee-8a4c-4036-9ab2-a0659caf2e10",
   "metadata": {},
   "source": [
    "Diğer tuple'lar da dahil olmak üzere tuple'daki her bir eleman, şekilde gösterildiği gibi bir indeks aracılığıyla elde edilebilir:"
   ]
  },
  {
   "cell_type": "code",
   "execution_count": 16,
   "id": "9072f180-a961-4efe-957f-badbc55e188d",
   "metadata": {},
   "outputs": [
    {
     "name": "stdout",
     "output_type": "stream",
     "text": [
      "Element 0 of Tuple:  1\n",
      "Element 1 of Tuple:  2\n",
      "Element 2 of Tuple:  ('pop', 'rock')\n",
      "Element 3 of Tuple:  (3, 4)\n",
      "Element 4 of Tuple:  ('disco', (1, 2))\n"
     ]
    }
   ],
   "source": [
    "# Her dizinde öğe yazdırma\n",
    "\n",
    "print(\"Element 0 of Tuple: \", NestedT[0])\n",
    "print(\"Element 1 of Tuple: \", NestedT[1])\n",
    "print(\"Element 2 of Tuple: \", NestedT[2])\n",
    "print(\"Element 3 of Tuple: \", NestedT[3])\n",
    "print(\"Element 4 of Tuple: \", NestedT[4])"
   ]
  },
  {
   "cell_type": "markdown",
   "id": "a49370f7-21d9-4636-ab63-ca75d17f63d8",
   "metadata": {},
   "source": [
    "İkinci indeksi, şekilde gösterildiği gibi diğer tuple'lara erişmek için kullanabiliriz:"
   ]
  },
  {
   "cell_type": "markdown",
   "id": "91c0c135-7f3c-4185-ad5c-9cb25d143e8b",
   "metadata": {},
   "source": [
    "İç içe geçmiş tuple'lara erişebiliriz:"
   ]
  },
  {
   "cell_type": "code",
   "execution_count": 17,
   "id": "700aba42-f77d-4d44-94bf-f05703adc12e",
   "metadata": {},
   "outputs": [
    {
     "name": "stdout",
     "output_type": "stream",
     "text": [
      "Element 2, 0 of Tuple:  pop\n",
      "Element 2, 1 of Tuple:  rock\n",
      "Element 3, 0 of Tuple:  3\n",
      "Element 3, 1 of Tuple:  4\n",
      "Element 4, 0 of Tuple:  disco\n",
      "Element 4, 1 of Tuple:  (1, 2)\n"
     ]
    }
   ],
   "source": [
    "# Her bir indeksteki elemanı, iç içe indeksler dahil olmak üzere yazdırın:\n",
    "\n",
    "print(\"Element 2, 0 of Tuple: \",   NestedT[2][0])\n",
    "print(\"Element 2, 1 of Tuple: \",   NestedT[2][1])\n",
    "print(\"Element 3, 0 of Tuple: \",   NestedT[3][0])\n",
    "print(\"Element 3, 1 of Tuple: \",   NestedT[3][1])\n",
    "print(\"Element 4, 0 of Tuple: \",   NestedT[4][0])\n",
    "print(\"Element 4, 1 of Tuple: \",   NestedT[4][1])"
   ]
  },
  {
   "cell_type": "markdown",
   "id": "57e86019-11cc-4473-b54c-5abc9d4589eb",
   "metadata": {},
   "source": [
    "Üçüncü bir dizin kullanarak ikinci iç içe çiftlerdeki dizelere erişebiliriz:"
   ]
  },
  {
   "cell_type": "code",
   "execution_count": 18,
   "id": "d208ace2-e808-41bf-8e37-e4e23fffffff",
   "metadata": {},
   "outputs": [
    {
     "data": {
      "text/plain": [
       "'r'"
      ]
     },
     "execution_count": 18,
     "metadata": {},
     "output_type": "execute_result"
    }
   ],
   "source": [
    "# İkinci iç içe çiftlerdeki ilk öğeyi yazdır\n",
    "\n",
    "NestedT[2][1][0]"
   ]
  },
  {
   "cell_type": "code",
   "execution_count": 19,
   "id": "65231230-0a55-4f8c-94d8-724256cccb4c",
   "metadata": {},
   "outputs": [
    {
     "data": {
      "text/plain": [
       "'o'"
      ]
     },
     "execution_count": 19,
     "metadata": {},
     "output_type": "execute_result"
    }
   ],
   "source": [
    "# İç içe geçmiş ikinci tuplelardaki ikinci elemanı yazdır\n",
    "\n",
    "NestedT[2][1][1]"
   ]
  },
  {
   "cell_type": "markdown",
   "id": "7161dcbf-c5a3-4480-a662-746ab54225cf",
   "metadata": {},
   "source": [
    "Süreci görselleştirmek için bir ağaç kullanabiliriz. Her yeni indeks ağaçta daha derin bir seviyeye karşılık gelir:"
   ]
  },
  {
   "cell_type": "markdown",
   "id": "c2c8ec87-5fb6-4bd3-92e4-f61ab0569cb8",
   "metadata": {},
   "source": [
    "Benzer şekilde, üçüncü bir indeks ile ağaçta daha derinlerde yuvalanmış öğelere erişebiliriz:"
   ]
  },
  {
   "cell_type": "code",
   "execution_count": 20,
   "id": "abcabe5d-19ed-4e78-baff-0d879d6c6cad",
   "metadata": {},
   "outputs": [
    {
     "data": {
      "text/plain": [
       "1"
      ]
     },
     "execution_count": 20,
     "metadata": {},
     "output_type": "execute_result"
    }
   ],
   "source": [
    "# İkinci iç içe çiftlerdeki ilk öğeyi yazdır\n",
    "\n",
    "NestedT[4][1][0]"
   ]
  },
  {
   "cell_type": "code",
   "execution_count": 21,
   "id": "f10d00f6-161b-4e70-b2d0-2146fa0ee613",
   "metadata": {},
   "outputs": [
    {
     "data": {
      "text/plain": [
       "2"
      ]
     },
     "execution_count": 21,
     "metadata": {},
     "output_type": "execute_result"
    }
   ],
   "source": [
    "# İç içe geçmiş ikinci tuplelardaki ikinci elemanı yazdır\n",
    "\n",
    "NestedT[4][1][1]"
   ]
  },
  {
   "cell_type": "markdown",
   "id": "1832d5e3-7534-48a4-bfe4-dccacbc24947",
   "metadata": {},
   "source": [
    "Aşağıdaki şekilde ağaç ve <code>NestedT\\[4]\\[1]\\[1]</code> öğesinin ilişkisi gösterilmektedir:"
   ]
  },
  {
   "cell_type": "markdown",
   "id": "62bc109b-e569-46df-8daf-afb01d1a55b8",
   "metadata": {},
   "source": [
    "<h2 id=\"quiz\">Quiz on Tuples</h2>\n"
   ]
  },
  {
   "cell_type": "markdown",
   "id": "399530bd-a823-4cdf-aa6d-7812622aee13",
   "metadata": {},
   "source": [
    "Consider the following tuple:\n"
   ]
  },
  {
   "cell_type": "code",
   "execution_count": 4,
   "id": "97da9c7c-d842-484c-b19f-2c1b991819f3",
   "metadata": {},
   "outputs": [
    {
     "data": {
      "text/plain": [
       "('pop',\n",
       " 'rock',\n",
       " 'soul',\n",
       " 'hard rock',\n",
       " 'soft rock',\n",
       " 'R&B',\n",
       " 'progressive rock',\n",
       " 'disco')"
      ]
     },
     "execution_count": 4,
     "metadata": {},
     "output_type": "execute_result"
    }
   ],
   "source": [
    "# sample tuple\n",
    "\n",
    "genres_tuple = (\"pop\", \"rock\", \"soul\", \"hard rock\", \"soft rock\", \\\n",
    "                \"R&B\", \"progressive rock\", \"disco\") \n",
    "genres_tuple"
   ]
  },
  {
   "cell_type": "markdown",
   "id": "d923f60a-0e91-4be7-a38e-94e60d842479",
   "metadata": {},
   "source": [
    "Find the length of the tuple, <code>genres_tuple</code>:\n"
   ]
  },
  {
   "cell_type": "code",
   "execution_count": 5,
   "id": "15824835-34a6-4ef0-b396-6796357d3bdb",
   "metadata": {},
   "outputs": [
    {
     "data": {
      "text/plain": [
       "8"
      ]
     },
     "execution_count": 5,
     "metadata": {},
     "output_type": "execute_result"
    }
   ],
   "source": [
    "# Write your code below and press Shift+Enter to execute\n",
    "len(genres_tuple)"
   ]
  },
  {
   "cell_type": "markdown",
   "id": "667c364a-1fe8-4a7a-9b0e-2ec8831f06ca",
   "metadata": {},
   "source": [
    "<details><summary>Click here for the solution</summary>\n",
    "\n",
    "```python\n",
    "len(genres_tuple)\n",
    "```\n",
    "\n",
    "</details>\n"
   ]
  },
  {
   "cell_type": "markdown",
   "id": "e12c2b89-e10b-425c-a4f0-d13da637856d",
   "metadata": {},
   "source": [
    "Access the element, with respect to index 3:\n"
   ]
  },
  {
   "cell_type": "code",
   "execution_count": 6,
   "id": "0d4c0638-ded2-46a5-a408-8b77989f548c",
   "metadata": {},
   "outputs": [
    {
     "data": {
      "text/plain": [
       "'hard rock'"
      ]
     },
     "execution_count": 6,
     "metadata": {},
     "output_type": "execute_result"
    }
   ],
   "source": [
    "# Write your code below and press Shift+Enter to execute\n",
    "genres_tuple[3]"
   ]
  },
  {
   "cell_type": "markdown",
   "id": "36dfd91e-69a8-414d-9c61-991fb35c4c11",
   "metadata": {},
   "source": [
    "<details><summary>Click here for the solution</summary>\n",
    "\n",
    "```python\n",
    "genres_tuple[3]\n",
    "\n",
    "```\n",
    "\n",
    "</details>\n"
   ]
  },
  {
   "cell_type": "markdown",
   "id": "c8963d39-60a8-409f-8c90-e86536604500",
   "metadata": {},
   "source": [
    "Use slicing to obtain indexes 3, 4 and 5:\n"
   ]
  },
  {
   "cell_type": "code",
   "execution_count": 7,
   "id": "b5247a2f-9d4c-47cf-9311-8931a1f727d9",
   "metadata": {},
   "outputs": [
    {
     "data": {
      "text/plain": [
       "('hard rock', 'soft rock', 'R&B')"
      ]
     },
     "execution_count": 7,
     "metadata": {},
     "output_type": "execute_result"
    }
   ],
   "source": [
    "# Write your code below and press Shift+Enter to execute\n",
    "genres_tuple[3:6]"
   ]
  },
  {
   "cell_type": "markdown",
   "id": "878874fa-8bf4-4d4a-834e-91487bd9cf43",
   "metadata": {},
   "source": [
    "<details><summary>Click here for the solution</summary>\n",
    "\n",
    "```python\n",
    "genres_tuple[3:6]\n",
    "\n",
    "```\n",
    "\n",
    "</details>\n"
   ]
  },
  {
   "cell_type": "markdown",
   "id": "751b30c1-ea3c-4bd7-bf5c-2ca538dcdabd",
   "metadata": {},
   "source": [
    "Find the first two elements of the tuple <code>genres_tuple</code>:\n"
   ]
  },
  {
   "cell_type": "code",
   "execution_count": 8,
   "id": "e38cfb83-8ba5-40f8-830d-981274ef5fb0",
   "metadata": {},
   "outputs": [
    {
     "data": {
      "text/plain": [
       "('pop', 'rock')"
      ]
     },
     "execution_count": 8,
     "metadata": {},
     "output_type": "execute_result"
    }
   ],
   "source": [
    "# Write your code below and press Shift+Enter to execute\n",
    "genres_tuple[:2]"
   ]
  },
  {
   "cell_type": "markdown",
   "id": "f1464d74-f659-4d42-a0f8-37c8076c70d6",
   "metadata": {},
   "source": [
    "<details><summary>Click here for the solution</summary>\n",
    "\n",
    "```python\n",
    "genres_tuple[0:2]\n",
    "\n",
    "```\n",
    "\n",
    "</details>\n"
   ]
  },
  {
   "cell_type": "markdown",
   "id": "9002fe7a-8b0c-47a8-86f8-0fb8187e683b",
   "metadata": {},
   "source": [
    "Find the first index of <code>\"disco\"</code>:\n"
   ]
  },
  {
   "cell_type": "code",
   "execution_count": 10,
   "id": "266aba07-9890-42f1-ad47-5fc087001a32",
   "metadata": {},
   "outputs": [
    {
     "data": {
      "text/plain": [
       "7"
      ]
     },
     "execution_count": 10,
     "metadata": {},
     "output_type": "execute_result"
    }
   ],
   "source": [
    "# Write your code below and press Shift+Enter to execute\n",
    "genres_tuple.index(\"disco\")"
   ]
  },
  {
   "cell_type": "markdown",
   "id": "1c26816b-8b98-4937-ad58-cbd22c638386",
   "metadata": {},
   "source": [
    "<details><summary>Click here for the solution</summary>\n",
    "\n",
    "```python\n",
    "genres_tuple.index(\"disco\")\n",
    "\n",
    "```\n",
    "\n",
    "</details>\n"
   ]
  },
  {
   "cell_type": "markdown",
   "id": "d3f475b3-d8b2-4855-b623-cd225e221891",
   "metadata": {},
   "source": [
    "Generate a sorted List from the Tuple <code>C_tuple=(-5, 1, -3)</code>:\n"
   ]
  },
  {
   "cell_type": "code",
   "execution_count": 15,
   "id": "aa53c010-69f1-41c4-a44d-ee8c3b296af6",
   "metadata": {},
   "outputs": [
    {
     "data": {
      "text/plain": [
       "[-5, -3, 1]"
      ]
     },
     "execution_count": 15,
     "metadata": {},
     "output_type": "execute_result"
    }
   ],
   "source": [
    "# Write your code below and press Shift+Enter to execute\n",
    "C_tuple=(-5, 1, -3)\n",
    "C_list = sorted(C_tuple)\n",
    "C_list"
   ]
  },
  {
   "cell_type": "markdown",
   "id": "92579cce-72d9-482b-b430-f471248fed15",
   "metadata": {},
   "source": [
    "<details><summary>Click here for the solution</summary>\n",
    "\n",
    "```python\n",
    "C_tuple = (-5, 1, -3)\n",
    "C_list = sorted(C_tuple)\n",
    "C_list\n",
    "\n",
    "```\n",
    "\n",
    "</details>\n"
   ]
  }
 ],
 "metadata": {
  "kernelspec": {
   "display_name": "base",
   "language": "python",
   "name": "python3"
  },
  "language_info": {
   "codemirror_mode": {
    "name": "ipython",
    "version": 3
   },
   "file_extension": ".py",
   "mimetype": "text/x-python",
   "name": "python",
   "nbconvert_exporter": "python",
   "pygments_lexer": "ipython3",
   "version": "3.12.4"
  }
 },
 "nbformat": 4,
 "nbformat_minor": 4
}
