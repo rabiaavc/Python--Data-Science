{
 "cells": [
  {
   "cell_type": "markdown",
   "metadata": {},
   "source": [
    "# LİSTS"
   ]
  },
  {
   "cell_type": "markdown",
   "metadata": {},
   "source": [
    "## LİSTE OLUŞTURMA"
   ]
  },
  {
   "cell_type": "code",
   "execution_count": 1,
   "metadata": {},
   "outputs": [
    {
     "name": "stdout",
     "output_type": "stream",
     "text": [
      "<class 'list'>\n",
      "<class 'list'>\n"
     ]
    }
   ],
   "source": [
    " a= list()\n",
    " b = []\n",
    "\n",
    " print(type(a))\n",
    " print(type(b))"
   ]
  },
  {
   "cell_type": "markdown",
   "metadata": {},
   "source": [
    "Liste obejesinin görevi birden fazla değeri liste objesinde saklamak\n",
    "Genellikle sıralı veriler, birbirine benzer, çok uzun verileri ya da birbiri ile ilişkili veriler saklanır\n"
   ]
  },
  {
   "cell_type": "code",
   "execution_count": 14,
   "metadata": {},
   "outputs": [
    {
     "name": "stdout",
     "output_type": "stream",
     "text": [
      "melike\n"
     ]
    }
   ],
   "source": [
    "ogrenciler = [\"melike\", \"mahmut\",\"umut\",\"tolga\",\"ela\",\"onur\",\"mert\",\"ziya\",\"turgut\",\"ece\",\"asli\",\"kerem\"]\n",
    "\n",
    "print(ogrenciler[0])"
   ]
  },
  {
   "cell_type": "markdown",
   "metadata": {},
   "source": [
    "Listeden eleman silmek"
   ]
  },
  {
   "cell_type": "code",
   "execution_count": 15,
   "metadata": {},
   "outputs": [
    {
     "name": "stdout",
     "output_type": "stream",
     "text": [
      "12\n",
      "11\n",
      "['melike', 'mahmut', 'umut', 'tolga', 'ela', 'onur', 'ziya', 'turgut', 'ece', 'asli', 'kerem']\n",
      "melike mahmut umut tolga ela onur ziya turgut ece asli kerem\n"
     ]
    }
   ],
   "source": [
    "print(len(ogrenciler))\n",
    "ogrenciler.remove(\"mert\")\n",
    "print(len(ogrenciler))\n",
    "print(ogrenciler)\n",
    "print(*ogrenciler)"
   ]
  },
  {
   "cell_type": "markdown",
   "metadata": {},
   "source": [
    "Ayrıca <code>del</code> komutunu kullanarak bir listenin bir öğesini silebiliriz:"
   ]
  },
  {
   "cell_type": "code",
   "execution_count": 16,
   "metadata": {},
   "outputs": [
    {
     "name": "stdout",
     "output_type": "stream",
     "text": [
      "Before change: ['melike', 'mahmut', 'umut', 'tolga', 'ela', 'onur', 'ziya', 'turgut', 'ece', 'asli', 'kerem']\n",
      "After change: ['mahmut', 'umut', 'tolga', 'ela', 'onur', 'ziya', 'turgut', 'ece', 'asli', 'kerem']\n"
     ]
    }
   ],
   "source": [
    "# İndeksi temel alarak öğeyi silme\n",
    "\n",
    "print('Before change:', ogrenciler)\n",
    "del(ogrenciler[0])\n",
    "print('After change:', ogrenciler)"
   ]
  },
  {
   "cell_type": "markdown",
   "metadata": {},
   "source": [
    "Listelerde Slicing"
   ]
  },
  {
   "cell_type": "code",
   "execution_count": 23,
   "metadata": {},
   "outputs": [
    {
     "name": "stdout",
     "output_type": "stream",
     "text": [
      "['melike', 'mahmut', 'umut']\n",
      "<class 'list'>\n",
      "<class 'list'>\n"
     ]
    }
   ],
   "source": [
    "ogrenciler = [\"melike\", \"mahmut\",\"umut\",\"tolga\",\"ela\",\"onur\",\"mert\",\"ziya\",\"turgut\",\"ece\",\"asli\",\"kerem\"]\n",
    "basarili_ogrenciler = ogrenciler[0:3]\n",
    "print(basarili_ogrenciler)\n",
    "\n",
    "print(type(ogrenciler))\n",
    "print(type(basarili_ogrenciler))"
   ]
  },
  {
   "cell_type": "code",
   "execution_count": 24,
   "metadata": {},
   "outputs": [
    {
     "name": "stdout",
     "output_type": "stream",
     "text": [
      "['melike', 'mahmut', 'umut']\n"
     ]
    }
   ],
   "source": [
    "basarili_ogrencileri = ogrenciler[1:5:-1]\n",
    "print(basarili_ogrenciler)"
   ]
  },
  {
   "cell_type": "markdown",
   "metadata": {},
   "source": [
    "Listeleri index numaraları ile değiştirebiliriz"
   ]
  },
  {
   "cell_type": "code",
   "execution_count": 27,
   "metadata": {},
   "outputs": [
    {
     "name": "stdout",
     "output_type": "stream",
     "text": [
      "['melike', 'mahmut', 'umut', 'tolga', 'ela', 'melis', 'mert', 'ziya', 'turgut', 'ece', 'asli', 'kerem']\n"
     ]
    }
   ],
   "source": [
    "ogrenciler[5] = \"melis\"\n",
    "print(ogrenciler)"
   ]
  },
  {
   "cell_type": "code",
   "execution_count": 58,
   "metadata": {},
   "outputs": [
    {
     "ename": "TypeError",
     "evalue": "'str' object does not support item assignment",
     "output_type": "error",
     "traceback": [
      "\u001b[1;31m---------------------------------------------------------------------------\u001b[0m",
      "\u001b[1;31mTypeError\u001b[0m                                 Traceback (most recent call last)",
      "Cell \u001b[1;32mIn[58], line 5\u001b[0m\n\u001b[0;32m      1\u001b[0m \u001b[38;5;66;03m#strinlerde index ile öğe değişimi yoktur\u001b[39;00m\n\u001b[0;32m      3\u001b[0m yazi \u001b[38;5;241m=\u001b[39m \u001b[38;5;124m\"\u001b[39m\u001b[38;5;124mrabia avcı\u001b[39m\u001b[38;5;124m\"\u001b[39m\n\u001b[1;32m----> 5\u001b[0m yazi[\u001b[38;5;241m0\u001b[39m] \u001b[38;5;241m=\u001b[39m \u001b[38;5;124m\"\u001b[39m\u001b[38;5;124mN\u001b[39m\u001b[38;5;124m\"\u001b[39m\n\u001b[0;32m      7\u001b[0m \u001b[38;5;28mprint\u001b[39m(yazi)\n",
      "\u001b[1;31mTypeError\u001b[0m: 'str' object does not support item assignment"
     ]
    }
   ],
   "source": [
    "#strinlerde index ile öğe değişimi yoktur\n",
    "\n",
    "yazi = \"rabia avcı\"\n",
    "\n",
    "yazi[0] = \"N\"\n",
    "\n",
    "print(yazi) #error"
   ]
  },
  {
   "cell_type": "markdown",
   "metadata": {},
   "source": [
    "eğer değiştirmek istiyorsam tip dönüşümü yapmalıyım"
   ]
  },
  {
   "cell_type": "code",
   "execution_count": 33,
   "metadata": {},
   "outputs": [
    {
     "name": "stdout",
     "output_type": "stream",
     "text": [
      "['m', 'e', 'r', 't', ' ', 'm', 'e', 'k', 'a', 't', 'r', 'o', 'n', 'i', 'k']\n",
      "['k', 'e', 'r', 't', ' ', 'm', 'e', 'k', 'a', 't', 'r', 'o', 'n', 'i', 'k']\n"
     ]
    }
   ],
   "source": [
    "yazi = \"mert mekatronik\"\n",
    "yazi = list(yazi)\n",
    "print(yazi)\n",
    "yazi[0] = \"k\"\n",
    "print(yazi)\n"
   ]
  },
  {
   "cell_type": "markdown",
   "metadata": {},
   "source": [
    "# İki listeyi birleştirme"
   ]
  },
  {
   "cell_type": "code",
   "execution_count": 34,
   "metadata": {},
   "outputs": [
    {
     "name": "stdout",
     "output_type": "stream",
     "text": [
      "['melike', 'mahmut', 'umut', 'tolga', 'ela', 'onur', 'mert', 'ziya', 'turgut', 'ece', 'asli', 'kerem', 'ali', 'eda', 'veli']\n"
     ]
    }
   ],
   "source": [
    "ogrenciler = [\"melike\", \"mahmut\",\"umut\",\"tolga\",\"ela\",\"onur\",\"mert\",\"ziya\",\"turgut\",\"ece\",\"asli\",\"kerem\"]\n",
    "ogrenciler2 = [\"ali\",\"eda\",\"veli\"]\n",
    "\n",
    "ogrenciler = ogrenciler + ogrenciler2\n",
    "\n",
    "print(ogrenciler)"
   ]
  },
  {
   "cell_type": "markdown",
   "metadata": {},
   "source": [
    "# Listede çarpma işlemi "
   ]
  },
  {
   "cell_type": "code",
   "execution_count": null,
   "metadata": {},
   "outputs": [
    {
     "name": "stdout",
     "output_type": "stream",
     "text": [
      "[1, 2, 3, 1, 2, 3, 1, 2, 3]\n"
     ]
    }
   ],
   "source": [
    "a = [1,2,3]\n",
    "\n",
    "a = a*3\n",
    "\n",
    "print(a)"
   ]
  },
  {
   "cell_type": "markdown",
   "metadata": {},
   "source": [
    "# Listeye yeni veri ekleme"
   ]
  },
  {
   "cell_type": "code",
   "execution_count": 36,
   "metadata": {},
   "outputs": [
    {
     "name": "stdout",
     "output_type": "stream",
     "text": [
      "[1, 2, 3, 'rabia']\n"
     ]
    }
   ],
   "source": [
    "liste = [1,2,3]\n",
    "\n",
    "liste.append(\"rabia\")\n",
    "print(liste)"
   ]
  },
  {
   "cell_type": "markdown",
   "metadata": {},
   "source": [
    "Listeye yeni elemanlar eklemek için <code>extend</code> yöntemini kullanabiliriz:"
   ]
  },
  {
   "cell_type": "code",
   "execution_count": 59,
   "metadata": {},
   "outputs": [
    {
     "data": {
      "text/plain": [
       "['Cem Yilmaz', 10.2, 'pop', 10]"
      ]
     },
     "execution_count": 59,
     "metadata": {},
     "output_type": "execute_result"
    }
   ],
   "source": [
    "# Listeye öğe eklemek için extend kullanın\n",
    "\n",
    "L = [ \"Cem Yilmaz\", 10.2]\n",
    "L.extend(['pop', 10])\n",
    "L"
   ]
  },
  {
   "cell_type": "markdown",
   "metadata": {},
   "source": [
    "# Listeden eleman çıkarma"
   ]
  },
  {
   "cell_type": "code",
   "execution_count": 1,
   "metadata": {},
   "outputs": [
    {
     "ename": "NameError",
     "evalue": "name 'liste' is not defined",
     "output_type": "error",
     "traceback": [
      "\u001b[1;31m---------------------------------------------------------------------------\u001b[0m",
      "\u001b[1;31mNameError\u001b[0m                                 Traceback (most recent call last)",
      "Cell \u001b[1;32mIn[1], line 1\u001b[0m\n\u001b[1;32m----> 1\u001b[0m cikarilan \u001b[38;5;241m=\u001b[39m liste\u001b[38;5;241m.\u001b[39mpop() \u001b[38;5;66;03m#listenin en sn elemanını çıkarır ve eğer bir değişkene atarsan gösterir\u001b[39;00m\n\u001b[0;32m      2\u001b[0m \u001b[38;5;28mprint\u001b[39m(liste)\n\u001b[0;32m      3\u001b[0m \u001b[38;5;28mprint\u001b[39m(cikarilan)\n",
      "\u001b[1;31mNameError\u001b[0m: name 'liste' is not defined"
     ]
    }
   ],
   "source": [
    "cikarilan = liste.pop() #listenin en sn elemanını çıkarır ve eğer bir değişkene atarsan gösterir\n",
    "print(liste)\n",
    "print(cikarilan)\n",
    "\n",
    "liste.remove(1)\n",
    "liste"
   ]
  },
  {
   "cell_type": "markdown",
   "metadata": {},
   "source": [
    "# Listedeki verileri sıralama <code>sort<code>"
   ]
  },
  {
   "cell_type": "code",
   "execution_count": 40,
   "metadata": {},
   "outputs": [
    {
     "name": "stdout",
     "output_type": "stream",
     "text": [
      "[1, 2, 3, 34, 56, 89, 988, 4575]\n",
      "[4575, 988, 89, 56, 34, 3, 2, 1]\n"
     ]
    }
   ],
   "source": [
    "liste = [34,56,1,2,3,4575,89,988]\n",
    "liste.sort()\n",
    "print(liste)\n",
    "liste.sort(reverse = True) #büyükten küçüğe sıralar\n",
    "print(liste)"
   ]
  },
  {
   "cell_type": "code",
   "execution_count": 52,
   "metadata": {},
   "outputs": [
    {
     "name": "stdout",
     "output_type": "stream",
     "text": [
      "['asli', 'ece', 'ela', 'kerem', 'mahmut', 'melike', 'mert', 'onur', 'tolga', 'turgut', 'umut', 'ziya']\n"
     ]
    }
   ],
   "source": [
    "ogrenciler = [\"melike\", \"mahmut\",\"umut\",\"tolga\",\"ela\",\"onur\",\"mert\",\"ziya\",\"turgut\",\"ece\",\"asli\",\"kerem\"]\n",
    "ogrenciler.sort() #alfebetik olarak sıralıyor\n",
    "print(ogrenciler)"
   ]
  },
  {
   "cell_type": "markdown",
   "metadata": {},
   "source": [
    "## NESTED LİST"
   ]
  },
  {
   "cell_type": "code",
   "execution_count": 57,
   "metadata": {},
   "outputs": [
    {
     "name": "stdout",
     "output_type": "stream",
     "text": [
      "['rabia', 'tuana', 'hava']\n",
      "rabia\n",
      "rabia 12233\n"
     ]
    }
   ],
   "source": [
    "kullanicilar = [\"rabia\",\"tuana\",\"hava\"]\n",
    "sifre = [12233,5335,98383684]\n",
    "\n",
    "users = [kullanicilar,sifre]\n",
    "print(users[0])\n",
    "print(users[0][0])\n",
    "print(users[0][0],users[1][0])\n"
   ]
  },
  {
   "cell_type": "markdown",
   "metadata": {},
   "source": [
    "Bir stringi <code>split</code> kullanarak listeye dönüştürebiliriz. Örneğin, <code>split</code> metodu, boşluk ile ayrılan her karakter grubunu bir liste elemanına çevirir:"
   ]
  },
  {
   "cell_type": "code",
   "execution_count": 60,
   "metadata": {},
   "outputs": [
    {
     "data": {
      "text/plain": [
       "['hard', 'rock']"
      ]
     },
     "execution_count": 60,
     "metadata": {},
     "output_type": "execute_result"
    }
   ],
   "source": [
    "# Stringi böl, varsayılan değer boşluktur\n",
    "\n",
    "a = 'hard rock'.split()\n",
    "a"
   ]
  },
  {
   "cell_type": "markdown",
   "metadata": {},
   "source": [
    "Dizeleri **ayırıcı** olarak adlandırdığımız belirli bir karaktere göre ayırmak için split fonksiyonunu kullanabiliriz. Bölmek istediğimiz karakteri argümana aktarırız, bu durumda bu bir virgüldür.  Sonuç bir listedir ve her öğe virgülle ayrılmış bir karakter kümesine karşılık gelir:"
   ]
  },
  {
   "cell_type": "code",
   "execution_count": 61,
   "metadata": {},
   "outputs": [
    {
     "data": {
      "text/plain": [
       "['A', 'B', 'C', 'D']"
      ]
     },
     "execution_count": 61,
     "metadata": {},
     "output_type": "execute_result"
    }
   ],
   "source": [
    "# Dizeyi virgülle bölme\n",
    "\n",
    "'A,B,C,D'.split(',')"
   ]
  }
 ],
 "metadata": {
  "kernelspec": {
   "display_name": "base",
   "language": "python",
   "name": "python3"
  },
  "language_info": {
   "codemirror_mode": {
    "name": "ipython",
    "version": 3
   },
   "file_extension": ".py",
   "mimetype": "text/x-python",
   "name": "python",
   "nbconvert_exporter": "python",
   "pygments_lexer": "ipython3",
   "version": "3.12.4"
  }
 },
 "nbformat": 4,
 "nbformat_minor": 2
}
