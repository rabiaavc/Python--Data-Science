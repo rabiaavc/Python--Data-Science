{
 "cells": [
  {
   "cell_type": "markdown",
   "metadata": {},
   "source": [
    "# CLASS"
   ]
  },
  {
   "cell_type": "code",
   "execution_count": null,
   "metadata": {},
   "outputs": [
    {
     "name": "stdout",
     "output_type": "stream",
     "text": [
      "Renault\n",
      "Renault Clio Kırmızı\n"
     ]
    }
   ],
   "source": [
    "class Araba():\n",
    "    marka = \"Renault\"\n",
    "    model = \"Clio\"\n",
    "    renk = \"Kırmızı\"\n",
    "\n",
    "    def bilgileriYazdır(self): #self arabanın referansını tutar\n",
    "        print(self.marka,self.model,self.renk)\n",
    "        \n",
    "araba = Araba()\n",
    "\n",
    "print(araba.marka)\n",
    "araba.bilgileriYazdır()"
   ]
  },
  {
   "cell_type": "markdown",
   "metadata": {},
   "source": [
    "### Contructor"
   ]
  },
  {
   "cell_type": "code",
   "execution_count": 15,
   "metadata": {},
   "outputs": [
    {
     "name": "stdout",
     "output_type": "stream",
     "text": [
      "Ford Fiesta 30000 Mavi\n",
      "Renault Clio 40000 Kırımızı\n",
      "Ford Fiesta 30000 Yeşil\n",
      "<__main__.Araba object at 0x0000011EFB1E1100>\n"
     ]
    }
   ],
   "source": [
    "class Araba():\n",
    "    def __init__(self,marka,model,fiyat,renk): # her obje türetiğimde bu fonksiyon çalışır\n",
    "        self.gelenmarka = marka\n",
    "        self.gelenmodel = model\n",
    "        self.gelenfiyat = fiyat\n",
    "        self.gelenrenk = renk\n",
    "    \n",
    "    def bilgileriYazdır(self): #self arabanın referansını tutar\n",
    "        print(self.gelenmarka,self.gelenmodel,self.gelenfiyat,self.gelenrenk)\n",
    "\n",
    "    def renkDegistir(self,renk):\n",
    "        self.gelenrenk = renk\n",
    "        \n",
    "araba1 = Araba(\"Ford\",\"Fiesta\",30000,\"Mavi\")\n",
    "araba2 = Araba(\"Renault\",\"Clio\",40000,\"Kırımızı\")\n",
    "\n",
    "araba1.bilgileriYazdır()\n",
    "araba2.bilgileriYazdır()\n",
    "\n",
    "araba1.renkDegistir(\"Yeşil\")\n",
    "araba1.bilgileriYazdır()\n",
    "\n",
    "sayilar = [1,2,3,4,5,6]\n",
    "sayilar.append(20)\n",
    "sayilar\n",
    "\n",
    "print(araba1)\n"
   ]
  },
  {
   "cell_type": "markdown",
   "metadata": {},
   "source": [
    "## Kalıtım"
   ]
  },
  {
   "cell_type": "code",
   "execution_count": 12,
   "metadata": {},
   "outputs": [
    {
     "name": "stdout",
     "output_type": "stream",
     "text": [
      "\"\n",
      "Rabia Avcı Bilgileri sunlardır:\n",
      "              \n",
      "Yas: 22\n",
      "Cinsiyet: Kadın\n",
      "Maaş: 2000             \n",
      "        \n",
      "\n",
      "Rabia Avcı Bilgileri sunlardır:\n",
      "              \n",
      "Yas: 22\n",
      "Cinsiyet: Kadın\n",
      "Maaş: 2000             \n",
      "        \n",
      "\n",
      "Rabia Avcı Bilgileri sunlardır:\n",
      "              \n",
      "Yas: 22\n",
      "Cinsiyet: Kadın\n",
      "Maaş: 2250             \n",
      "        \n"
     ]
    }
   ],
   "source": [
    "class personel():\n",
    "    def __init__(self,personel_name,personel_surname,personel_age,personel_gender,personel_salary):\n",
    "        self.personel_name = personel_name\n",
    "        self.personel_surname = personel_surname\n",
    "        self.personel_age = personel_age\n",
    "        self.personel_gender = personel_gender\n",
    "        self.personel_salary =personel_salary\n",
    "    \n",
    "    def print_info(self):\n",
    "        print(f\"\"\"\"\n",
    "{self.personel_name} {self.personel_surname} Bilgileri sunlardır:\n",
    "              \n",
    "Yas: {self.personel_age}\n",
    "Cinsiyet: {self.personel_gender}\n",
    "Maaş: {self.personel_salary}             \n",
    "        \"\"\")\n",
    "\n",
    "    def __str__(self):\n",
    "        return f\"\"\"\n",
    "{self.personel_name} {self.personel_surname} Bilgileri sunlardır:\n",
    "              \n",
    "Yas: {self.personel_age}\n",
    "Cinsiyet: {self.personel_gender}\n",
    "Maaş: {self.personel_salary}             \n",
    "        \"\"\"\n",
    "    \n",
    "class yonetici(personel): #inheritance\n",
    "    def __init__(self,personel_name,personel_surname,personel_age,personel_gender,personel_salary):\n",
    "        super().__init__(personel_name,personel_surname,personel_age,personel_gender,personel_salary)\n",
    "    \n",
    "    def salary_increase(self, pObject, miktar = 1000):\n",
    "        pObject.personel_salary += miktar\n",
    "\n",
    "Personel1 = personel(\"Rabia\",\"Avcı\",22,\"Kadın\",2000)\n",
    "Yonetici1 = yonetici(\"Tuana\",\"Avcı\",17,\"Kadın\",3000)\n",
    "\n",
    "Personel1.print_info()\n",
    "print(Personel1)\n",
    "\n",
    "Yonetici1.salary_increase(Personel1,250)\n",
    "print(Personel1)\n",
    "\n"
   ]
  },
  {
   "cell_type": "code",
   "execution_count": null,
   "metadata": {},
   "outputs": [
    {
     "name": "stdout",
     "output_type": "stream",
     "text": [
      "\"\n",
      "-----Mp3 Calara Hosgeldiniz------\n",
      "Sarki Listesi: []\n",
      "Su an Calan Sarki: \n",
      "Ses: 100\n",
      "\n",
      "1-)Sarki Sec\n",
      "2-)Ses Arttir\n",
      "3-)Ses Azalt\n",
      "4-)Rastgele Sarki Sec\n",
      "5-)Sarki Ekle\n",
      "6-)Sarki Sil\n",
      "7-)Kapat\n",
      "\n"
     ]
    },
    {
     "ename": "UnboundLocalError",
     "evalue": "cannot access local variable 'secim' where it is not associated with a value",
     "output_type": "error",
     "traceback": [
      "\u001b[1;31m---------------------------------------------------------------------------\u001b[0m",
      "\u001b[1;31mUnboundLocalError\u001b[0m                         Traceback (most recent call last)",
      "Cell \u001b[1;32mIn[25], line 73\u001b[0m\n\u001b[0;32m     71\u001b[0m my_mp3 \u001b[38;5;241m=\u001b[39m Mp3Calar()\n\u001b[0;32m     72\u001b[0m \u001b[38;5;28;01mwhile\u001b[39;00m my_mp3\u001b[38;5;241m.\u001b[39mdurum:\n\u001b[1;32m---> 73\u001b[0m     my_mp3\u001b[38;5;241m.\u001b[39mcalistir()\n\u001b[0;32m     74\u001b[0m \u001b[38;5;28mprint\u001b[39m(\u001b[38;5;124m\"\u001b[39m\u001b[38;5;124mProgram sonlandı\u001b[39m\u001b[38;5;124m\"\u001b[39m)\n",
      "Cell \u001b[1;32mIn[25], line 50\u001b[0m, in \u001b[0;36mMp3Calar.calistir\u001b[1;34m(self)\u001b[0m\n\u001b[0;32m     48\u001b[0m \u001b[38;5;28;01mdef\u001b[39;00m \u001b[38;5;21mcalistir\u001b[39m(\u001b[38;5;28mself\u001b[39m):\n\u001b[0;32m     49\u001b[0m     \u001b[38;5;28mself\u001b[39m\u001b[38;5;241m.\u001b[39mmenu_goster()\n\u001b[1;32m---> 50\u001b[0m     secim \u001b[38;5;241m=\u001b[39m \u001b[38;5;28mself\u001b[39m\u001b[38;5;241m.\u001b[39msecim()\n\u001b[0;32m     52\u001b[0m     \u001b[38;5;28;01mif\u001b[39;00m secim \u001b[38;5;241m==\u001b[39m \u001b[38;5;241m1\u001b[39m:\n\u001b[0;32m     53\u001b[0m         \u001b[38;5;28mself\u001b[39m\u001b[38;5;241m.\u001b[39msarkisec()\n",
      "Cell \u001b[1;32mIn[25], line 46\u001b[0m, in \u001b[0;36mMp3Calar.secim\u001b[1;34m(self)\u001b[0m\n\u001b[0;32m     44\u001b[0m \u001b[38;5;28;01mwhile\u001b[39;00m sec \u001b[38;5;241m<\u001b[39m \u001b[38;5;241m1\u001b[39m \u001b[38;5;129;01mor\u001b[39;00m sec \u001b[38;5;241m>\u001b[39m\u001b[38;5;241m7\u001b[39m:\n\u001b[0;32m     45\u001b[0m     secim \u001b[38;5;241m=\u001b[39m \u001b[38;5;28mint\u001b[39m(\u001b[38;5;28minput\u001b[39m(\u001b[38;5;124m\"\u001b[39m\u001b[38;5;124mSeçtiğiniz değer yanlış ,lütfen belirtilen aralıklara değer giriniz(1-7): \u001b[39m\u001b[38;5;124m\"\u001b[39m))\n\u001b[1;32m---> 46\u001b[0m \u001b[38;5;28;01mreturn\u001b[39;00m secim\n",
      "\u001b[1;31mUnboundLocalError\u001b[0m: cannot access local variable 'secim' where it is not associated with a value"
     ]
    }
   ],
   "source": [
    "class Mp3Calar():\n",
    "    def __init__(self, sarki_listesi=None):\n",
    "        if sarki_listesi is None:\n",
    "            sarki_listesi = []\n",
    "        self.suanCalanSarkı = \"\"\n",
    "        self.ses = 100\n",
    "        self.sarki_listesi = sarki_listesi\n",
    "        self.durum = True\n",
    "\n",
    "    def sarkisec(self):\n",
    "        pass\n",
    "\n",
    "    def sesArttir(self):\n",
    "        pass\n",
    "\n",
    "    def sesAzalt(self):\n",
    "        pass\n",
    "\n",
    "    def rastgeleSarkiSec(self):\n",
    "        pass\n",
    "\n",
    "    def sarkiEkle(self):\n",
    "        sanatci = input(\"Sanatçı/ Grubu giriniz: \")\n",
    "        sarki = input(\"Şarkıyı giriniz: \")\n",
    "        self.sarki_listesi.append(sanatci + \" - \" + sarki)\n",
    "\n",
    "    def sarkiSil(self):\n",
    "        pass\n",
    "\n",
    "    def kapat(self):\n",
    "        self.durum = False\n",
    "\n",
    "    def menu_goster(self):\n",
    "        print(f\"\"\"\n",
    "-----Mp3 Çalara Hoşgeldiniz------\n",
    "Şarkı Listesi: {self.sarki_listesi}\n",
    "Şu an Çalan Şarkı: {self.suanCalanSarkı}\n",
    "Ses: {self.ses}\n",
    "\n",
    "1-) Şarkı Seç\n",
    "2-) Ses Arttır\n",
    "3-) Ses Azalt\n",
    "4-) Rastgele Şarkı Seç\n",
    "5-) Şarkı Sil\n",
    "6-) Kapat\n",
    "\"\"\")\n",
    "\n",
    "    def secim(self):  # `self` parametresi eklendi\n",
    "        sec = int(input(\"Seçiminizi Giriniz: \"))\n",
    "        while sec < 1 or sec > 6:\n",
    "            sec = int(input(\"Seçtiğiniz değer yanlış, lütfen belirtilen aralıklarda bir değer giriniz (1-6): \"))\n",
    "        return sec\n",
    "\n",
    "    def calistir(self):\n",
    "        self.menu_goster()\n",
    "        secim = self.secim()\n",
    "\n",
    "        if secim == 1:\n",
    "            self.sarkisec()\n",
    "        elif secim == 2:\n",
    "            self.sesArttir()\n",
    "        elif secim == 3:\n",
    "            self.sesAzalt()\n",
    "        elif secim == 4:\n",
    "            self.rastgeleSarkiSec()\n",
    "        elif secim == 5:\n",
    "            self.sarkiSil()\n",
    "        elif secim == 6:\n",
    "            self.kapat()\n",
    "\n",
    "\n",
    "# MP3 çalar çalıştırılıyor\n",
    "my_mp3 = Mp3Calar()\n",
    "while my_mp3.durum:\n",
    "    my_mp3.calistir()\n",
    "\n",
    "print(\"Program sonlandı.\")\n"
   ]
  },
  {
   "cell_type": "code",
   "execution_count": null,
   "metadata": {},
   "outputs": [],
   "source": []
  }
 ],
 "metadata": {
  "kernelspec": {
   "display_name": "base",
   "language": "python",
   "name": "python3"
  },
  "language_info": {
   "codemirror_mode": {
    "name": "ipython",
    "version": 3
   },
   "file_extension": ".py",
   "mimetype": "text/x-python",
   "name": "python",
   "nbconvert_exporter": "python",
   "pygments_lexer": "ipython3",
   "version": "3.12.4"
  }
 },
 "nbformat": 4,
 "nbformat_minor": 2
}
