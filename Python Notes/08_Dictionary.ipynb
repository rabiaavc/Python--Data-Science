{
 "cells": [
  {
   "cell_type": "markdown",
   "metadata": {},
   "source": [
    "# Dictionary"
   ]
  },
  {
   "cell_type": "markdown",
   "metadata": {},
   "source": [
    "## Sözlük Oluşturma\n",
    "\n",
    "sozluk[anahtar] = deger"
   ]
  },
  {
   "cell_type": "code",
   "execution_count": 1,
   "metadata": {},
   "outputs": [
    {
     "name": "stdout",
     "output_type": "stream",
     "text": [
      "<class 'dict'>\n"
     ]
    }
   ],
   "source": [
    "sozluk = {}\n",
    "sozluk1 = dict()\n",
    "\n",
    "print(type(sozluk))"
   ]
  },
  {
   "cell_type": "code",
   "execution_count": 4,
   "metadata": {},
   "outputs": [
    {
     "name": "stdout",
     "output_type": "stream",
     "text": [
      "40\n"
     ]
    }
   ],
   "source": [
    "kisiler = {\"melis\":20,\n",
    "           \"mahmut\":40,\n",
    "           \"murat\":35,\n",
    "           \"ali\":15,\n",
    "           \"sude\":46,\n",
    "           \"onur\":26\n",
    "           }\n",
    "\n",
    "print(kisiler[\"mahmut\"])"
   ]
  },
  {
   "cell_type": "code",
   "execution_count": null,
   "metadata": {},
   "outputs": [
    {
     "name": "stdout",
     "output_type": "stream",
     "text": [
      "['mckarakule', 'mehmet', 'Alix']\n",
      "['Xxxbela', 'ela', 'onur']\n",
      "['Dark', 'Mert', 'Onur']\n",
      "<class 'list'>\n",
      "{'Uye': ['mckarakule', 'mehmet', 'Alix'], 'Moderator': ['Xxxbela', 'ela', 'onur'], 'Yoneticiler': ['Dark', 'Mert', 'Onur'], 's.moderatorler': ['rabia', 'hava']}\n",
      "['mckarakule', 'mehmet', 'Alix', 'rabia']\n"
     ]
    },
    {
     "data": {
      "text/plain": [
       "['Mert']"
      ]
     },
     "execution_count": 1,
     "metadata": {},
     "output_type": "execute_result"
    }
   ],
   "source": [
    "uyeler = {\"Uye\":[\"mckarakule\",\"mehmet\",\"Alix\"],\n",
    "          \"Moderator\":[\"Xxxbela\",\"ela\",\"onur\"],\n",
    "          \"Yoneticiler\":[\"Dark\",\"Mert\",\"Onur\"]\n",
    "          }\n",
    "\n",
    "print(uyeler[\"Uye\"])\n",
    "print(uyeler[\"Moderator\"])\n",
    "print(uyeler[\"Yoneticiler\"])\n",
    "\n",
    "print(type(uyeler[\"Uye\"]))\n",
    "\n",
    "#ekleme işlemi\n",
    "uyeler[\"s.moderatorler\"] = [\"rabia\",\"hava\"]\n",
    "print(uyeler)\n",
    "\n",
    "uyeler[\"Uye\"].append(\"rabia\")\n",
    "print(uyeler[\"Uye\"])\n",
    "\n",
    "uyeler[\"Yoneticiler\"].pop() #index numarasına göre kaldırıyor\n",
    "uyeler[\"Yoneticiler\"]\n",
    "\n",
    "uyeler[\"Yoneticiler\"].remove(\"Dark\") #kaldırmak isyteiğim değeri kaldırıyor\n",
    "uyeler[\"Yoneticiler\"]"
   ]
  },
  {
   "cell_type": "markdown",
   "metadata": {},
   "source": [
    "## Kişi Ekleme ve Kaldırma Örnek"
   ]
  },
  {
   "cell_type": "code",
   "execution_count": null,
   "metadata": {},
   "outputs": [
    {
     "name": "stdout",
     "output_type": "stream",
     "text": [
      "['Xxxbela', 'ela', 'onur']\n",
      "rabia eklendi\n",
      "{'Uye': ['mckarakule', 'mehmet', 'Alix'], 'Moderator': ['Xxxbela', 'ela', 'onur', 'rabia'], 'Yoneticiler': ['Dark', 'Mert', 'Onur']}\n",
      "['mckarakule', 'mehmet', 'Alix']\n",
      "mehmet kaldırıldı\n",
      "İslem numarasını yanlış girdiniz.\n"
     ]
    }
   ],
   "source": [
    "uyeler = {\"Uye\":[\"mckarakule\",\"mehmet\",\"Alix\"],\n",
    "          \"Moderator\":[\"Xxxbela\",\"ela\",\"onur\"],\n",
    "          \"Yoneticiler\":[\"Dark\",\"Mert\",\"Onur\"]\n",
    "          }\n",
    "\n",
    "while True:\n",
    "    islem = int(input(\"Yapmak istediğiniz islemi seçiniz:\\n 1-Kisi kaldır\\n 2-Kisi Ekle\"))\n",
    "    if islem ==1:\n",
    "        yetki = input(\"Yetkiyi yazınız(Uye,Moderator,Yoneticiler)\")\n",
    "        if yetki == \"Uye\":\n",
    "            print(uyeler[\"Uye\"])\n",
    "            isim = input(\"Kaldırmak istediğiniz takma adı giriniz\")\n",
    "            uyeler[\"Uye\"].remove(isim)\n",
    "            print(\"{} kaldırıldı\".format(isim))\n",
    "        if yetki == \"Moderator\":\n",
    "            print(uyeler[\"Moderator\"])\n",
    "            isim = input(\"Kaldırmak istediğiniz takma adı giriniz\")\n",
    "            uyeler[\"Moderator\"].remove(isim)\n",
    "            print(\"{} kaldırıldı\".format(isim))\n",
    "        if yetki == \"Yoneticiler\":\n",
    "            print(uyeler[\"Yoneticiler\"])\n",
    "            isim = input(\"Kaldırmak istediğiniz takma adı giriniz\")\n",
    "            uyeler[\"Yoneticiler\"].remove(isim)\n",
    "            print(\"{} kaldırıldı\".format(isim))\n",
    "        print(uyeler)\n",
    "    elif islem ==2:\n",
    "        yetki = input(\"Yetkiyi yazınız(Uye,Moderator,Yoneticiler)\")\n",
    "        if yetki == \"Uye\":\n",
    "            print(uyeler[\"Uye\"])\n",
    "            isim = input(\"Eklemek istediğiniz takma adı giriniz\")\n",
    "            uyeler[\"Uye\"].append(isim)\n",
    "            print(\"{} eklendi\".format(isim))\n",
    "        if yetki == \"Moderator\":\n",
    "            print(uyeler[\"Moderator\"])\n",
    "            isim = input(\"Eklemek istediğiniz takma adı giriniz\")\n",
    "            uyeler[\"Moderator\"].append(isim)\n",
    "            print(\"{} eklendi\".format(isim))\n",
    "        if yetki == \"Yoneticiler\":\n",
    "            print(uyeler[\"Yoneticiler\"])\n",
    "            isim = input(\"Eklemek istediğiniz takma adı giriniz\")\n",
    "            uyeler[\"Yoneticiler\"].append(isim)\n",
    "            print(\"{} eklendi\".format(isim))\n",
    "        print(uyeler)\n",
    "    else:\n",
    "        print(\"İslem numarasını yanlış girdiniz.\")\n",
    "        print(uyeler)\n",
    "        break\n",
    "        "
   ]
  },
  {
   "cell_type": "code",
   "execution_count": 6,
   "metadata": {},
   "outputs": [
    {
     "name": "stdout",
     "output_type": "stream",
     "text": [
      "{}\n"
     ]
    }
   ],
   "source": [
    "uyeler = {\"Uye\":[\"mckarakule\",\"mehmet\",\"Alix\"],\n",
    "          \"Moderator\":[\"Xxxbela\",\"ela\",\"onur\"],\n",
    "          \"Yoneticiler\":[\"Dark\",\"Mert\",\"Onur\"]\n",
    "          }\n",
    "uyeler.clear() #tüm bulunan değerleri siliyor\n",
    "print(uyeler)"
   ]
  },
  {
   "cell_type": "code",
   "execution_count": 7,
   "metadata": {},
   "outputs": [
    {
     "data": {
      "text/plain": [
       "{'Uye': ['mckarakule', 'mehmet', 'Alix'],\n",
       " 'Moderator': ['Xxxbela', 'ela', 'onur'],\n",
       " 'Yoneticiler': ['Dark', 'Mert', 'Onur']}"
      ]
     },
     "execution_count": 7,
     "metadata": {},
     "output_type": "execute_result"
    }
   ],
   "source": [
    "uyeler = {\"Uye\":[\"mckarakule\",\"mehmet\",\"Alix\"],\n",
    "          \"Moderator\":[\"Xxxbela\",\"ela\",\"onur\"],\n",
    "          \"Yoneticiler\":[\"Dark\",\"Mert\",\"Onur\"]\n",
    "          }\n",
    "\n",
    "copyA1 = uyeler.copy()\n",
    "copyA1"
   ]
  },
  {
   "cell_type": "code",
   "execution_count": 8,
   "metadata": {},
   "outputs": [
    {
     "data": {
      "text/plain": [
       "{'Uye': ['mckarakule', 'mehmet', 'Alix'],\n",
       " 'Yoneticiler': ['Dark', 'Mert', 'Onur']}"
      ]
     },
     "execution_count": 8,
     "metadata": {},
     "output_type": "execute_result"
    }
   ],
   "source": [
    "uyeler.pop(\"Moderator\")\n",
    "uyeler"
   ]
  },
  {
   "cell_type": "code",
   "execution_count": 16,
   "metadata": {},
   "outputs": [
    {
     "name": "stdout",
     "output_type": "stream",
     "text": [
      "dict_values([['mckarakule', 'mehmet', 'Alix'], ['Xxxbela', 'ela', 'onur'], ['Dark', 'Mert', 'Onur']])\n",
      "<class 'dict_values'>\n",
      "mckarakule\n",
      "mehmet\n",
      "Alix\n",
      "Xxxbela\n",
      "ela\n",
      "onur\n",
      "Dark\n",
      "Mert\n",
      "Onur\n"
     ]
    }
   ],
   "source": [
    "uyeler = {\"Uye\":[\"mckarakule\",\"mehmet\",\"Alix\"],\n",
    "          \"Moderator\":[\"Xxxbela\",\"ela\",\"onur\"],\n",
    "          \"Yoneticiler\":[\"Dark\",\"Mert\",\"Onur\"]\n",
    "          }\n",
    "print(uyeler.values())\n",
    "print(type(uyeler.values()))\n",
    "\n",
    "tum_kullanıcılar = uyeler.values()\n",
    "\n",
    "for kullanici in tum_kullanıcılar:\n",
    "    for k in kullanici:\n",
    "        print(k)\n"
   ]
  },
  {
   "cell_type": "code",
   "execution_count": 18,
   "metadata": {},
   "outputs": [
    {
     "name": "stdout",
     "output_type": "stream",
     "text": [
      "dict_keys(['Uye', 'Moderator', 'Yoneticiler'])\n",
      "<class 'dict_keys'>\n",
      "Uye\n",
      "Moderator\n",
      "Yoneticiler\n"
     ]
    }
   ],
   "source": [
    "print(uyeler.keys())\n",
    "print(type(uyeler.keys()))\n",
    "\n",
    "tum_kullanıcılar = uyeler.keys()\n",
    "\n",
    "for kullanici in tum_kullanıcılar:\n",
    "        print(kullanici)\n"
   ]
  },
  {
   "cell_type": "code",
   "execution_count": 20,
   "metadata": {},
   "outputs": [
    {
     "name": "stdout",
     "output_type": "stream",
     "text": [
      "Anahtar: Uye, Değer: ['mckarakule', 'mehmet', 'Alix']\n",
      "Anahtar: Moderator, Değer: ['Xxxbela', 'ela', 'onur']\n",
      "Anahtar: Yoneticiler, Değer: ['Dark', 'Mert', 'Onur']\n"
     ]
    }
   ],
   "source": [
    "sozluk = uyeler.items() #tuple lardan olşan bir liste ve dicitonary nin tüm itemlarını içeriyor \n",
    "\n",
    "for anahtar, deger in sozluk:\n",
    "    print(f\"Anahtar: {anahtar}, Değer: {deger}\")"
   ]
  }
 ],
 "metadata": {
  "kernelspec": {
   "display_name": "base",
   "language": "python",
   "name": "python3"
  },
  "language_info": {
   "codemirror_mode": {
    "name": "ipython",
    "version": 3
   },
   "file_extension": ".py",
   "mimetype": "text/x-python",
   "name": "python",
   "nbconvert_exporter": "python",
   "pygments_lexer": "ipython3",
   "version": "3.12.4"
  }
 },
 "nbformat": 4,
 "nbformat_minor": 2
}
