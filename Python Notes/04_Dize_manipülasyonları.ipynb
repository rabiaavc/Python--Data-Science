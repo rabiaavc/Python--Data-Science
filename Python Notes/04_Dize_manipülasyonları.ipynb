{
 "cells": [
  {
   "cell_type": "markdown",
   "metadata": {},
   "source": [
    "# DİZE MAİPÜLASYON İŞLEMLERİ"
   ]
  },
  {
   "cell_type": "markdown",
   "metadata": {},
   "source": [
    "<code>upper</code> yöntemiyle deneyelim; bu yöntem küçük harf karakterlerini büyük harf karakterlerine dönüştürür:"
   ]
  },
  {
   "cell_type": "code",
   "execution_count": 1,
   "metadata": {},
   "outputs": [
    {
     "name": "stdout",
     "output_type": "stream",
     "text": [
      "before upper: Thriller is the sixth studio album\n",
      "After upper: THRILLER IS THE SIXTH STUDIO ALBUM\n"
     ]
    }
   ],
   "source": [
    "# Dizedeki tüm karakterleri büyük harfe dönüştürür\n",
    "\n",
    "a = \"Thriller is the sixth studio album\"\n",
    "print(\"before upper:\", a)\n",
    "b = a.upper()\n",
    "print(\"After upper:\", b)"
   ]
  },
  {
   "cell_type": "markdown",
   "metadata": {},
   "source": [
    "<code>replace</code> yöntemi, dizenin bir bölümünü, yani bir alt dizeyi yeni bir dizeyle değiştirir. Dizenin değiştirmek istediğimiz bölümünü giriyoruz. İkinci argüman, segmenti ne ile değiştirmek istediğimizdir ve sonuç, segmenti değiştirilmiş yeni bir dizedir:"
   ]
  },
  {
   "cell_type": "code",
   "execution_count": 2,
   "metadata": {},
   "outputs": [
    {
     "data": {
      "text/plain": [
       "'Can Yılmaz is the best'"
      ]
     },
     "execution_count": 2,
     "metadata": {},
     "output_type": "execute_result"
    }
   ],
   "source": [
    "# Dizede segment bulunmuşsa eski alt dizeyi yeni hedef alt dizeyle değiştirin\n",
    "\n",
    "a = \"Cem Yılmaz is the best\"\n",
    "b = a.replace('Cem', 'Can')\n",
    "b"
   ]
  },
  {
   "cell_type": "markdown",
   "metadata": {},
   "source": [
    "<code>find</code> yöntemi bir alt dizeyi bulur. Argüman, bulmak istediğiniz alt dizedir ve çıktı, dizinin ilk indeksidir. <code>jack</code> veya <code>el<code> alt dizesini bulabiliriz."
   ]
  },
  {
   "cell_type": "code",
   "execution_count": 3,
   "metadata": {},
   "outputs": [
    {
     "data": {
      "text/plain": [
       "1"
      ]
     },
     "execution_count": 3,
     "metadata": {},
     "output_type": "execute_result"
    }
   ],
   "source": [
    "# Dize içindeki alt dizeyi bulur. Yalnızca dizedeki alt dizenin ilk elmentinin indeksi çıktı olacaktır\n",
    "\n",
    "name = \"Cem Yılmaz\"\n",
    "name.find('em')"
   ]
  },
  {
   "cell_type": "code",
   "execution_count": 4,
   "metadata": {},
   "outputs": [
    {
     "data": {
      "text/plain": [
       "7"
      ]
     },
     "execution_count": 4,
     "metadata": {},
     "output_type": "execute_result"
    }
   ],
   "source": [
    "# Dize içindeki alt dizeyi bulun.\n",
    "\n",
    "\n",
    "name.find('maz')"
   ]
  },
  {
   "cell_type": "markdown",
   "metadata": {},
   "source": [
    "Eğer alt dize dizenin içinde değilse, çıktı negatif olur. Örneğin, 'Jasdfasdasdf' dizesi bir alt dize değildir:"
   ]
  },
  {
   "cell_type": "code",
   "execution_count": 5,
   "metadata": {},
   "outputs": [
    {
     "data": {
      "text/plain": [
       "-1"
      ]
     },
     "execution_count": 5,
     "metadata": {},
     "output_type": "execute_result"
    }
   ],
   "source": [
    "# Alt dizeyi dize içinde bulamazsa\n",
    "\n",
    "name.find('Jasdfasdasdf')"
   ]
  },
  {
   "cell_type": "markdown",
   "metadata": {},
   "source": [
    "<code>Split</code> yöntemi dizeyi belirtilen ayırıcıda böler ve bir liste döndürür:"
   ]
  },
  {
   "cell_type": "code",
   "execution_count": null,
   "metadata": {},
   "outputs": [
    {
     "data": {
      "text/plain": [
       "['Cem', 'Yılmaz']"
      ]
     },
     "execution_count": 6,
     "metadata": {},
     "output_type": "execute_result"
    }
   ],
   "source": [
    "#Alt dizeyi listeye bölme\n",
    "name = \"Cem  Yılmaz\"\n",
    "split_string = (name.split()) #BOŞLUKKLARDAN STRİNGİ BÖL\n",
    "split_string"
   ]
  }
 ],
 "metadata": {
  "kernelspec": {
   "display_name": "base",
   "language": "python",
   "name": "python3"
  },
  "language_info": {
   "codemirror_mode": {
    "name": "ipython",
    "version": 3
   },
   "file_extension": ".py",
   "mimetype": "text/x-python",
   "name": "python",
   "nbconvert_exporter": "python",
   "pygments_lexer": "ipython3",
   "version": "3.12.4"
  }
 },
 "nbformat": 4,
 "nbformat_minor": 2
}
