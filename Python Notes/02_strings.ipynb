{
 "cells": [
  {
   "cell_type": "code",
   "execution_count": null,
   "metadata": {},
   "outputs": [],
   "source": [
    "yazi = \"Rabia Avcı\"\n",
    "\n",
    "def cokluYazdir(sayi,gelenYazi):\n",
    "    for i in range(sayi):\n",
    "        print(gelenYazi)\n",
    "\n",
    "cokluYazdir(10,yazi)"
   ]
  },
  {
   "cell_type": "code",
   "execution_count": 2,
   "metadata": {},
   "outputs": [
    {
     "name": "stdout",
     "output_type": "stream",
     "text": [
      "\n",
      "kagfjwfgJWGFEJKWGFJK\n",
      "SFGKRWGFWGJFKJW\n",
      "WRSHGLKRGLAKWKLR\n",
      "\n",
      "\n",
      "kAgfjwfgJWGFEJKWGFJK\n",
      "SFGKRWGFWGJFKJW\n",
      "WRSHGLKRGLAKWKLR\n",
      "\n"
     ]
    }
   ],
   "source": [
    "#TEK SATIRA SIĞMAYAN YAZILAR\n",
    "\n",
    "yazi1 = \"\"\"\n",
    "kagfjwfgJWGFEJKWGFJK\n",
    "SFGKRWGFWGJFKJW\n",
    "WRSHGLKRGLAKWKLR\n",
    "\"\"\"\n",
    "\n",
    "print(yazi1)\n",
    "print(yazi1.replace(\"a\",\"A\")) "
   ]
  },
  {
   "cell_type": "markdown",
   "metadata": {},
   "source": [
    "# REPLACE FONKSİYONU KULLANMADAN HARFLERİ DEĞİŞTİRME\n",
    "\n",
    "list.append() fonksiyonu, bir listeye yeni bir öğe eklemek için kullanılır. \n",
    "Bu fonksiyon, verilen öğeyi listenin sonuna ekler."
   ]
  },
  {
   "cell_type": "code",
   "execution_count": 3,
   "metadata": {},
   "outputs": [
    {
     "name": "stdout",
     "output_type": "stream",
     "text": [
      "['\\n', 'k', 'a', 'g', 'f', 'j', 'w', 'f', 'g', 'J', 'W', 'G', 'F', 'E', 'J', 'K', 'W', 'G', 'F', 'J', 'K', '\\n', 'S', 'F', 'G', 'K', 'R', 'W', 'G', 'F', 'W', 'G', 'J', 'F', 'K', 'J', 'W', '\\n', 'W', 'R', 'S', 'H', 'G', 'L', 'K', 'R', 'G', 'L', 'A', 'K', 'W', 'K', 'L', 'R', '\\n']\n"
     ]
    }
   ],
   "source": [
    "\n",
    "yeniYazi = []\n",
    "\n",
    "for harf in yazi1:\n",
    "    if harf == \"a\":\n",
    "       yeniYazi.append(\"a\")\n",
    "    else:\n",
    "        yeniYazi.append(harf)\n",
    "\n",
    "print(yeniYazi)"
   ]
  },
  {
   "cell_type": "markdown",
   "metadata": {},
   "source": [
    "# Stringler tüm karakterler belirli bi indeks ile hafızaya kayıt oluyor (Slicing)"
   ]
  },
  {
   "cell_type": "code",
   "execution_count": 4,
   "metadata": {},
   "outputs": [
    {
     "name": "stdout",
     "output_type": "stream",
     "text": [
      "M\n",
      "Mekatronik\n"
     ]
    }
   ],
   "source": [
    "yazi2 = \"Mert Mekatronik\"\n",
    "\n",
    "print(yazi2[0])\n",
    "print(yazi2[5:15])"
   ]
  },
  {
   "cell_type": "markdown",
   "metadata": {},
   "source": [
    "# Find fonksiyonu istediğim verinin ilk indeks numarasını bize söylüyor"
   ]
  },
  {
   "cell_type": "code",
   "execution_count": 6,
   "metadata": {},
   "outputs": [
    {
     "name": "stdout",
     "output_type": "stream",
     "text": [
      "5\n"
     ]
    },
    {
     "data": {
      "text/plain": [
       "5"
      ]
     },
     "execution_count": 6,
     "metadata": {},
     "output_type": "execute_result"
    }
   ],
   "source": [
    "instagram_takipçilerim = \"Mert,Ali,Ayşe,rabia,kırmızı,yeşil\"\n",
    "\n",
    "print(instagram_takipçilerim.find(\"Ali\"))\n",
    "\n",
    "ali_baslangıc = instagram_takipçilerim.find(\"Ali\")\n",
    "ali_baslangıc"
   ]
  },
  {
   "cell_type": "code",
   "execution_count": null,
   "metadata": {},
   "outputs": [],
   "source": [
    "# ALİDEN SONRAKİ TÜM KARAKTERLERİ ALIYOR\n",
    "\n",
    "print(instagram_takipçilerim[ali_baslangıc:])"
   ]
  },
  {
   "cell_type": "code",
   "execution_count": null,
   "metadata": {},
   "outputs": [],
   "source": [
    "# alinin indeksinden sonra 15 e kadar 2 atlayarak gidiyor\n",
    "\n",
    "print(instagram_takipçilerim[ali_baslangıc:15:2])"
   ]
  },
  {
   "cell_type": "code",
   "execution_count": null,
   "metadata": {},
   "outputs": [],
   "source": [
    "print(instagram_takipçilerim[::-1]) #geriden yazdırmaya başladı\n",
    "\n",
    "print(instagram_takipçilerim[:5]) #5 ten öncesini alıyor\n",
    "\n",
    "print(instagram_takipçilerim[15:5:-2])"
   ]
  },
  {
   "cell_type": "code",
   "execution_count": null,
   "metadata": {},
   "outputs": [],
   "source": [
    "instagram_takipçilerim2 = [\"A\", \"B\", \"C\", \"D\", \"E\", \"F\", \"G\", \"H\", \"I\", \"J\", \"K\", \"L\", \"M\", \"N\", \"O\", \"P\", \"Q\", \"R\"]\n",
    "\n",
    "#15 ten başlıyor ama 5 dahil değil\n",
    "\n",
    "# 15. index: \"P\"\n",
    "# 13. index: \"N\"\n",
    "# 11. index: \"L\"\n",
    "# 9. index:  \"J\"\n",
    "# 7. index:  \"H\"\n",
    "\n",
    "print(instagram_takipçilerim2[15:5:-2])  "
   ]
  },
  {
   "cell_type": "markdown",
   "metadata": {},
   "source": [
    "# len() FONKSİYONU KARAKTER SAYISINI VERİYOR"
   ]
  },
  {
   "cell_type": "code",
   "execution_count": null,
   "metadata": {},
   "outputs": [],
   "source": [
    "\n",
    "print(len(instagram_takipçilerim))"
   ]
  },
  {
   "cell_type": "markdown",
   "metadata": {},
   "source": [
    "# String ifadeler toplanabiliyor"
   ]
  },
  {
   "cell_type": "code",
   "execution_count": null,
   "metadata": {},
   "outputs": [],
   "source": [
    "ad = \"ela\"\n",
    "soyad = \"demir\"\n",
    "\n",
    "print(ad +\" \" + soyad)"
   ]
  },
  {
   "cell_type": "code",
   "execution_count": null,
   "metadata": {},
   "outputs": [],
   "source": [
    "# r python'a dizginin ham dizgi olarak görüntüleneceğini söyleyecektir\n",
    "\n",
    "print(r\" Cem Yılmaz \\ is the best\" )"
   ]
  }
 ],
 "metadata": {
  "kernelspec": {
   "display_name": "base",
   "language": "python",
   "name": "python3"
  },
  "language_info": {
   "codemirror_mode": {
    "name": "ipython",
    "version": 3
   },
   "file_extension": ".py",
   "mimetype": "text/x-python",
   "name": "python",
   "nbconvert_exporter": "python",
   "pygments_lexer": "ipython3",
   "version": "3.12.4"
  }
 },
 "nbformat": 4,
 "nbformat_minor": 2
}
