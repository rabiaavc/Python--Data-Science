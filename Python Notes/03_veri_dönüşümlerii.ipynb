{
 "cells": [
  {
   "cell_type": "code",
   "execution_count": 1,
   "metadata": {},
   "outputs": [
    {
     "name": "stdout",
     "output_type": "stream",
     "text": [
      "<class 'float'>\n",
      "<class 'int'>\n"
     ]
    }
   ],
   "source": [
    "a = 5.42\n",
    "\n",
    "print(type(a))\n",
    "print(type(int(a)))\n"
   ]
  },
  {
   "cell_type": "code",
   "execution_count": 2,
   "metadata": {},
   "outputs": [
    {
     "name": "stdout",
     "output_type": "stream",
     "text": [
      "700\n"
     ]
    }
   ],
   "source": [
    "b = \"500\" #dışardan adığım değer\n",
    "\n",
    "# print( b + 200)\n",
    "\n",
    "print(int(b) + 200)"
   ]
  },
  {
   "cell_type": "code",
   "execution_count": 3,
   "metadata": {},
   "outputs": [
    {
     "name": "stdout",
     "output_type": "stream",
     "text": [
      "400 400 400 400 \n",
      "1600\n"
     ]
    }
   ],
   "source": [
    "print(\"400 \" * 4)\n",
    "\n",
    "print(int(\"400\")*4)"
   ]
  },
  {
   "cell_type": "markdown",
   "metadata": {},
   "source": [
    "dönüşüm yaptığım değer dönüştürdüğüm değer ile uyumlu olmalıdır"
   ]
  },
  {
   "cell_type": "code",
   "execution_count": 4,
   "metadata": {},
   "outputs": [],
   "source": [
    "c = \"545m\"\n",
    "d = int(a) #value error\n"
   ]
  },
  {
   "cell_type": "markdown",
   "metadata": {},
   "source": [
    "str ve int sınıflar gömülü olarak gelir.\n",
    "aldığın herhangi bir int değeri stringe çevirip ondan sonra len() fonksiyonu ile uzunluğuna bakabilirsin"
   ]
  },
  {
   "cell_type": "code",
   "execution_count": null,
   "metadata": {},
   "outputs": [
    {
     "name": "stdout",
     "output_type": "stream",
     "text": [
      "20\n"
     ]
    }
   ],
   "source": [
    "sayi = 26383689265093679054\n",
    "\n",
    "# len(sayi) #çünkü bu fonksiyon string sınıfına ait\n",
    "\n",
    "print(len(str(sayi)))"
   ]
  },
  {
   "cell_type": "markdown",
   "metadata": {},
   "source": [
    "# HESAP MAKİNESİ ÖRNEĞİ"
   ]
  },
  {
   "cell_type": "code",
   "execution_count": 6,
   "metadata": {},
   "outputs": [
    {
     "name": "stdout",
     "output_type": "stream",
     "text": [
      "100\n"
     ]
    }
   ],
   "source": [
    "\n",
    "\n",
    "a = int(input(\"sayi1: \"))\n",
    "b = int(input(\"sayi2: \"))\n",
    "\n",
    "secenek = int(input(\"1-topla \\n2-cikar\\n3-carp\\n4-bol\"))\n",
    "\n",
    "if secenek ==1:\n",
    "    print(a+b)\n",
    "elif secenek == 2:\n",
    "    print(a-b)\n",
    "elif secenek ==3:\n",
    "    print(a*b)\n",
    "else:\n",
    "    print(a/b)"
   ]
  }
 ],
 "metadata": {
  "kernelspec": {
   "display_name": "base",
   "language": "python",
   "name": "python3"
  },
  "language_info": {
   "codemirror_mode": {
    "name": "ipython",
    "version": 3
   },
   "file_extension": ".py",
   "mimetype": "text/x-python",
   "name": "python",
   "nbconvert_exporter": "python",
   "pygments_lexer": "ipython3",
   "version": "3.12.4"
  }
 },
 "nbformat": 4,
 "nbformat_minor": 2
}
