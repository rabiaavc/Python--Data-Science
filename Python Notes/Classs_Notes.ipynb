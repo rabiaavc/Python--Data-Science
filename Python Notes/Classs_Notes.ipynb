{
 "cells": [
  {
   "cell_type": "markdown",
   "metadata": {},
   "source": [
    "# Class\n",
    "\n",
    "Python'daki self ifadesi, sınıf içindeki metotların sınıfın örneğiyle (instance) çalışmasını sağlamak için kullanılır.\n",
    "\n",
    "Self Nedir?\n",
    "self, bir sınıfın içinde, o sınıfın örneğine (instance) erişimi temsil eden bir referanstır.\n",
    "\n",
    "Sınıfın içindeki tüm örnek değişkenlerine ve metotlarına erişmek için kullanılır.\n",
    "\n",
    "Zorunludur, çünkü Python, sınıf içindeki metotları çağırırken hangi nesneyle çalışacağını otomatik olarak anlamaz."
   ]
  },
  {
   "cell_type": "code",
   "execution_count": 2,
   "metadata": {},
   "outputs": [],
   "source": [
    "class Car:\n",
    "    def __init__(self, brand, model, year): # This is the constructor (initializer method) that runs when an object is created.\n",
    "        self.brand = brand  # Attribute (Instance Variable)\n",
    "        self.model = model  # Attribute (Instance Variable)\n",
    "        self.year = year    # Attribute (Instance Variable)\n",
    "\n",
    "    def show_info(self):  # Method\n",
    "        print(f\"Car: {self.brand} {self.model}, {self.year} model.\")\n"
   ]
  },
  {
   "cell_type": "markdown",
   "metadata": {},
   "source": [
    "Eğer <code>self</code> kullanılmazsa, bu değişkenler sadece <code>__init__</code> fonksiyonunun içinde geçerli olur ve nesneye ait olmaz.\n",
    "\n",
    "Python, <code>self</code> parametresini otomatik olarak eklemez, bu yüzden metotların ilk parametresi olarak yazılmalıdır."
   ]
  },
  {
   "cell_type": "markdown",
   "metadata": {},
   "source": [
    "###  Creating Objects from a Class"
   ]
  },
  {
   "cell_type": "code",
   "execution_count": 3,
   "metadata": {},
   "outputs": [
    {
     "name": "stdout",
     "output_type": "stream",
     "text": [
      "Car: Toyota Corolla, 2020 model.\n",
      "Car: Ford Mustang, 1967 model.\n"
     ]
    }
   ],
   "source": [
    "car1 = Car(\"Toyota\", \"Corolla\", 2020)\n",
    "car2 = Car(\"Ford\", \"Mustang\", 1967)\n",
    "\n",
    "car1.show_info()  # Car: Toyota Corolla, 2020 model.\n",
    "car2.show_info()  # Car: Ford Mustang, 1967 model."
   ]
  },
  {
   "cell_type": "markdown",
   "metadata": {},
   "source": [
    "###  Default Values in Attributes"
   ]
  },
  {
   "cell_type": "code",
   "execution_count": null,
   "metadata": {},
   "outputs": [],
   "source": [
    "class Phone:\n",
    "    def __init__(self, brand, model, price=1000):  # Default price is 1000\n",
    "        self.brand = brand\n",
    "        self.model = model\n",
    "        self.price = price\n",
    "\n",
    "    def show_info(self):\n",
    "        print(f\"Phone: {self.brand} {self.model}, Price: {self.price} USD.\")\n",
    "\n",
    "phone1 = Phone(\"Apple\", \"iPhone 13\")\n",
    "phone2 = Phone(\"Samsung\", \"Galaxy S21\", 15000)\n",
    "\n",
    "phone1.show_info()  # Phone: Apple iPhone 13, Price: 1000 USD.\n",
    "phone2.show_info()  # Phone: Samsung Galaxy S21, Price: 15000 USD."
   ]
  },
  {
   "cell_type": "markdown",
   "metadata": {},
   "source": [
    "### Metotlara Parametre Gönderme"
   ]
  },
  {
   "cell_type": "code",
   "execution_count": null,
   "metadata": {},
   "outputs": [],
   "source": [
    "class BankaHesabi:\n",
    "    def __init__(self, isim, bakiye=0):\n",
    "        self.isim = isim\n",
    "        self.bakiye = bakiye\n",
    "\n",
    "    def para_yatir(self, miktar):\n",
    "        self.bakiye += miktar\n",
    "        print(f\"{miktar} TL yatırıldı. Yeni bakiye: {self.bakiye} TL\")\n",
    "\n",
    "    def para_cek(self, miktar):\n",
    "        if miktar > self.bakiye:\n",
    "            print(\"Yetersiz bakiye!\")\n",
    "        else:\n",
    "            self.bakiye -= miktar\n",
    "            print(f\"{miktar} TL çekildi. Yeni bakiye: {self.bakiye} TL\")\n",
    "\n",
    "hesap = BankaHesabi(\"Furkan\", 500)\n",
    "hesap.para_yatir(200)  # 200 TL yatırıldı. Yeni bakiye: 700 TL\n",
    "hesap.para_cek(300)    # 300 TL çekildi. Yeni bakiye: 400 TL\n",
    "hesap.para_cek(500)    # Yetersiz bakiye!"
   ]
  },
  {
   "cell_type": "markdown",
   "metadata": {},
   "source": [
    "###  Class Variables vs Instance Variables / Class Değişkenleri vs Nesne Değişkenleri\n",
    "\n",
    "Bir sınıf değişkeni (class variable) tüm örnekler (nesneler) arasında paylaşılır,\n",
    "ancak örnek değişkenleri (instance variables) her nesneye özgüdür."
   ]
  },
  {
   "cell_type": "code",
   "execution_count": null,
   "metadata": {},
   "outputs": [],
   "source": [
    "class Student:\n",
    "    school_name = \"Çukurova University\"  # Class variable (shared by all instances)\n",
    "\n",
    "    def __init__(self, name, age):\n",
    "        self.name = name  # Instance variable (unique for each student)\n",
    "        self.age = age\n",
    "\n",
    "    def show_info(self):\n",
    "        print(f\"Student: {self.name}, Age: {self.age}, School: {Student.school_name}\")\n",
    "\n",
    "student1 = Student(\"Ahmet\", 20)\n",
    "student2 = Student(\"Elif\", 22)\n",
    "\n",
    "student1.show_info()  # Student: Ahmet, Age: 20, School: Çukurova University\n",
    "student2.show_info()  # Student: Elif, Age: 22, School: Çukurova University\n"
   ]
  },
  {
   "cell_type": "markdown",
   "metadata": {},
   "source": [
    "school_name is a class variable (shared by all students).\n",
    "\n",
    "name and age are instance variables (unique for each student)."
   ]
  },
  {
   "cell_type": "markdown",
   "metadata": {},
   "source": [
    "Concept\tExplanation\n",
    "\n",
    "<code>class</code>\t  Defines a class (blueprint for objects).\n",
    "\n",
    "__init__ Constructor method, runs when an object is created.\n",
    "\n",
    "<code>self</code>\tRefers to the current instance of the class.\n",
    "\n",
    "<code>Instance Variable</code>\tA variable unique to each object (self.name).\n",
    "\n",
    "<code>Class Variable</code>\tA variable shared by all instances (Student.school_name).\n",
    "\n",
    "<code>Method</code>\tA function defined inside a class.\n",
    "\n",
    "<code>Inheritance</code>\tA class can inherit attributes and methods from another class."
   ]
  },
  {
   "cell_type": "markdown",
   "metadata": {},
   "source": [
    "### Özel Metodlar"
   ]
  },
  {
   "cell_type": "code",
   "execution_count": 18,
   "metadata": {},
   "outputs": [],
   "source": [
    "class Kitap:\n",
    "    def __init__(self, ad, sayfa_sayisi):\n",
    "        self.ad = ad\n",
    "        self.sayfa_sayisi = sayfa_sayisi\n",
    "    def __str__(self):\n",
    "         return f\"Kitap: {self.ad}, {self.sayfa_sayisi} sayfa\"\n",
    "\n",
    "    def __len__(self):\n",
    "        return self.sayfa_sayisi\n",
    "\n",
    "\n",
    "kitap1 = Kitap(\"Python Programlama\", 450)\n",
    "kitap2 = Kitap(\"Yapay Zeka\", 300)"
   ]
  },
  {
   "cell_type": "markdown",
   "metadata": {},
   "source": [
    "<code>Kitap</code> adlı bir sınıf oluşturuluyor.\n",
    "\n",
    "__init__ metodu, sınıfın kurucu (constructor) metodudur.\n",
    "\n",
    "    ad → Kitabın adı\n",
    "\n",
    "    sayfa_sayisi → Kitabın sayfa sayısı\n",
    "\n",
    "    self.ad ve self.sayfa_sayisi, nesne değişkenleridir ve her kitap nesnesine özgüdür"
   ]
  },
  {
   "cell_type": "markdown",
   "metadata": {},
   "source": [
    "### __str__ Metodu\n",
    "\n",
    "__str__ metodu, bir nesne print() ile yazdırıldığında nasıl görüneceğini belirler.İnsan tarafından okunabilir bir çıktı üretir.\n",
    "\n"
   ]
  },
  {
   "cell_type": "code",
   "execution_count": 19,
   "metadata": {},
   "outputs": [
    {
     "name": "stdout",
     "output_type": "stream",
     "text": [
      "Kitap: Python Programlama, 450 sayfa\n"
     ]
    }
   ],
   "source": [
    "kitap = Kitap(\"Python Programlama\", 450)\n",
    "print(kitap)\n"
   ]
  },
  {
   "cell_type": "markdown",
   "metadata": {},
   "source": [
    "print(kitap) çağrıldığında, Python otomatik olarak __str__ metodunu çağırır.\n",
    "\n",
    "__str__ metodu, \"Kitap: Python Programlama, 450 sayfa\" şeklinde bir string döndürür.\n",
    "\n",
    "Eğer __str__ metodu tanımlanmazsa, Python nesnenin bellekteki adresini gösteren bir çıktı üretir."
   ]
  },
  {
   "cell_type": "markdown",
   "metadata": {},
   "source": [
    "### __len__ Metodu\n",
    "\n",
    "__len__ metodu, len(nesne) çağrıldığında ne döneceğini belirler.\n",
    "\n",
    "Genellikle uzunluk veya sayısal bir değer döndürmek için kullanılır.\n",
    "\n",
    "len(kitap) çağrıldığında, Python otomatik olarak __len__ metodunu çağırır.\n",
    "\n",
    "Burada kitabın sayfa sayısını döndürüyoruz, yani 450."
   ]
  },
  {
   "cell_type": "code",
   "execution_count": 20,
   "metadata": {},
   "outputs": [
    {
     "name": "stdout",
     "output_type": "stream",
     "text": [
      "450\n"
     ]
    }
   ],
   "source": [
    "print(len(kitap))  # 450"
   ]
  }
 ],
 "metadata": {
  "kernelspec": {
   "display_name": "base",
   "language": "python",
   "name": "python3"
  },
  "language_info": {
   "codemirror_mode": {
    "name": "ipython",
    "version": 3
   },
   "file_extension": ".py",
   "mimetype": "text/x-python",
   "name": "python",
   "nbconvert_exporter": "python",
   "pygments_lexer": "ipython3",
   "version": "3.12.4"
  }
 },
 "nbformat": 4,
 "nbformat_minor": 2
}
