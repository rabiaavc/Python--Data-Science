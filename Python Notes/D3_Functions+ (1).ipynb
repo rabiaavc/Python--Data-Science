{
 "cells": [
  {
   "cell_type": "markdown",
   "id": "835e58cb-5c92-46d1-99c7-61f7e9ea99d7",
   "metadata": {},
   "source": [
    "# Python'da Fonksiyonlar\n",
    "\n",
    "Gerekli tahmini süre: **40** dakika\n",
    "\n",
    "## Hedefler\n",
    "\n",
    "Bu laboratuvarı tamamladıktan sonra şunları yapabileceksiniz:\n",
    "\n",
    "* Fonksiyonları ve değişkenleri anlama\n",
    "* Fonksiyonlar ve değişkenlerle çalışma"
   ]
  },
  {
   "cell_type": "markdown",
   "id": "164a5de8-fa3f-4c68-96df-f3027f6bcdb9",
   "metadata": {},
   "source": [
    "<h1>Python'da Fonksiyonlar</h1>"
   ]
  },
  {
   "cell_type": "markdown",
   "id": "285a1d46-b8d5-44dc-a267-66878f51365b",
   "metadata": {},
   "source": [
    "<p><strong>Hoşgeldiniz!</strong> Bu not defteri size Python Programlama Dilindeki fonksiyonlar hakkında bilgi verecektir. Bu laboratuvarın sonunda, fonksiyon, değişkenler ve fonksiyonların nasıl kullanılacağı ile ilgili temel kavramları öğrenmiş olacaksınız.</p>"
   ]
  },
  {
   "cell_type": "markdown",
   "id": "0285121e-bd80-4be9-9055-0d3e1d16ad8b",
   "metadata": {},
   "source": [
    "<h2 id=\"func\">Fonksiyonlar</h2>"
   ]
  },
  {
   "cell_type": "markdown",
   "id": "e9cedbaf-0611-4a13-b827-7679ae249ba2",
   "metadata": {},
   "source": [
    "Bir fonksiyon, fonksiyonda belirtilen işlemleri gerçekleştiren yeniden kullanılabilir bir kod bloğudur. Görevleri parçalamanıza ve kodunuzu farklı programlarda yeniden kullanmanıza olanak tanır.\n",
    "\n",
    "İki tür fonksiyon vardır:\n",
    "\n",
    "<b>Ön tanımlı fonksiyonlar</b>\n",
    "<b>Kullanıcı tanımlı fonksiyonlar</b>"
   ]
  },
  {
   "cell_type": "markdown",
   "id": "aadc0fb0-894f-444f-b664-7cc0e6d24813",
   "metadata": {},
   "source": [
    "<h3 id=\"content\">Fonksiyon Nedir?</h3>"
   ]
  },
  {
   "cell_type": "markdown",
   "id": "fdb30620-003d-4b8a-94f2-991b2b43b098",
   "metadata": {},
   "source": [
    "İstenilen işlevselliği sağlamak için fonksiyonları tanımlayabilirsiniz. Bir fonksiyonu tanımlamak için Python'da basit kurallar şunlardır:\n",
    "\n",
    "Fonksiyon blokları <code>def</code> ile başlar, ardından fonksiyon <code>adı</code> ve parantezler <code>()</code> gelir.\n",
    "Bu parantezlerin içine yerleştirilmesi gereken giriş parametreleri veya argümanlar vardır.\n",
    "Bu parantezlerin içine parametreler de tanımlayabilirsiniz.\n",
    "Her fonksiyonun bir gövdesi vardır, bu gövde iki nokta üst üste (<code>:</code>) ile başlar ve girintilidir.\n",
    "Ayrıca, gövdenin önüne belgelendirme yerleştirebilirsiniz.\n",
    "<code>return</code> ifadesi, bir fonksiyondan çıkar ve isteğe bağlı olarak bir değer döndürür.\n",
    "Parametre <code>a</code>'ya ekleyen, çıktıyı yazdıran ve <code>b</code> olarak döndüren bir fonksiyon örneği:"
   ]
  },
  {
   "cell_type": "code",
   "execution_count": null,
   "metadata": {},
   "outputs": [],
   "source": [
    "a = 5\n",
    "b = a + 1\n",
    "b"
   ]
  },
  {
   "cell_type": "code",
   "execution_count": null,
   "id": "c51ad493-6f0b-4fd2-a6f1-27d7361fa856",
   "metadata": {},
   "outputs": [],
   "source": [
    "# İlk fonksiyon örneği: a'ya 1 ekleyin ve b olarak saklayın\n",
    "\n",
    "def add(a):\n",
    "    \n",
    "    \"\"\"\n",
    "    add 1 to a\n",
    "\n",
    "    \"\"\"\n",
    "    \n",
    "    b = a + 1\n",
    "\n",
    "    print(a, \"if you add one\", b)\n",
    "    \n",
    "    return b\n",
    "    \n",
    "    "
   ]
  },
  {
   "cell_type": "markdown",
   "id": "35d08a36-a2e3-4331-833c-1088c16b68d0",
   "metadata": {},
   "source": [
    "Bir fonksiyon hakkında yardım alabiliriz:"
   ]
  },
  {
   "cell_type": "code",
   "execution_count": null,
   "id": "8b9fa0c8-6554-48f2-b207-c4ab942162ca",
   "metadata": {},
   "outputs": [],
   "source": [
    "# Ekleme işlevi hakkında yardım alın\n",
    "\n",
    "help(add)"
   ]
  },
  {
   "cell_type": "markdown",
   "id": "fb615276-7132-4291-89a3-eeac026e1621",
   "metadata": {},
   "source": [
    "Fonksiyonu çağırabiliriz:"
   ]
  },
  {
   "cell_type": "code",
   "execution_count": null,
   "id": "eb3dba1d-16c3-40e0-86df-57d3011084e8",
   "metadata": {},
   "outputs": [],
   "source": [
    "# add() işlevini çağırın\n",
    "\n",
    "add(1)"
   ]
  },
  {
   "cell_type": "markdown",
   "id": "710519ef-c205-4f49-9d79-e14fb075fa64",
   "metadata": {},
   "source": [
    "Fonksiyonu yeni bir girdi ile çağırırsak yeni bir sonuç elde ederiz:"
   ]
  },
  {
   "cell_type": "code",
   "execution_count": null,
   "id": "2dc8626a-bf80-442e-9169-f38470691e1f",
   "metadata": {},
   "outputs": [],
   "source": [
    "# add() işlevini çağırın\n",
    "\n",
    "add(2)"
   ]
  },
  {
   "cell_type": "markdown",
   "id": "96665e1c-5737-4723-87f5-6779cd0b68b2",
   "metadata": {},
   "source": [
    "Farklı fonksiyonlar oluşturabiliriz. Örneğin, iki sayıyı çarpan bir fonksiyon oluşturabiliriz. Sayılar <code>a</code> ve <code>b</code> değişkenleri ile temsil edilecektir:"
   ]
  },
  {
   "cell_type": "code",
   "execution_count": 2,
   "id": "3df6f861-3f84-4b09-b4b9-451bd6774e72",
   "metadata": {},
   "outputs": [
    {
     "name": "stdout",
     "output_type": "stream",
     "text": [
      "24\n"
     ]
    }
   ],
   "source": [
    "# Çoklu iki sayı için bir fonksiyon tanımlayın\n",
    "\n",
    "def Mult(a, b):\n",
    "    c = a * b\n",
    "    return(c)\n",
    "    print('This is not printed')\n",
    "    \n",
    "    \n",
    "result = Mult(12,2)\n",
    "print(result)"
   ]
  },
  {
   "cell_type": "markdown",
   "id": "b7a35df7-c21c-402e-8745-1d32a235d7e2",
   "metadata": {},
   "source": [
    "Aynı fonksiyon farklı veri tipleri için kullanılabilir. Örneğin, iki tamsayıyı çarpabiliriz:"
   ]
  },
  {
   "cell_type": "code",
   "execution_count": null,
   "id": "4274b168-ea2f-4316-9ecc-b1a5fb30c7ce",
   "metadata": {},
   "outputs": [],
   "source": [
    "# mult() işlevini kullanarak iki tamsayıyı çarpın\n",
    "\n",
    "Mult(2,3)"
   ]
  },
  {
   "cell_type": "markdown",
   "id": "7c48659b-df69-4ecc-87e3-84c72512566f",
   "metadata": {},
   "source": [
    "Fonksiyonun <code> return </code> deyiminde nasıl sonlandığına ve geriye bir değer aktardığına dikkat edin. Bu değer istenildiği gibi farklı bir değişkene atanabilir.\n",
    "<hr>\n",
    "Aynı fonksiyon farklı veri tipleri için kullanılabilir. Örneğin, iki tamsayıyı çarpabiliriz:"
   ]
  },
  {
   "cell_type": "markdown",
   "id": "b7c47937-b37c-4a01-9f9d-5ea9288c98d4",
   "metadata": {},
   "source": [
    "İki Floats:\n"
   ]
  },
  {
   "cell_type": "code",
   "execution_count": 3,
   "id": "bf5c8b4b-f77e-445d-9e3f-08b22415875e",
   "metadata": {},
   "outputs": [
    {
     "data": {
      "text/plain": [
       "31.400000000000002"
      ]
     },
     "execution_count": 3,
     "metadata": {},
     "output_type": "execute_result"
    }
   ],
   "source": [
    "# mult() işlevini kullanarak iki floatı çarpın\n",
    "\n",
    "Mult(10.0, 3.14)"
   ]
  },
  {
   "cell_type": "markdown",
   "id": "ec8c3caa-6a9e-4108-b4ae-abe745481a0a",
   "metadata": {},
   "source": [
    "Hatta bir dizeyi bir tamsayı ile çarparak çoğaltabiliriz:"
   ]
  },
  {
   "cell_type": "code",
   "execution_count": 4,
   "id": "d34cca65-55e5-467c-b929-7e830dea9141",
   "metadata": {},
   "outputs": [
    {
     "data": {
      "text/plain": [
       "'Cem YilmazCem Yilmaz'"
      ]
     },
     "execution_count": 4,
     "metadata": {},
     "output_type": "execute_result"
    }
   ],
   "source": [
    "# mult() işlevini kullanarak iki farklı türdeki değeri çarpın\n",
    "\n",
    "\n",
    "Mult(2, \"Cem Yilmaz\")"
   ]
  },
  {
   "cell_type": "markdown",
   "id": "e15dc9a7-65e9-4af7-9723-305529e424a3",
   "metadata": {},
   "source": [
    "<h3 id=\"var\">Değişkenler</h3>"
   ]
  },
  {
   "cell_type": "markdown",
   "id": "aa5d8f91-d0ec-453e-9752-3196d534212c",
   "metadata": {},
   "source": [
    "Bir fonksiyonun girdisine resmi parametre denir.\n",
    "Bir fonksiyonun içinde bildirilen bir değişkene yerel değişken denir. Parametre yalnızca fonksiyon içinde (yani fonksiyonun başladığı ve durduğu noktada) mevcuttur.\n",
    "Bir fonksiyon tanımının dışında bildirilen bir değişken global bir değişkendir ve değeri program boyunca erişilebilir ve değiştirilebilir. Laboratuvarın sonunda global değişkenler hakkında daha fazla tartışacağız."
   ]
  },
  {
   "cell_type": "code",
   "execution_count": 5,
   "id": "65275c9f-0304-4842-8fca-14468471fc5c",
   "metadata": {},
   "outputs": [],
   "source": [
    "# Fonksiyon Tanımı\n",
    "\n",
    "\n",
    "def square(a):\n",
    "    \n",
    "    # Yerel değişken b\n",
    "    b = 1\n",
    "    c = a * a + b\n",
    "    print(a, \"if you square + 1\", c) \n",
    "    return(c)"
   ]
  },
  {
   "cell_type": "markdown",
   "id": "f3e863ef-769c-4a66-839e-72cd75227481",
   "metadata": {},
   "source": [
    "Fonksiyonu <b>3</b> girdisi ile çağırabiliriz:"
   ]
  },
  {
   "cell_type": "code",
   "execution_count": 6,
   "id": "91235ec0-905e-414b-bc9d-cae73465655d",
   "metadata": {},
   "outputs": [
    {
     "name": "stdout",
     "output_type": "stream",
     "text": [
      "3 if you square + 1 10\n"
     ]
    },
    {
     "data": {
      "text/plain": [
       "10"
      ]
     },
     "execution_count": 6,
     "metadata": {},
     "output_type": "execute_result"
    }
   ],
   "source": [
    "# Global değişkeni başlatır  \n",
    "\n",
    "x = 3\n",
    "# İşlev çağrısı yapar ve işlevi döndürür a y\n",
    "y = square(x)\n",
    "y"
   ]
  },
  {
   "cell_type": "markdown",
   "id": "0be4e73c-1ed0-41a8-815f-04d32969b849",
   "metadata": {},
   "source": [
    "Fonksiyonu <b>2</b> girdisi ile farklı bir şekilde çağırabiliriz:"
   ]
  },
  {
   "cell_type": "code",
   "execution_count": 7,
   "id": "be64140e-6af1-473d-b1b1-bfaeb91f4042",
   "metadata": {},
   "outputs": [
    {
     "name": "stdout",
     "output_type": "stream",
     "text": [
      "2 if you square + 1 5\n"
     ]
    },
    {
     "data": {
      "text/plain": [
       "5"
      ]
     },
     "execution_count": 7,
     "metadata": {},
     "output_type": "execute_result"
    }
   ],
   "source": [
    "# Parametre olarak doğrudan bir sayı girin\n",
    "\n",
    "square(2)"
   ]
  },
  {
   "cell_type": "markdown",
   "id": "2e62accc-484a-490a-bf35-76de6947c7c4",
   "metadata": {},
   "source": [
    "<code>return</code> ifadesi yoksa, fonksiyon <code>None</code> döndürür. Aşağıdaki iki fonksiyon eşdeğerdir:"
   ]
  },
  {
   "cell_type": "code",
   "execution_count": 8,
   "id": "53de8db4-e69e-4aea-a9e4-f83ae79c7339",
   "metadata": {},
   "outputs": [],
   "source": [
    "# Biri dönüş değeri Yok olan, diğeri dönüş değeri olmayan işlevler tanımlayın\n",
    "\n",
    "def CY():\n",
    "    print('Cem Yilmaz')\n",
    "\n",
    "def CY1():\n",
    "    print('Cem Yilmaz')\n",
    "    return(None)"
   ]
  },
  {
   "cell_type": "code",
   "execution_count": 9,
   "id": "f8728b6e-d3ff-46f6-85a2-79bd7d9044b6",
   "metadata": {},
   "outputs": [
    {
     "name": "stdout",
     "output_type": "stream",
     "text": [
      "Cem Yilmaz\n"
     ]
    }
   ],
   "source": [
    "# Çıktıya bakın\n",
    "\n",
    "x = CY()"
   ]
  },
  {
   "cell_type": "code",
   "execution_count": 10,
   "metadata": {},
   "outputs": [],
   "source": [
    "x"
   ]
  },
  {
   "cell_type": "code",
   "execution_count": 11,
   "id": "174eb9ae-8e8a-4168-b8c2-e52f06d47f51",
   "metadata": {},
   "outputs": [
    {
     "name": "stdout",
     "output_type": "stream",
     "text": [
      "Cem Yilmaz\n"
     ]
    }
   ],
   "source": [
    "# Çıktıya bakın\n",
    "\n",
    "y = CY1()"
   ]
  },
  {
   "cell_type": "code",
   "execution_count": 12,
   "metadata": {},
   "outputs": [],
   "source": [
    "y"
   ]
  },
  {
   "cell_type": "markdown",
   "id": "d34d1b4b-79a9-4bcd-8764-f95917cfe0cc",
   "metadata": {},
   "source": [
    "Bir çağrıdan sonra fonksiyonun yazdırılması, varsayılan dönüş ifadesinin **None** olduğunu ortaya çıkarır:"
   ]
  },
  {
   "cell_type": "code",
   "execution_count": 13,
   "id": "7485c622-348a-42f4-8654-92b6094b7cc9",
   "metadata": {},
   "outputs": [
    {
     "name": "stdout",
     "output_type": "stream",
     "text": [
      "Cem Yilmaz\n",
      "None\n",
      "Cem Yilmaz\n",
      "None\n"
     ]
    }
   ],
   "source": [
    "# Dönen işlevlerin ne olduğunu görün\n",
    "\n",
    "print(CY())\n",
    "print(CY1())"
   ]
  },
  {
   "cell_type": "markdown",
   "id": "057c234d-27cb-495f-919f-198c9e269e69",
   "metadata": {},
   "source": [
    "Toplama işlemini kullanarak iki dizeyi birleştiren bir <code>con</code> işlevi oluşturun:"
   ]
  },
  {
   "cell_type": "code",
   "execution_count": 14,
   "id": "0757ef2c-9fac-4030-b8c5-ffd0d2ec0485",
   "metadata": {},
   "outputs": [],
   "source": [
    "# Dizeleri birleştirmek için işlevi tanımlayın\n",
    "\n",
    "def con(a, b):\n",
    "    return(a + b)"
   ]
  },
  {
   "cell_type": "code",
   "execution_count": 15,
   "id": "a8dc9bdc-fb35-4e8e-a444-e3a323df0bff",
   "metadata": {},
   "outputs": [
    {
     "data": {
      "text/plain": [
       "'This is'"
      ]
     },
     "execution_count": 15,
     "metadata": {},
     "output_type": "execute_result"
    }
   ],
   "source": [
    "# con() işlevi üzerinde test edin\n",
    "\n",
    "con(\"This \", \"is\")"
   ]
  },
  {
   "cell_type": "markdown",
   "id": "531efba6-b277-4910-b6d8-41a37df8ad6c",
   "metadata": {},
   "source": [
    "<h3 id=\"simple\">Fonksiyonlar İşleri Basitleştirir</h3>"
   ]
  },
  {
   "cell_type": "markdown",
   "id": "4f927ecc-b5c4-4e5e-859b-5f328e54e2ae",
   "metadata": {},
   "source": [
    "<b>Blok 1</b> ve <b>Blok 2</b>'deki iki kod satırını düşünün: her blok için prosedür aynıdır. Farklı olan tek şey değişken adları ve değerleridir."
   ]
  },
  {
   "cell_type": "markdown",
   "id": "93f78f40-cbe3-4ad0-bc94-d0f5e142a083",
   "metadata": {},
   "source": [
    "<h4>Block 1:</h4>\n"
   ]
  },
  {
   "cell_type": "code",
   "execution_count": 16,
   "id": "bbb1d722-79b3-4875-bb99-d4b71698e4c5",
   "metadata": {},
   "outputs": [
    {
     "data": {
      "text/plain": [
       "5"
      ]
     },
     "execution_count": 16,
     "metadata": {},
     "output_type": "execute_result"
    }
   ],
   "source": [
    "# a ve b hesaplama bloğu1\n",
    "\n",
    "a1 = 4\n",
    "b1 = 5\n",
    "\n",
    "c1 = a1 + b1 + 2 * a1 * b1 - 1\n",
    "if(c1 < 0):\n",
    "    c1 = 0 \n",
    "else:\n",
    "    c1 = 5\n",
    "c1   "
   ]
  },
  {
   "cell_type": "markdown",
   "id": "58f5d6c7-6a1b-4008-8902-17d825e35858",
   "metadata": {},
   "source": [
    "<h4>Block 2:</h4>\n"
   ]
  },
  {
   "cell_type": "code",
   "execution_count": 17,
   "id": "7e1c7d25-dcb9-4c14-b19f-6a41650d5dd8",
   "metadata": {},
   "outputs": [
    {
     "data": {
      "text/plain": [
       "0"
      ]
     },
     "execution_count": 17,
     "metadata": {},
     "output_type": "execute_result"
    }
   ],
   "source": [
    "# a ve b hesaplama bloğu2\n",
    "\n",
    "a2 = 0\n",
    "b2 = 0\n",
    "\n",
    "c2 = a2 + b2 + 2 * a2 * b2 - 1\n",
    "if(c2 < 0):\n",
    "    c2 = 0 \n",
    "else:\n",
    "    c2 = 5\n",
    "c2   "
   ]
  },
  {
   "cell_type": "markdown",
   "id": "4d08ce4e-d53c-4201-a03b-115deb2cd0ac",
   "metadata": {},
   "source": [
    "Kod satırlarını bir fonksiyon ile değiştirebiliriz. Bir fonksiyon birçok talimatı tek bir kod satırında birleştirir. Bir fonksiyon tanımlandıktan sonra tekrar tekrar kullanılabilir. Programınızda aynı fonksiyonu birçok kez çağırabilirsiniz. Fonksiyonunuzu kaydedebilir ve başka bir programda kullanabilir ya da başka birinin fonksiyonunu kullanabilirsiniz. <b>Blok 1</b> ve <b>Blok 2</b> kodlarındaki kod satırları aşağıdaki fonksiyonla değiştirilebilir:"
   ]
  },
  {
   "cell_type": "code",
   "execution_count": 18,
   "id": "5f6c0123-6c48-4238-9f10-f2d044592191",
   "metadata": {},
   "outputs": [],
   "source": [
    "# Yukarıdaki hesaplama için bir Fonksiyon oluşturun\n",
    "\n",
    "def Equation(a,b):\n",
    "    c = a + b + 2 * a * b - 1\n",
    "    if(c < 0):\n",
    "        c = 0 \n",
    "    else:\n",
    "        c = 5\n",
    "    return(c) "
   ]
  },
  {
   "cell_type": "markdown",
   "id": "40e6dd8d-72cd-486c-8289-9b083b69f1ff",
   "metadata": {},
   "source": [
    "Kod **Blok 1** ve **Blok  2** artık kod **Blok  3** ve kod **Blok  4** ile değiştirilebilir."
   ]
  },
  {
   "cell_type": "markdown",
   "id": "56f8c47e-b80f-4daf-930c-472a23052055",
   "metadata": {},
   "source": [
    "<h4>Block 3:</h4>\n"
   ]
  },
  {
   "cell_type": "code",
   "execution_count": 19,
   "id": "55d2babd-8349-480d-af8a-55354f7257f8",
   "metadata": {},
   "outputs": [
    {
     "data": {
      "text/plain": [
       "5"
      ]
     },
     "execution_count": 19,
     "metadata": {},
     "output_type": "execute_result"
    }
   ],
   "source": [
    "a1 = 4\n",
    "b1 = 5\n",
    "c1 = Equation(a1, b1)\n",
    "c1"
   ]
  },
  {
   "cell_type": "markdown",
   "id": "50fd7326-6810-4afd-a7ab-081f803f815c",
   "metadata": {},
   "source": [
    "<h4>Block 4:</h4>\n"
   ]
  },
  {
   "cell_type": "code",
   "execution_count": 20,
   "id": "cbfc7f7c-ce5a-4fee-9b3c-7c015e4bf06e",
   "metadata": {},
   "outputs": [
    {
     "data": {
      "text/plain": [
       "0"
      ]
     },
     "execution_count": 20,
     "metadata": {},
     "output_type": "execute_result"
    }
   ],
   "source": [
    "a2 = 0\n",
    "b2 = 0\n",
    "c2 = Equation(a2, b2)\n",
    "c2"
   ]
  },
  {
   "cell_type": "markdown",
   "id": "154dd2e8-240d-425b-b6af-4cf7df7a4983",
   "metadata": {},
   "source": [
    "<hr>\n"
   ]
  },
  {
   "cell_type": "markdown",
   "id": "cbf1aa34-dedb-415e-841d-768e5ecd501a",
   "metadata": {},
   "source": [
    "<h2 id=\"pre\">Önceden tanımlanmış fonksiyonlar</h2>"
   ]
  },
  {
   "cell_type": "markdown",
   "id": "7a7fafd6-2b90-4d94-9b80-ba92d9f115e8",
   "metadata": {},
   "source": [
    "Python'da önceden tanımlanmış birçok fonksiyon vardır, bu yüzden basit olanlarla başlayalım."
   ]
  },
  {
   "cell_type": "markdown",
   "id": "8637e889-b51e-4ad7-811e-9aaaae3c42dd",
   "metadata": {},
   "source": [
    "<code>print()</code> işlevi:"
   ]
  },
  {
   "cell_type": "code",
   "execution_count": 21,
   "id": "109acd94-4b05-41f8-bc69-1adb002ae122",
   "metadata": {},
   "outputs": [
    {
     "name": "stdout",
     "output_type": "stream",
     "text": [
      "[10.0, 8.5, 9.5, 7.0, 7.0, 9.5, 9.0, 9.5]\n"
     ]
    }
   ],
   "source": [
    "# Yerleşik işlev print()\n",
    "\n",
    "album_ratings = [10.0, 8.5, 9.5, 7.0, 7.0, 9.5, 9.0, 9.5] \n",
    "print(album_ratings)"
   ]
  },
  {
   "cell_type": "markdown",
   "id": "45c546c2-685c-46ed-abb6-0d0d2b78a613",
   "metadata": {},
   "source": [
    "<code>sum()</code> işlevi bir liste veya tuple'daki tüm öğeleri toplar:"
   ]
  },
  {
   "cell_type": "code",
   "execution_count": 22,
   "id": "c577d32f-4605-470c-b5aa-64335f5b2660",
   "metadata": {},
   "outputs": [
    {
     "data": {
      "text/plain": [
       "70.0"
      ]
     },
     "execution_count": 22,
     "metadata": {},
     "output_type": "execute_result"
    }
   ],
   "source": [
    "# Bir listedeki veya tuple'daki her öğeyi toplamak için sum() işlevini kullanın\n",
    "\n",
    "sum(album_ratings)"
   ]
  },
  {
   "cell_type": "markdown",
   "id": "3b1a0df4-6130-40ef-852d-b22cdde2fb15",
   "metadata": {},
   "source": [
    "<code>len()</code> fonksiyonu bir listenin veya tuple'ın uzunluğunu döndürür:"
   ]
  },
  {
   "cell_type": "code",
   "execution_count": 23,
   "id": "e4a88728-811c-4e33-9c0c-4feafe0dec06",
   "metadata": {},
   "outputs": [
    {
     "data": {
      "text/plain": [
       "8"
      ]
     },
     "execution_count": 23,
     "metadata": {},
     "output_type": "execute_result"
    }
   ],
   "source": [
    "# Listenin veya tuple'ın uzunluğunu göster\n",
    "\n",
    "len(album_ratings)"
   ]
  },
  {
   "cell_type": "markdown",
   "id": "1289c420-2684-4fd7-9710-931336482ac3",
   "metadata": {},
   "source": [
    "<h2 id=\"if\">Fonksiyonlarda <code>if</code>/<code>else</code> İfadelerini ve Döngüleri Kullanma</h2>"
   ]
  },
  {
   "cell_type": "markdown",
   "id": "f5c92fd8-878d-42ac-9e04-929d8080df13",
   "metadata": {},
   "source": [
    "<code>return()</code> işlevi, özellikle işlevde herhangi bir IF deyimi varsa, çıktınızın bazı koşullara bağlı olmasını istediğinizde kullanışlıdır:"
   ]
  },
  {
   "cell_type": "code",
   "execution_count": 30,
   "id": "77ba3693-fe7c-4357-9de1-e756393a8433",
   "metadata": {},
   "outputs": [
    {
     "ename": "SyntaxError",
     "evalue": "unterminated string literal (detected at line 13) (2282407965.py, line 13)",
     "output_type": "error",
     "traceback": [
      "\u001b[1;36m  Cell \u001b[1;32mIn[30], line 13\u001b[1;36m\u001b[0m\n\u001b[1;33m    x = type_of_album(Thriller\",1980)\u001b[0m\n\u001b[1;37m                              ^\u001b[0m\n\u001b[1;31mSyntaxError\u001b[0m\u001b[1;31m:\u001b[0m unterminated string literal (detected at line 13)\n"
     ]
    }
   ],
   "source": [
    "# İşlev örneği\n",
    "\n",
    "def type_of_album(artist, album, year_released):\n",
    "    \n",
    "    print(artist, album, year_released)\n",
    "    \n",
    "    if year_released > 1980:\n",
    "        return \"Modern\"\n",
    "    else:\n",
    "        return \"Oldie\"\n",
    "    \n",
    "    \n",
    "x = type_of_album(Thriller\",1980)\n",
    "print(x)\n",
    "\n",
    "# parametre siismlerini vermeden direkt fonksiyona yazarsan sırası ile atama yapar"
   ]
  },
  {
   "cell_type": "code",
   "execution_count": 31,
   "metadata": {},
   "outputs": [
    {
     "name": "stdout",
     "output_type": "stream",
     "text": [
      "MJ Thriller 1980\n",
      "Oldie\n"
     ]
    }
   ],
   "source": [
    "x = type_of_album(artist=\"MJ\", album=\"Thriller\", year_released=1980)\n",
    "print(x)\n",
    "\n",
    "# ama atama ile gönderilirse direkt istenen parametereye atanır"
   ]
  },
  {
   "cell_type": "code",
   "execution_count": null,
   "metadata": {},
   "outputs": [],
   "source": []
  },
  {
   "cell_type": "markdown",
   "id": "55d0ffb0-5207-47bf-97a3-3d344e9cc05d",
   "metadata": {},
   "source": [
    "Bir fonksiyon içinde bir döngü kullanabiliriz. Örneğin, bir listedeki her bir öğeyi <code>print</code> edebiliriz:"
   ]
  },
  {
   "cell_type": "code",
   "execution_count": 34,
   "id": "65d78860-0901-4e86-8dba-9dfc4627ffd9",
   "metadata": {},
   "outputs": [],
   "source": [
    "# for döngüsünü kullanarak listeyi yazdırın\n",
    "\n",
    "def PrintList(the_list):\n",
    "\n",
    "    x = []\n",
    "\n",
    "    for element in the_list:\n",
    "        print(element)\n",
    "        x.append(element)\n",
    "        \n",
    "    return x\n"
   ]
  },
  {
   "cell_type": "code",
   "execution_count": 35,
   "id": "de14d995-1d8d-450d-9f8b-1164f2400b16",
   "metadata": {},
   "outputs": [
    {
     "name": "stdout",
     "output_type": "stream",
     "text": [
      "1\n",
      "1\n",
      "the man\n",
      "abc\n"
     ]
    },
    {
     "data": {
      "text/plain": [
       "['1', 1, 'the man', 'abc']"
      ]
     },
     "execution_count": 35,
     "metadata": {},
     "output_type": "execute_result"
    }
   ],
   "source": [
    "# printlist işlevini uygulayın\n",
    "\n",
    "PrintList(['1', 1, 'the man', \"abc\"])"
   ]
  },
  {
   "cell_type": "markdown",
   "id": "54b3ce0f-0bff-464f-8e35-a002cf8ab79b",
   "metadata": {},
   "source": [
    "<h2 id=\"if\">Fonksiyonlarda string karşılaştırması</h2>"
   ]
  },
  {
   "cell_type": "markdown",
   "id": "53239c27-b34d-44b2-bb01-fd159430949e",
   "metadata": {},
   "source": [
    "İlişkisel operatörler, dizelerin karakterlerinin Unicode değerlerini sıfırıncı dizinden dizenin sonuna kadar karşılaştırır. Daha sonra kullanılan operatöre göre bir boolean değeri döndürür."
   ]
  },
  {
   "cell_type": "code",
   "execution_count": 36,
   "id": "ce1fd617-cbf3-4379-a666-84306326e55b",
   "metadata": {},
   "outputs": [
    {
     "data": {
      "text/plain": [
       "'String matched'"
      ]
     },
     "execution_count": 36,
     "metadata": {},
     "output_type": "execute_result"
    }
   ],
   "source": [
    "#İn operatörünü kullanarak İki Dizeyi Doğrudan Karşılaştırın\n",
    "# add string\n",
    "string= \"Cem yilmaz is the best\"\n",
    "\n",
    "# Bir işlev tanımlayın\n",
    "\n",
    "def check_string(text):\n",
    "    \n",
    "# Dizeyi karşılaştırmak için if else deyimini ve 'in' operatörünü kullanın\n",
    "    if text in string:\n",
    "        return 'String matched'\n",
    "    else:\n",
    "        return 'String not matched'\n",
    "\n",
    "check_string(\"Cem\")"
   ]
  },
  {
   "cell_type": "code",
   "execution_count": null,
   "metadata": {},
   "outputs": [],
   "source": []
  },
  {
   "cell_type": "markdown",
   "id": "954cc080-7bdd-45cb-afdb-086477b15725",
   "metadata": {},
   "source": [
    "Bu program, iki dizeyi karşılaştırmak için compareStrings() adlı kullanıcı tanımlı bir fonksiyon kullanır. \n",
    "Bu fonksiyon her iki dizeyi de argüman olarak alır ve == operatörünü kullanarak her iki dizenin eşit olması durumunda 1 döndürür\n"
   ]
  },
  {
   "cell_type": "code",
   "execution_count": 38,
   "id": "eeea4a1d-31fd-4521-a4ea-4449a2296dd3",
   "metadata": {},
   "outputs": [
    {
     "name": "stdout",
     "output_type": "stream",
     "text": [
      "1\n"
     ]
    }
   ],
   "source": [
    "# == operatörünü ve fonksiyonunu kullanarak iki dizeyi karşılaştırın\n",
    "def compareStrings(x, y):\n",
    "# Use if else statement to compare x and y\n",
    "    if x==y:\n",
    "        return 1\n",
    "    \n",
    "\n",
    "# Declare two different variables as string1 and string2 and pass string in it\n",
    "string1 = \"Cem yilmaz is the best\"\n",
    "string2 = \"Cem yilmaz is the best\"\n",
    "\n",
    "# Declare a variable to store result after comparing both the strings\n",
    "check = compareStrings(string1, string2)\n",
    "print(check)\n"
   ]
  },
  {
   "cell_type": "markdown",
   "id": "f3456648-c541-4ee9-b51e-cb296ec0a9c0",
   "metadata": {},
   "source": [
    "**Sözlük Kullanarak Bir Dizede Geçen Kelimelerin Sıklığını Saymak.** \n",
    "Python kullanarak dizgimizdeki herhangi bir kelimenin oluşma sayısını bulun. Bu bölümde yapacağımız şey, verilen bir dizgideki kelime sayısını saymak ve yazdırmak.\n",
    "\n",
    "Örnek :\"Mary had a little lamb Little lamb, little lamb Mary had a little lamb.Its fleece was white as snow And everywhere that Mary went Mary went, Mary went \\\n",
    "Everywhere that Mary went The lamb was sure to go\"\n",
    "\n",
    "Diyelim ki elimizde bir 'string' ve 'kelime' var ve python kullanarak bu kelimenin stringimizde geçme sayısını bulmamız gerekiyor. Bu bölümde yapacağımız şey, verilen bir karakter dizisindeki kelime sayısını saymak ve yazdırmak. \n",
    "\n",
    "Yapacağımız ilk şey, bir fonksiyon tanımlamak ve ardından başlangıçta boş olacak bir liste oluşturmaktır.\n",
    "\n",
    "Daha sonra, dizeyi bir listeye dönüştürmek için bir kod ekleyeceğiz. Python string bir split() metoduna sahiptir. Bir liste döndürmek için bir string ve bir ayırıcı alır.\n",
    "Şimdi boş bir sözlük bildireceğiz.\n",
    "\n",
    "Daha sonra, kelimeleri yinelemek için for döngüsünü kullanarak kod ekleyeceğiz ve değer, dizideki her kelimenin sıklığını sayacak ve bunları sözlükte saklayacaktır.\n",
    "Son olarak sözlüğü yazdıracağız.\n"
   ]
  },
  {
   "cell_type": "code",
   "execution_count": 41,
   "metadata": {},
   "outputs": [],
   "source": [
    "text = \"Mary had a little lamb Little lamb, little lamb Mary had a little lamb.Its fleece was white as snow And everywhere that Mary went Mary went, Mary went \\\n",
    "Everywhere that Mary went The lamb was sure to go\""
   ]
  },
  {
   "cell_type": "code",
   "execution_count": null,
   "metadata": {},
   "outputs": [],
   "source": [
    "word = []\n",
    "words = text.split()"
   ]
  },
  {
   "cell_type": "code",
   "execution_count": null,
   "metadata": {},
   "outputs": [],
   "source": [
    "words.count(\"Mary\")"
   ]
  },
  {
   "cell_type": "code",
   "execution_count": null,
   "metadata": {},
   "outputs": [],
   "source": [
    "Dict = {}\n",
    "for key in words:\n",
    "    Dict[key] = words.count(key)"
   ]
  },
  {
   "cell_type": "code",
   "execution_count": null,
   "metadata": {},
   "outputs": [],
   "source": [
    "def word_count(text):\n",
    "    words = text.split() #stringi  her boşluktan bölerek listeye dönüştürüyor\n",
    "    Dict = {}\n",
    "    for key in words:\n",
    "        Dict[key] = words.count(key)\n",
    "    return Dict"
   ]
  },
  {
   "cell_type": "code",
   "execution_count": 43,
   "metadata": {},
   "outputs": [
    {
     "data": {
      "text/plain": [
       "{'Mary': 6,\n",
       " 'had': 2,\n",
       " 'a': 2,\n",
       " 'little': 3,\n",
       " 'lamb': 3,\n",
       " 'Little': 1,\n",
       " 'lamb,': 1,\n",
       " 'lamb.Its': 1,\n",
       " 'fleece': 1,\n",
       " 'was': 2,\n",
       " 'white': 1,\n",
       " 'as': 1,\n",
       " 'snow': 1,\n",
       " 'And': 1,\n",
       " 'everywhere': 1,\n",
       " 'that': 2,\n",
       " 'went': 3,\n",
       " 'went,': 1,\n",
       " 'Everywhere': 1,\n",
       " 'The': 1,\n",
       " 'sure': 1,\n",
       " 'to': 1,\n",
       " 'go': 1}"
      ]
     },
     "execution_count": 43,
     "metadata": {},
     "output_type": "execute_result"
    }
   ],
   "source": [
    "word_count(text)"
   ]
  },
  {
   "cell_type": "code",
   "execution_count": null,
   "metadata": {},
   "outputs": [],
   "source": []
  },
  {
   "cell_type": "markdown",
   "id": "3bcce086-7ec5-45a7-b0af-ebae2f5c0e35",
   "metadata": {},
   "source": [
    "<hr>\n"
   ]
  },
  {
   "cell_type": "markdown",
   "id": "b7ed4bde-9356-4839-9812-b59a6e3afb30",
   "metadata": {},
   "source": [
    "<h2 id=\"default\">Özel işlevlerinizde varsayılan bağımsız değişken değerlerini ayarlama</h2>"
   ]
  },
  {
   "cell_type": "markdown",
   "id": "11bc2a39-a4db-4c87-80ba-c850201615df",
   "metadata": {},
   "source": [
    "Fonksiyonunuzdaki argümanlar için varsayılan bir değer belirleyebilirsiniz. Örneğin, <code>isGoodRating()</code> fonksiyonunda, iyi bir derecelendirme olarak kabul ettiğimiz şey için bir eşik oluşturmak istersek ne olur? Belki de varsayılan olarak 4'lük bir varsayılan derecelendirmeye sahip olmalıyız:"
   ]
  },
  {
   "cell_type": "code",
   "execution_count": 44,
   "id": "390ea695-a4d1-4378-b3b5-90370f113565",
   "metadata": {},
   "outputs": [],
   "source": [
    "# Parametreleri varsayılan değerle ayarlamak için örnek\n",
    "\n",
    "def isGoodRating(rating=4): \n",
    "    if(rating < 7):\n",
    "        print(\"this album sucks it's rating is\",rating)\n",
    "    else:\n",
    "        print(\"this album is good its rating is\",rating)\n"
   ]
  },
  {
   "cell_type": "code",
   "execution_count": 45,
   "metadata": {},
   "outputs": [
    {
     "name": "stdout",
     "output_type": "stream",
     "text": [
      "this album sucks it's rating is 4\n"
     ]
    }
   ],
   "source": [
    "isGoodRating()"
   ]
  },
  {
   "cell_type": "code",
   "execution_count": 46,
   "id": "92de91e9-ae5e-4a40-875a-c452888f0be8",
   "metadata": {},
   "outputs": [
    {
     "name": "stdout",
     "output_type": "stream",
     "text": [
      "this album is good its rating is 10\n"
     ]
    }
   ],
   "source": [
    "# Değeri varsayılan değerle ve girdi ile test edin\n",
    "\n",
    "\n",
    "isGoodRating(10)"
   ]
  },
  {
   "cell_type": "markdown",
   "id": "8218dea2-7a62-4258-a155-08cd39760e01",
   "metadata": {},
   "source": [
    "<hr>\n"
   ]
  },
  {
   "cell_type": "markdown",
   "id": "aa395ed1-8a00-4c7c-8fc2-fbc45481b7dc",
   "metadata": {},
   "source": [
    "<h2 id=\"global\">Global değişkenler</h2>\n"
   ]
  },
  {
   "cell_type": "markdown",
   "id": "cbcfb54b-f65e-499d-9a2f-49117aa576f2",
   "metadata": {},
   "source": [
    "Şimdiye kadar, fonksiyonlar içinde değişkenler oluşturduk, ancak fonksiyon dışındaki değişkenlerden bahsetmedik. Bunlara global değişkenler denir. <br>\n",
    "<code>printer1</code>'in ne döndürdüğünü görmeye çalışalım:"
   ]
  },
  {
   "cell_type": "code",
   "execution_count": 48,
   "id": "b8046f3f-b0f4-425f-ada8-23bd8a77561d",
   "metadata": {},
   "outputs": [
    {
     "name": "stdout",
     "output_type": "stream",
     "text": [
      "Cem yilmaz is an artist\n",
      "Cem yilmaz is an artist\n"
     ]
    }
   ],
   "source": [
    "# Global değişken örneği\n",
    "\n",
    "artist = \"Cem yilmaz\"\n",
    "\n",
    "def printer1(artist):\n",
    "    global internal_var1\n",
    "    internal_var1 = artist\n",
    "    print(artist, \"is an artist\")\n",
    "    \n",
    "printer1(artist)\n",
    "# try runningthe following code\n",
    "printer1(internal_var1) # fonksiyon içindeki değişken"
   ]
  },
  {
   "cell_type": "markdown",
   "id": "a2ed55a4-7bc0-4253-93e7-c1095aa78205",
   "metadata": {},
   "source": [
    "<b>Bir İsim Hatası aldık:  <code>name 'internal_var' is not defined</code>. Neden?</b>\n",
    "Çünkü fonksiyon içinde oluşturduğumuz tüm değişkenler <b>local değişken</b>dir, yani değişken ataması fonksiyon dışında devam etmez.\n",
    "Ancak bir fonksiyonun içinden <b>global değişkenler</b> oluşturmanın aşağıdaki gibi bir yolu vardır:"
   ]
  },
  {
   "cell_type": "code",
   "execution_count": null,
   "id": "7266c724-5c36-48d3-9492-8ed0940b756c",
   "metadata": {},
   "outputs": [],
   "source": [
    "artist = \"Cem yilmaz\"\n",
    "\n",
    "def printer(artist):\n",
    "    global internal_var \n",
    "    internal_var= \"Whitney Houston\"\n",
    "    print(artist,\"is an artist\")\n",
    "\n",
    "printer(artist) \n",
    "printer(internal_var)"
   ]
  },
  {
   "cell_type": "markdown",
   "id": "d2287756-f411-4418-9ddb-986fe7da0fc7",
   "metadata": {},
   "source": [
    "<h2 id=\"scope\">Bir Değişkenin Kapsamı</h2>"
   ]
  },
  {
   "cell_type": "markdown",
   "id": "d327e363-d6a5-497b-83d9-0ea05bbdda2c",
   "metadata": {},
   "source": [
    "Bir değişkenin kapsamı, o değişkenin erişilebilir olduğu program parçasıdır. Burada gösterilen koddaki <code>myFavouriteBand</code> değişkeni gibi tüm fonksiyon tanımlarının dışında bildirilen değişkenlere programın herhangi bir yerinden erişilebilir. Sonuç olarak, bu tür değişkenlerin global kapsama sahip olduğu söylenir ve global değişkenler olarak bilinir. <code>myFavouriteBand</code> global bir değişkendir, bu nedenle <code>getBandRating</code> fonksiyonu içinden erişilebilir ve bir grubun derecelendirmesini belirlemek için kullanabiliriz. Ayrıca, bu değişkeni fonksiyon dışında da kullanabiliriz; örneğin, görüntülemek için print fonksiyonuna aktardığımızda:"
   ]
  },
  {
   "cell_type": "code",
   "execution_count": 49,
   "id": "3b85dac3-6b32-4638-83b3-e7b08fd728a8",
   "metadata": {},
   "outputs": [
    {
     "name": "stdout",
     "output_type": "stream",
     "text": [
      "AC/DC's rating is: 10.0\n",
      "Deep Purple's rating is: 0.0\n",
      "My favourite band is: AC/DC\n"
     ]
    }
   ],
   "source": [
    "# Global değişken örneği\n",
    "\n",
    "myFavouriteBand = \"AC/DC\"\n",
    "\n",
    "def getBandRating(bandname):\n",
    "    if bandname == myFavouriteBand:\n",
    "        return 10.0\n",
    "    else:\n",
    "        return 0.0\n",
    "\n",
    "print(\"AC/DC's rating is:\", getBandRating(\"AC/DC\"))\n",
    "print(\"Deep Purple's rating is:\",getBandRating(\"Deep Purple\"))\n",
    "print(\"My favourite band is:\", myFavouriteBand)"
   ]
  },
  {
   "cell_type": "markdown",
   "id": "79ae57c4-99ef-4ddb-9094-6fcce46d5196",
   "metadata": {},
   "source": [
    "Kodumuzun bu değiştirilmiş versiyonuna bir göz atın. Şimdi <code>myFavouriteBand</code> değişkeni <code>getBandRating</code> fonksiyonu içinde tanımlanmıştır. Bir fonksiyon içinde tanımlanan bir değişkenin, o fonksiyonun yerel değişkeni olduğu söylenir. Bu, değişkene yalnızca tanımlandığı fonksiyon içinden erişilebileceği anlamına gelir. <code>getBandRating</code> fonksiyonumuz hala çalışacaktır, çünkü <code>myFavouriteBand</code> hala fonksiyon içinde tanımlanmıştır. Ancak, artık <code>myFavouriteBand</code> öğesini işlevimizin dışına yazdıramayız, çünkü bu öğe <code>getBandRating</code> işlevimizin yerel bir değişkenidir; yalnızca <code>getBandRating</code> işlevi içinde tanımlanmıştır:"
   ]
  },
  {
   "cell_type": "code",
   "execution_count": 50,
   "id": "33183585-0545-44b6-97d2-bafe9de6c218",
   "metadata": {},
   "outputs": [
    {
     "name": "stdout",
     "output_type": "stream",
     "text": [
      "AC/DC's rating is:  10.0\n",
      "Deep Purple's rating is:  0.0\n"
     ]
    },
    {
     "ename": "NameError",
     "evalue": "name 'myFavouriteBand' is not defined",
     "output_type": "error",
     "traceback": [
      "\u001b[1;31m---------------------------------------------------------------------------\u001b[0m",
      "\u001b[1;31mNameError\u001b[0m                                 Traceback (most recent call last)",
      "Cell \u001b[1;32mIn[50], line 16\u001b[0m\n\u001b[0;32m     14\u001b[0m \u001b[38;5;28mprint\u001b[39m(\u001b[38;5;124m\"\u001b[39m\u001b[38;5;124mAC/DC\u001b[39m\u001b[38;5;124m'\u001b[39m\u001b[38;5;124ms rating is: \u001b[39m\u001b[38;5;124m\"\u001b[39m, getBandRating(\u001b[38;5;124m\"\u001b[39m\u001b[38;5;124mAC/DC\u001b[39m\u001b[38;5;124m\"\u001b[39m))\n\u001b[0;32m     15\u001b[0m \u001b[38;5;28mprint\u001b[39m(\u001b[38;5;124m\"\u001b[39m\u001b[38;5;124mDeep Purple\u001b[39m\u001b[38;5;124m'\u001b[39m\u001b[38;5;124ms rating is: \u001b[39m\u001b[38;5;124m\"\u001b[39m, getBandRating(\u001b[38;5;124m\"\u001b[39m\u001b[38;5;124mDeep Purple\u001b[39m\u001b[38;5;124m\"\u001b[39m))\n\u001b[1;32m---> 16\u001b[0m \u001b[38;5;28mprint\u001b[39m(\u001b[38;5;124m\"\u001b[39m\u001b[38;5;124mMy favourite band is\u001b[39m\u001b[38;5;124m\"\u001b[39m, myFavouriteBand)\n",
      "\u001b[1;31mNameError\u001b[0m: name 'myFavouriteBand' is not defined"
     ]
    }
   ],
   "source": [
    "# Bir yerel değişken örneği göstermek için önceki örnekten \"myFavouriteBand\" değişkenini silme \n",
    "\n",
    "del myFavouriteBand\n",
    "\n",
    "# Yerel değişken örneği\n",
    "\n",
    "def getBandRating(bandname):\n",
    "    myFavouriteBand = \"AC/DC\"\n",
    "    if bandname == myFavouriteBand:\n",
    "        return 10.0\n",
    "    else:\n",
    "        return 0.0\n",
    "\n",
    "print(\"AC/DC's rating is: \", getBandRating(\"AC/DC\"))\n",
    "print(\"Deep Purple's rating is: \", getBandRating(\"Deep Purple\"))\n",
    "print(\"My favourite band is\", myFavouriteBand)"
   ]
  },
  {
   "cell_type": "markdown",
   "id": "645b6492-5ff9-473b-8348-715c9df9c2d3",
   "metadata": {},
   "source": [
    "Son olarak, bu örneğe bir göz atın. Şimdi iki <code>myFavouriteBand</code> değişken tanımımız var. Bunlardan ilki global bir kapsama sahiptir ve ikincisi <code>getBandRating</code> fonksiyonu içinde yerel bir değişkendir. <code>getBandRating</code> işlevi içinde, yerel değişken önceliklidir. <code>getBandRating</code> işlevine aktarıldığında **Deep Purple** 10,0 derecelendirmesi alacaktır. Ancak, <code>getBandRating</code> işlevinin dışında, <code>getBandRating</code> yerel değişkeni tanımlı değildir, bu nedenle yazdırdığımız <code>myFavouriteBand</code> değişkeni, **AC/DC** değerine sahip global değişkendir:\n"
   ]
  },
  {
   "cell_type": "code",
   "execution_count": 51,
   "id": "f9db9bb7-8f61-476a-9ad4-121b58af176d",
   "metadata": {},
   "outputs": [
    {
     "name": "stdout",
     "output_type": "stream",
     "text": [
      "AC/DC's rating is: 0.0\n",
      "Deep Purple's rating is:  10.0\n",
      "My favourite band is: AC/DC\n"
     ]
    }
   ],
   "source": [
    "# Aynı ada sahip global değişken ve yerel değişken örneği\n",
    "\n",
    "myFavouriteBand = \"AC/DC\"\n",
    "\n",
    "def getBandRating(bandname):\n",
    "    myFavouriteBand = \"Deep Purple\"\n",
    "    if bandname == myFavouriteBand:\n",
    "        return 10.0\n",
    "    else:\n",
    "        return 0.0\n",
    "\n",
    "print(\"AC/DC's rating is:\",getBandRating(\"AC/DC\"))\n",
    "print(\"Deep Purple's rating is: \",getBandRating(\"Deep Purple\"))\n",
    "print(\"My favourite band is:\",myFavouriteBand)"
   ]
  },
  {
   "cell_type": "markdown",
   "id": "1f822e3d-c06a-4594-b8c6-55857db711ed",
   "metadata": {},
   "source": [
    "<hr>\n",
    "<h2 id =\"collec\"> Koleksiyonlar ve İşlevler</h2>\n"
   ]
  },
  {
   "cell_type": "markdown",
   "id": "8ddf4b7d-b26b-47f4-94fa-4b32693b7862",
   "metadata": {},
   "source": [
    "Bir fonksiyon için argüman sayısı bilinmediğinde, hepsi gösterildiği gibi bir tuple içinde paketlenebilir:"
   ]
  },
  {
   "cell_type": "code",
   "execution_count": 52,
   "id": "71c151ab-da72-4ded-a88f-de712e10fc19",
   "metadata": {},
   "outputs": [
    {
     "name": "stdout",
     "output_type": "stream",
     "text": [
      "No of arguments: 3\n",
      "Horsefeather\n",
      "Adonis\n",
      "Bone\n",
      "No of arguments: 4\n",
      "Sidecar\n",
      "Long Island\n",
      "Mudslide\n",
      "Carriage\n"
     ]
    }
   ],
   "source": [
    "def printAll(*args): # Tüm argümanlar bir tuple gibi ele alınabilen args içinde 'paketlenir'\n",
    "    print(\"No of arguments:\", len(args)) \n",
    "    for argument in args:\n",
    "        print(argument)\n",
    "#printAll with 3 arguments\n",
    "printAll('Horsefeather','Adonis','Bone')\n",
    "#printAll with 4 arguments\n",
    "printAll('Sidecar','Long Island','Mudslide','Carriage')"
   ]
  },
  {
   "cell_type": "markdown",
   "id": "10e4fda2-405d-4b05-a5f5-dd90ed83c5a2",
   "metadata": {},
   "source": [
    "Benzer şekilde, argümanlar da gösterildiği gibi bir sözlük içine paketlenebilir:"
   ]
  },
  {
   "cell_type": "code",
   "execution_count": 53,
   "id": "125594f6-c37e-4af5-984a-88f018802590",
   "metadata": {},
   "outputs": [
    {
     "name": "stdout",
     "output_type": "stream",
     "text": [
      "Country : Canada\n",
      "Province : Ontario\n",
      "City : Toronto\n"
     ]
    }
   ],
   "source": [
    "def printDictionary(**args):\n",
    "    for key in args:\n",
    "        print(key + \" : \" + args[key])\n",
    "\n",
    "printDictionary(Country='Canada',Province='Ontario',City='Toronto')\n",
    "    "
   ]
  },
  {
   "cell_type": "code",
   "execution_count": 54,
   "metadata": {},
   "outputs": [],
   "source": [
    "L=[1,3,2]"
   ]
  },
  {
   "cell_type": "code",
   "execution_count": 55,
   "metadata": {},
   "outputs": [
    {
     "data": {
      "text/plain": [
       "[1, 2, 3]"
      ]
     },
     "execution_count": 55,
     "metadata": {},
     "output_type": "execute_result"
    }
   ],
   "source": [
    "sorted(L) "
   ]
  },
  {
   "cell_type": "markdown",
   "id": "864d9d22-f8cc-4fcd-b3d0-c83a54b820de",
   "metadata": {},
   "source": [
    "Fonksiyonlar inanılmaz derecede güçlü ve çok yönlü olabilirler. Veri türlerini, nesneleri ve hatta diğer fonksiyonları argüman olarak kabul edebilirler (ve döndürebilirler). Aşağıdaki örneği düşünün:"
   ]
  },
  {
   "cell_type": "code",
   "execution_count": 56,
   "id": "734d319b-9478-449d-9389-4e020f7566b2",
   "metadata": {},
   "outputs": [
    {
     "data": {
      "text/plain": [
       "['One', 'Two', 'Three', 'Four']"
      ]
     },
     "execution_count": 56,
     "metadata": {},
     "output_type": "execute_result"
    }
   ],
   "source": [
    "def addItems(list):\n",
    "    list.append(\"Three\")\n",
    "    list.append(\"Four\")\n",
    "\n",
    "\n",
    "myList = [\"One\",\"Two\"]\n",
    "\n",
    "addItems(myList)\n",
    "\n",
    "myList\n",
    "    "
   ]
  },
  {
   "cell_type": "markdown",
   "id": "2eb1ecb0-e7fc-493a-852c-50d6dcc05cd3",
   "metadata": {},
   "source": [
    "Listede yapılan değişikliklerin fonksiyonun kapsamıyla sınırlı olmadığına dikkat edin. Bu, fonksiyona aktarılan listenin **referans** olmasından kaynaklanır - Yapılan herhangi bir değişiklik listenin orjinal örneği üzerindedir. Bu nedenle, değiştirilebilir nesneleri fonksiyonlara geçirirken dikkatli olunmalıdır.\n",
    "<hr>"
   ]
  },
  {
   "cell_type": "markdown",
   "id": "895d46d9-3307-4542-888e-d63118ef102d",
   "metadata": {},
   "source": [
    "<h2>Quiz on Functions</h2>\n"
   ]
  },
  {
   "cell_type": "markdown",
   "id": "31b6d2a8-975e-4719-9819-378b559b7c5a",
   "metadata": {},
   "source": [
    "Come up with a function that divides the first input by the second input:\n"
   ]
  },
  {
   "cell_type": "code",
   "execution_count": 59,
   "id": "b664089c-f3b2-47dd-b3ee-9bfb65f4bda8",
   "metadata": {},
   "outputs": [],
   "source": [
    "# Write your code below and press Shift+Enter to execute\n",
    "def divide(a,b):\n",
    "    return(a/b)"
   ]
  },
  {
   "cell_type": "markdown",
   "id": "a78c3636-65ac-4e84-9cf6-4d9e865b6d74",
   "metadata": {},
   "source": [
    "<details><summary>Click here for the solution</summary>\n",
    "\n",
    "```python\n",
    "def div(a, b):\n",
    "    return(a/b)\n",
    "    \n",
    "```\n",
    "\n",
    "</details>\n"
   ]
  },
  {
   "cell_type": "markdown",
   "id": "28f0f119-bf39-4e74-b607-62e716d1c11c",
   "metadata": {},
   "source": [
    "<hr>\n"
   ]
  },
  {
   "cell_type": "markdown",
   "id": "10a8abf5-f863-4081-b672-73f883ef6c0d",
   "metadata": {},
   "source": [
    "Use the function <code>con</code> for the following question.\n"
   ]
  },
  {
   "cell_type": "code",
   "execution_count": null,
   "id": "a354e7dc-41af-49f4-b816-6ff7e101a7ca",
   "metadata": {},
   "outputs": [],
   "source": [
    "# Use the con function for the following question\n",
    "\n",
    "def con(a, b):\n",
    "    return(a + b)"
   ]
  },
  {
   "cell_type": "markdown",
   "id": "653da421-5361-4ab8-a0d7-439b7564bdf4",
   "metadata": {},
   "source": [
    "Can the <code>con</code> function we defined before be used to add two integers or strings?\n"
   ]
  },
  {
   "cell_type": "code",
   "execution_count": null,
   "id": "f7ccf00c-af20-454f-b2a7-9a3b4545cf1e",
   "metadata": {},
   "outputs": [
    {
     "data": {
      "text/plain": [
       "'rabiaavcı'"
      ]
     },
     "execution_count": 60,
     "metadata": {},
     "output_type": "execute_result"
    }
   ],
   "source": [
    "# Write your code below and press Shift+Enter to execute\n",
    "con(\"rabia \",\"avcı\")"
   ]
  },
  {
   "cell_type": "markdown",
   "id": "b45ab1ff-4b72-466a-82e4-6dd959e0a105",
   "metadata": {},
   "source": [
    "<details><summary>Click here for the solution</summary>\n",
    "\n",
    "```python\n",
    "Yes, for example: \n",
    "con(2, 2)\n",
    "    \n",
    "```\n",
    "\n",
    "</details>\n"
   ]
  },
  {
   "cell_type": "markdown",
   "id": "75d73963-21bb-4c56-b2cd-aa17baec0071",
   "metadata": {},
   "source": [
    "<hr>\n"
   ]
  },
  {
   "cell_type": "markdown",
   "id": "ce84f793-f512-4523-80a3-2ec66cedc55a",
   "metadata": {},
   "source": [
    "Can the <code>con</code> function we defined before be used to concatenate lists or tuples?\n"
   ]
  },
  {
   "cell_type": "code",
   "execution_count": 61,
   "id": "2d35c0e1-a9c2-4e59-a50d-5afccc1de5a7",
   "metadata": {},
   "outputs": [
    {
     "data": {
      "text/plain": [
       "['rabia', 'tuana', 'avcı', 'avcı']"
      ]
     },
     "execution_count": 61,
     "metadata": {},
     "output_type": "execute_result"
    }
   ],
   "source": [
    "# Write your code below and press Shift+Enter to execute\n",
    "name = [\"rabia\",\"tuana\"]\n",
    "surname = [\"avcı\",\"avcı\"]\n",
    "con(name , surname)"
   ]
  },
  {
   "cell_type": "markdown",
   "id": "e89d9aab-b112-4129-ae0e-5578ea779d43",
   "metadata": {},
   "source": [
    "<details><summary>Click here for the solution</summary>\n",
    "\n",
    "```python\n",
    "Yes, for example: \n",
    "con(['a', 1], ['b', 1])\n",
    "    \n",
    "```\n",
    "\n",
    "</details>\n"
   ]
  },
  {
   "cell_type": "markdown",
   "id": "cbfc2c51-b7d1-40d0-9b1b-5032d288fff9",
   "metadata": {},
   "source": [
    "Write a function code to find total count of word `little` in the given string: \n",
    "`\"Mary had a little lamb Little lamb, little lamb Mary had a little lamb.Its fleece was white as snow And everywhere that Mary went Mary went, Mary went Everywhere that Mary went The lamb was sure to go\"**`\n"
   ]
  },
  {
   "cell_type": "code",
   "execution_count": 71,
   "id": "4fe184c1-9372-4a91-9fee-2600857247e8",
   "metadata": {},
   "outputs": [
    {
     "name": "stdout",
     "output_type": "stream",
     "text": [
      "Total Count {'little': 3}\n"
     ]
    }
   ],
   "source": [
    "# Write your code below and press Shift+Enter to execute\n",
    "text = \"Mary had a little lamb Little lamb, little lamb Mary had a little lamb.Its fleece was white as snow And everywhere that Mary went Mary went, Mary went Everywhere that Mary went The lamb was sure to go\"\n",
    "def total_count(text,passed_key):\n",
    "    words = []\n",
    "    dict = {}\n",
    "    words = text.split()\n",
    "    for word in words:\n",
    "        if word == passed_key:\n",
    "            dict[word] = words.count(word)\n",
    "    print(\"Total Count\",dict)\n",
    "        \n",
    "total_count(text,\"little\")\n"
   ]
  },
  {
   "cell_type": "markdown",
   "id": "3a28596b-5260-4fe7-905a-e5901d5261d8",
   "metadata": {},
   "source": [
    "<details><summary>Click here for the solution</summary>\n",
    "\n",
    "```python\n",
    "# Python Program to Count words in a String using Dictionary\n",
    "def freq(string,passedkey):\n",
    "\n",
    "    #step1: A list variable is declared and initialized to an empty list.\n",
    "    words = []\n",
    "\n",
    "    #step2: Break the string into list of words\n",
    "    words = string.split() # or string.lower().split()\n",
    "\n",
    "    #step3: Declare a dictionary\n",
    "    Dict = {}\n",
    "\n",
    "    #step4: Use for loop to iterate words and values to the dictionary\n",
    "    for key in words:\n",
    "        if(key == passedkey):\n",
    "            Dict[key] = words.count(key)   \n",
    "    #step5: Print the dictionary\n",
    "    print(\"Total Count:\",Dict)\n",
    "\n",
    "#step6: Call function and pass string in it\n",
    "freq(\"Mary had a little lamb Little lamb, little lamb Mary had a little lamb.Its fleece was white as snow And everywhere that Mary went Mary went, Mary went \\\n",
    "Everywhere that Mary went The lamb was sure to go\",\"little\")\n",
    "    \n",
    "```\n",
    "\n",
    "</details>\n"
   ]
  }
 ],
 "metadata": {
  "kernelspec": {
   "display_name": "base",
   "language": "python",
   "name": "python3"
  },
  "language_info": {
   "codemirror_mode": {
    "name": "ipython",
    "version": 3
   },
   "file_extension": ".py",
   "mimetype": "text/x-python",
   "name": "python",
   "nbconvert_exporter": "python",
   "pygments_lexer": "ipython3",
   "version": "3.12.4"
  }
 },
 "nbformat": 4,
 "nbformat_minor": 4
}
