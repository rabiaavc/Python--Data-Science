{
 "cells": [
  {
   "cell_type": "markdown",
   "metadata": {},
   "source": [
    "# Döngüler\n"
   ]
  },
  {
   "cell_type": "markdown",
   "metadata": {},
   "source": [
    "\n",
    "**Python'da while döngüsü ile for döngüsü arasındaki temel fark, yürütme akışını nasıl kontrol ettikleri ve yinelemeleri nasıl ele aldıklarıdır.**"
   ]
  },
  {
   "cell_type": "markdown",
   "metadata": {},
   "source": [
    "### While Döngüsünün kilit noktası:\n",
    "\n",
    "1. Bir while döngüsü, belirli bir koşul doğru olduğu sürece bir kod bloğunu tekrar tekrar yürütür.\n",
    "2. Sabit bir yineleme sayısı yoktur, ancak koşul yanlış olana kadar yürütmeye devam eder.\n",
    "3. Koşul her yinelemeden önce kontrol edilir ve başlangıçta yanlışsa kod bloğu tamamen atlanır.\n",
    "4. Koşul tipik olarak döngünün yürütülmesi sırasında değişebilen bir değişkene veya ifadeye dayanır.\n",
    "5. Dinamik koşullara dayalı olarak döngünün yürütülmesini kontrol etme açısından daha fazla esneklik sağlar."
   ]
  },
  {
   "cell_type": "markdown",
   "metadata": {},
   "source": [
    "### For Döngüsünün kilit noktası:\n",
    "\n",
    "1. Bir for döngüsü bir dizi (liste, dize veya aralık gibi) veya yinelemeyi destekleyen herhangi bir nesne üzerinde yineleme yapar.\n",
    "2. Dizinin uzunluğuna veya üzerinde yinelenecek öğe sayısına bağlı olarak önceden tanımlanmış bir yineleme sayısına sahiptir.\n",
    "3. Yinelemeyi otomatik olarak işler ve yineleme sayısını izlemek için ayrı bir değişken tutmayı gerektirmez.\n",
    "4. Yineleme mantığını döngünün kendi içinde kapsülleyerek kodu basitleştirir.\n",
    "5. Genellikle tam yineleme sayısını bildiğinizde veya bir koleksiyondaki her öğe üzerinde yineleme yapmanız gerektiğinde kullanılır."
   ]
  },
  {
   "cell_type": "markdown",
   "metadata": {},
   "source": [
    "## For Döngüsü\n",
    "         \n",
    "for x in list, tuple, string :"
   ]
  },
  {
   "cell_type": "code",
   "execution_count": null,
   "metadata": {},
   "outputs": [],
   "source": [
    "a = \"m\" in \"mert mekatronik\"\n",
    "b = \"q\" in  \"mert mekatronik\"\n",
    "c =  2 in (1,2,3,4,5,6,7)\n",
    "d =  3 in [10,20,30,40,50]\n",
    "\n",
    "print(a,b,c,d)"
   ]
  },
  {
   "cell_type": "code",
   "execution_count": null,
   "metadata": {},
   "outputs": [],
   "source": [
    "sayilar = [1,2,3,4,5,6,7,8,9,10,11,12,13,14,15,16,17,18,19,20]\n",
    "\n",
    "for x in sayilar:\n",
    "    print(x**2)"
   ]
  },
  {
   "cell_type": "code",
   "execution_count": null,
   "metadata": {},
   "outputs": [],
   "source": [
    "liste_1 = [(1,8),(2,7),(3,6),(4,5)]\n",
    "\n",
    "for x in liste_1:\n",
    "    print(x[0],x[1]) # x tuple tutuyor\n",
    "print(\"----------------\")\n",
    "for x,y in liste_1:\n",
    "    print(x,y)"
   ]
  },
  {
   "cell_type": "code",
   "execution_count": null,
   "metadata": {},
   "outputs": [],
   "source": [
    "playlist = {\n",
    "    \"The Weekend\" :\"Blinding Lights\",\n",
    "    \"Beirut\" :\"Vagabond\",\n",
    "    \"Joji\" : \"Slow Dancing in the Dark\",\n",
    "    \"Skeeter Davis\" :\"The End of The World\"\n",
    "}\n",
    "\n",
    "for x in playlist.keys():\n",
    "    print(x)\n",
    "\n",
    "for sanatci,sarki in playlist.items(): # değerlerin olduğu bir tuple döndürecek\n",
    "    print(sanatci,sarki)\n"
   ]
  },
  {
   "cell_type": "markdown",
   "metadata": {},
   "source": [
    "## While Döngüsü "
   ]
  },
  {
   "cell_type": "code",
   "execution_count": null,
   "metadata": {},
   "outputs": [],
   "source": [
    "liste = [1,2,\"rabia\",5,6,\"mekatronik\",True]\n",
    "\n",
    "liste_uzunluk = len(liste)\n",
    "\n",
    "sayac = 0\n",
    "\n",
    "while sayac<liste_uzunluk:\n",
    "    print(liste[sayac])\n",
    "    sayac += 1"
   ]
  },
  {
   "cell_type": "code",
   "execution_count": null,
   "metadata": {},
   "outputs": [],
   "source": [
    "import random\n",
    "\n",
    "yazi = 0\n",
    "tura = 0\n",
    "paraYuzeyi = [\"yazi\",\"tura\"]\n",
    "atilacak_para = int(input(\"atılacak para sayısını giriniz:  \"))\n",
    "\n",
    "while atilacak_para > 0:\n",
    "    paraUstu = random.choice(paraYuzeyi)\n",
    "    if paraUstu  == \"yazi\":\n",
    "        yazi +=1\n",
    "        print(\"yazi geldi\")\n",
    "    else:\n",
    "        tura += 1\n",
    "        print(\"tura geldi\")\n",
    "\n",
    "    atilacak_para -=1\n",
    "print(\"tura sayısı: {}\\nyazi sayısı {}\".format(tura,yazi))"
   ]
  },
  {
   "cell_type": "markdown",
   "metadata": {},
   "source": [
    "## range()\n",
    "range(parametre:bitiş)\n",
    "\n",
    "range(parametre:başlangış,parametre:bitiş\n",
    "\n",
    "range(parametre:başlangıç,parametre:bitiş,parametre:atlama)"
   ]
  },
  {
   "cell_type": "markdown",
   "metadata": {},
   "source": [
    "### range(parametre:bitiş)"
   ]
  },
  {
   "cell_type": "code",
   "execution_count": null,
   "metadata": {},
   "outputs": [],
   "source": [
    "for sayi in range(10000):\n",
    "    print(sayi)"
   ]
  },
  {
   "cell_type": "markdown",
   "metadata": {},
   "source": [
    "### range(parametre:başlangıç,parametre:bitiş)"
   ]
  },
  {
   "cell_type": "code",
   "execution_count": null,
   "metadata": {},
   "outputs": [],
   "source": [
    "for i in range(20,1000):\n",
    "    print(i)"
   ]
  },
  {
   "cell_type": "markdown",
   "metadata": {},
   "source": [
    "### range(parametre:başlangç,parametre:bitiş,parametre:adım)"
   ]
  },
  {
   "cell_type": "code",
   "execution_count": null,
   "metadata": {},
   "outputs": [],
   "source": [
    "for i in range(100,1000,5):\n",
    "    print(i)"
   ]
  },
  {
   "cell_type": "code",
   "execution_count": null,
   "metadata": {},
   "outputs": [],
   "source": [
    "sayi = int(input(\"Asal asayı sınırını yazınız\"))\n",
    "k = 2\n",
    "asal = [2]\n",
    "for i in range(3,sayi +1):\n",
    "    while k<=i:\n",
    "        if i % k == 0 and i == k:\n",
    "            asal.append(i)\n",
    "        else:\n",
    "            k += 1\n",
    "\n",
    "print(asal)"
   ]
  },
  {
   "cell_type": "code",
   "execution_count": null,
   "metadata": {},
   "outputs": [],
   "source": [
    "sayi = int(input(\"Asal sayıyı sınırını yazınız: \"))\n",
    "\n",
    "if sayi >= 2 :\n",
    "        asal = [2] \n",
    "else:\n",
    "     []  # Eğer 2'den küçük bir sayı girilirse liste boş olabilir\n",
    "\n",
    "for i in range(3, sayi + 1, 2):  # Çift sayıları kontrol etmeye gerek yok, çünkü çiftlerin sadece 2'si asal\n",
    "    k = 2  # Her yeni `i` değeri için `k` tekrar 2'ye sıfırlanmalı\n",
    "    while k * k <= i:  # Sadece `√i`'ye kadar olan sayıları kontrol etmek yeterli\n",
    "        if i % k == 0:\n",
    "            break  # Eğer `i` bir böleni varsa asal değildir, döngüden çık\n",
    "        k += 1\n",
    "    else:\n",
    "        asal.append(i)  # Eğer hiç bölünmediyse asaldır, listeye ekle\n",
    "\n",
    "print(asal)"
   ]
  },
  {
   "cell_type": "code",
   "execution_count": null,
   "metadata": {},
   "outputs": [],
   "source": [
    "def asal_mi(sayi):\n",
    "    for i in range(2,sayi):\n",
    "        if sayi % i == 0:\n",
    "            return False\n",
    "\n",
    "    return True\n",
    "\n",
    "sayi = int(input(\"Sayi giriniz: \"))\n",
    "asal_sayilar = []\n",
    " \n",
    "for i in range(2,sayi+1):\n",
    "    if asal_mi(i):\n",
    "        asal_sayilar.append(i)\n",
    "\n",
    "print(asal_sayilar)"
   ]
  },
  {
   "cell_type": "markdown",
   "metadata": {},
   "source": [
    "## List Compression"
   ]
  },
  {
   "cell_type": "code",
   "execution_count": null,
   "metadata": {},
   "outputs": [],
   "source": [
    "sayilar = []\n",
    "for i in range(1,100000):\n",
    "    if i % 2 == 0 and i % 3 == 0 :\n",
    "        sayilar.append(i)\n",
    "print(sayilar)"
   ]
  },
  {
   "cell_type": "code",
   "execution_count": null,
   "metadata": {},
   "outputs": [],
   "source": [
    "sayilar = [x for x in range(1,100000) if x % 2 == 0 and x % 3 == 0]\n",
    "print(sayilar)"
   ]
  },
  {
   "cell_type": "code",
   "execution_count": null,
   "metadata": {},
   "outputs": [],
   "source": [
    "kisiler = [\"rabia\",\"tuana\",\"mustafa\",\"hava\"]\n",
    "\n",
    "m_ile_başlayanlar = [kisi for kisi in kisiler if kisi[0] == \"m\" or kisi[0] == \"M\"]\n",
    "\n",
    "print(m_ile_başlayanlar)"
   ]
  },
  {
   "cell_type": "code",
   "execution_count": null,
   "metadata": {},
   "outputs": [],
   "source": [
    "sayi = int(input(\"Bir pozitif tam sayı giriniz: \"))\n",
    "factorial = 1\n",
    "for i in range(1,sayi+1):\n",
    "    factorial = factorial * i\n",
    "\n",
    "print(\"{}! = {}\" .format(sayi,factorial))"
   ]
  },
  {
   "cell_type": "markdown",
   "metadata": {},
   "source": [
    " Bir listenin indeksine ve elemanlarına aşağıdaki şekilde erişebiliriz: "
   ]
  },
  {
   "cell_type": "code",
   "execution_count": null,
   "metadata": {},
   "outputs": [],
   "source": [
    "# Liste boyunca döngü ve hem indeks hem de eleman değeri üzerinde yineleme\n",
    "\n",
    "squares=['red', 'yellow', 'green', 'purple', 'blue']\n",
    "\n",
    "for i, square in enumerate(squares):\n",
    "    print(i, square)"
   ]
  }
 ],
 "metadata": {
  "kernelspec": {
   "display_name": "base",
   "language": "python",
   "name": "python3"
  },
  "language_info": {
   "codemirror_mode": {
    "name": "ipython",
    "version": 3
   },
   "file_extension": ".py",
   "mimetype": "text/x-python",
   "name": "python",
   "nbconvert_exporter": "python",
   "pygments_lexer": "ipython3",
   "version": "3.12.4"
  }
 },
 "nbformat": 4,
 "nbformat_minor": 2
}
